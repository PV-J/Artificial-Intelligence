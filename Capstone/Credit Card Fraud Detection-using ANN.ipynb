{
 "cells": [
  {
   "cell_type": "code",
   "execution_count": 1,
   "metadata": {
    "_cell_guid": "b1076dfc-b9ad-4769-8c92-a6c4dae69d19",
    "_uuid": "8f2839f25d086af736a60e9eeb907d3b93b6e0e5"
   },
   "outputs": [
    {
     "name": "stdout",
     "output_type": "stream",
     "text": [
      "Imported successfully\n"
     ]
    }
   ],
   "source": [
    "#importing libraries\n",
    "\n",
    "import numpy as np # linear algebra\n",
    "import pandas as pd # data processing, CSV file I/O (e.g. pd.read_csv)\n",
    "from math import sqrt\n",
    "\n",
    "import sklearn.utils\n",
    "from sklearn.preprocessing import RobustScaler #Scaling the features\n",
    "from sklearn.model_selection import StratifiedShuffleSplit #Splitting the dataset\n",
    "from sklearn.metrics import accuracy_score, classification_report, confusion_matrix, make_scorer, precision_score, recall_score, f1_score, roc_auc_score, roc_curve, precision_recall_curve, average_precision_score, auc\n",
    "from sklearn.model_selection import GridSearchCV #hyperparameter tuning\n",
    "from sklearn.decomposition import PCA\n",
    "\n",
    "#Visual Analysis\n",
    "%matplotlib inline\n",
    "import matplotlib.pyplot as plt\n",
    "from matplotlib import rcParams\n",
    "import seaborn as sns\n",
    "import IPython\n",
    "\n",
    "from imblearn.over_sampling import ADASYN #Adaptive Synthetic Oversampling\n",
    "from collections import Counter\n",
    "from scipy import stats\n",
    "\n",
    "#Neural Networks implementation\n",
    "import keras\n",
    "import tensorflow as tf\n",
    "from keras import backend as K\n",
    "from keras.models import Sequential\n",
    "from keras.layers import Dense, Dropout\n",
    "from keras.optimizers import Adam\n",
    "from keras.wrappers.scikit_learn import KerasClassifier\n",
    "from keras.constraints import maxnorm\n",
    "from keras.utils.vis_utils import plot_model\n",
    "\n",
    "import warnings\n",
    "warnings.filterwarnings('ignore')\n",
    "\n",
    "print('Imported successfully')"
   ]
  },
  {
   "cell_type": "markdown",
   "metadata": {
    "_uuid": "688cfbf93de7e58bc5812f0fd4269d3214111dd5"
   },
   "source": [
    "#DATASET ANALYSIS AND PREPROCESSING"
   ]
  },
  {
   "cell_type": "code",
   "execution_count": 2,
   "metadata": {
    "_cell_guid": "79c7e3d0-c299-4dcb-8224-4455121ee9b0",
    "_uuid": "d629ff2d2480ee46fbb7e2d37f6b5fab8052498a"
   },
   "outputs": [
    {
     "data": {
      "text/html": [
       "<div>\n",
       "<style scoped>\n",
       "    .dataframe tbody tr th:only-of-type {\n",
       "        vertical-align: middle;\n",
       "    }\n",
       "\n",
       "    .dataframe tbody tr th {\n",
       "        vertical-align: top;\n",
       "    }\n",
       "\n",
       "    .dataframe thead th {\n",
       "        text-align: right;\n",
       "    }\n",
       "</style>\n",
       "<table border=\"1\" class=\"dataframe\">\n",
       "  <thead>\n",
       "    <tr style=\"text-align: right;\">\n",
       "      <th></th>\n",
       "      <th>Time</th>\n",
       "      <th>V1</th>\n",
       "      <th>V2</th>\n",
       "      <th>V3</th>\n",
       "      <th>V4</th>\n",
       "      <th>V5</th>\n",
       "      <th>V6</th>\n",
       "      <th>V7</th>\n",
       "      <th>V8</th>\n",
       "      <th>V9</th>\n",
       "      <th>...</th>\n",
       "      <th>V21</th>\n",
       "      <th>V22</th>\n",
       "      <th>V23</th>\n",
       "      <th>V24</th>\n",
       "      <th>V25</th>\n",
       "      <th>V26</th>\n",
       "      <th>V27</th>\n",
       "      <th>V28</th>\n",
       "      <th>Amount</th>\n",
       "      <th>Class</th>\n",
       "    </tr>\n",
       "  </thead>\n",
       "  <tbody>\n",
       "    <tr>\n",
       "      <th>0</th>\n",
       "      <td>38355.0</td>\n",
       "      <td>1.043949</td>\n",
       "      <td>0.318555</td>\n",
       "      <td>1.045810</td>\n",
       "      <td>2.805989</td>\n",
       "      <td>-0.561113</td>\n",
       "      <td>-0.367956</td>\n",
       "      <td>0.032736</td>\n",
       "      <td>-0.042333</td>\n",
       "      <td>-0.322674</td>\n",
       "      <td>...</td>\n",
       "      <td>-0.240105</td>\n",
       "      <td>-0.680315</td>\n",
       "      <td>0.085328</td>\n",
       "      <td>0.684812</td>\n",
       "      <td>0.318620</td>\n",
       "      <td>-0.204963</td>\n",
       "      <td>0.001662</td>\n",
       "      <td>0.037894</td>\n",
       "      <td>49.67</td>\n",
       "      <td>0</td>\n",
       "    </tr>\n",
       "    <tr>\n",
       "      <th>1</th>\n",
       "      <td>22555.0</td>\n",
       "      <td>-1.665159</td>\n",
       "      <td>0.808440</td>\n",
       "      <td>1.805627</td>\n",
       "      <td>1.903416</td>\n",
       "      <td>-0.821627</td>\n",
       "      <td>0.934790</td>\n",
       "      <td>-0.824802</td>\n",
       "      <td>0.975890</td>\n",
       "      <td>1.747469</td>\n",
       "      <td>...</td>\n",
       "      <td>-0.335332</td>\n",
       "      <td>-0.510994</td>\n",
       "      <td>0.035839</td>\n",
       "      <td>0.147565</td>\n",
       "      <td>-0.529358</td>\n",
       "      <td>-0.566950</td>\n",
       "      <td>-0.595998</td>\n",
       "      <td>-0.220086</td>\n",
       "      <td>16.94</td>\n",
       "      <td>0</td>\n",
       "    </tr>\n",
       "    <tr>\n",
       "      <th>2</th>\n",
       "      <td>2431.0</td>\n",
       "      <td>-0.324096</td>\n",
       "      <td>0.601836</td>\n",
       "      <td>0.865329</td>\n",
       "      <td>-2.138000</td>\n",
       "      <td>0.294663</td>\n",
       "      <td>-1.251553</td>\n",
       "      <td>1.072114</td>\n",
       "      <td>-0.334896</td>\n",
       "      <td>1.071268</td>\n",
       "      <td>...</td>\n",
       "      <td>0.012220</td>\n",
       "      <td>0.352856</td>\n",
       "      <td>-0.341505</td>\n",
       "      <td>-0.145791</td>\n",
       "      <td>0.094194</td>\n",
       "      <td>-0.804026</td>\n",
       "      <td>0.229428</td>\n",
       "      <td>-0.021623</td>\n",
       "      <td>1.00</td>\n",
       "      <td>0</td>\n",
       "    </tr>\n",
       "    <tr>\n",
       "      <th>3</th>\n",
       "      <td>86773.0</td>\n",
       "      <td>-0.258270</td>\n",
       "      <td>1.217501</td>\n",
       "      <td>-0.585348</td>\n",
       "      <td>-0.875347</td>\n",
       "      <td>1.222481</td>\n",
       "      <td>-0.311027</td>\n",
       "      <td>1.073860</td>\n",
       "      <td>-0.161408</td>\n",
       "      <td>0.200665</td>\n",
       "      <td>...</td>\n",
       "      <td>-0.424626</td>\n",
       "      <td>-0.781158</td>\n",
       "      <td>0.019316</td>\n",
       "      <td>0.178614</td>\n",
       "      <td>-0.315616</td>\n",
       "      <td>0.096665</td>\n",
       "      <td>0.269740</td>\n",
       "      <td>-0.020635</td>\n",
       "      <td>10.78</td>\n",
       "      <td>0</td>\n",
       "    </tr>\n",
       "    <tr>\n",
       "      <th>4</th>\n",
       "      <td>127202.0</td>\n",
       "      <td>2.142162</td>\n",
       "      <td>-0.494988</td>\n",
       "      <td>-1.936511</td>\n",
       "      <td>-0.818288</td>\n",
       "      <td>-0.025213</td>\n",
       "      <td>-1.027245</td>\n",
       "      <td>-0.151627</td>\n",
       "      <td>-0.305750</td>\n",
       "      <td>-0.869482</td>\n",
       "      <td>...</td>\n",
       "      <td>0.010115</td>\n",
       "      <td>0.021722</td>\n",
       "      <td>0.079463</td>\n",
       "      <td>-0.480899</td>\n",
       "      <td>0.023846</td>\n",
       "      <td>-0.279076</td>\n",
       "      <td>-0.030121</td>\n",
       "      <td>-0.043888</td>\n",
       "      <td>39.96</td>\n",
       "      <td>0</td>\n",
       "    </tr>\n",
       "  </tbody>\n",
       "</table>\n",
       "<p>5 rows × 31 columns</p>\n",
       "</div>"
      ],
      "text/plain": [
       "       Time        V1        V2        V3        V4        V5        V6  \\\n",
       "0   38355.0  1.043949  0.318555  1.045810  2.805989 -0.561113 -0.367956   \n",
       "1   22555.0 -1.665159  0.808440  1.805627  1.903416 -0.821627  0.934790   \n",
       "2    2431.0 -0.324096  0.601836  0.865329 -2.138000  0.294663 -1.251553   \n",
       "3   86773.0 -0.258270  1.217501 -0.585348 -0.875347  1.222481 -0.311027   \n",
       "4  127202.0  2.142162 -0.494988 -1.936511 -0.818288 -0.025213 -1.027245   \n",
       "\n",
       "         V7        V8        V9  ...       V21       V22       V23       V24  \\\n",
       "0  0.032736 -0.042333 -0.322674  ... -0.240105 -0.680315  0.085328  0.684812   \n",
       "1 -0.824802  0.975890  1.747469  ... -0.335332 -0.510994  0.035839  0.147565   \n",
       "2  1.072114 -0.334896  1.071268  ...  0.012220  0.352856 -0.341505 -0.145791   \n",
       "3  1.073860 -0.161408  0.200665  ... -0.424626 -0.781158  0.019316  0.178614   \n",
       "4 -0.151627 -0.305750 -0.869482  ...  0.010115  0.021722  0.079463 -0.480899   \n",
       "\n",
       "        V25       V26       V27       V28  Amount  Class  \n",
       "0  0.318620 -0.204963  0.001662  0.037894   49.67      0  \n",
       "1 -0.529358 -0.566950 -0.595998 -0.220086   16.94      0  \n",
       "2  0.094194 -0.804026  0.229428 -0.021623    1.00      0  \n",
       "3 -0.315616  0.096665  0.269740 -0.020635   10.78      0  \n",
       "4  0.023846 -0.279076 -0.030121 -0.043888   39.96      0  \n",
       "\n",
       "[5 rows x 31 columns]"
      ]
     },
     "execution_count": 2,
     "metadata": {},
     "output_type": "execute_result"
    }
   ],
   "source": [
    "#Loading data in a dataframe 'creditcard_data' and using head() to display the first 5 instances.\n",
    "df_train_original = pd.read_csv('train_data.csv')\n",
    "df_train_hidden = pd.read_csv('test_data_hidden.csv')\n",
    "df_test = pd.read_csv('test_data.csv')\n",
    "frame = [df_train_original,df_train_hidden]\n",
    "creditcard_data = pd.concat(frame)\n",
    "creditcard_data.head()"
   ]
  },
  {
   "cell_type": "code",
   "execution_count": 3,
   "metadata": {
    "_uuid": "8839a473606eb81d88eb141e7d8b6a1ff9f51e4d"
   },
   "outputs": [
    {
     "data": {
      "text/html": [
       "<div>\n",
       "<style scoped>\n",
       "    .dataframe tbody tr th:only-of-type {\n",
       "        vertical-align: middle;\n",
       "    }\n",
       "\n",
       "    .dataframe tbody tr th {\n",
       "        vertical-align: top;\n",
       "    }\n",
       "\n",
       "    .dataframe thead th {\n",
       "        text-align: right;\n",
       "    }\n",
       "</style>\n",
       "<table border=\"1\" class=\"dataframe\">\n",
       "  <thead>\n",
       "    <tr style=\"text-align: right;\">\n",
       "      <th></th>\n",
       "      <th>Time</th>\n",
       "      <th>V1</th>\n",
       "      <th>V2</th>\n",
       "      <th>V3</th>\n",
       "      <th>V4</th>\n",
       "      <th>V5</th>\n",
       "      <th>V6</th>\n",
       "      <th>V7</th>\n",
       "      <th>V8</th>\n",
       "      <th>V9</th>\n",
       "      <th>...</th>\n",
       "      <th>V21</th>\n",
       "      <th>V22</th>\n",
       "      <th>V23</th>\n",
       "      <th>V24</th>\n",
       "      <th>V25</th>\n",
       "      <th>V26</th>\n",
       "      <th>V27</th>\n",
       "      <th>V28</th>\n",
       "      <th>Amount</th>\n",
       "      <th>Class</th>\n",
       "    </tr>\n",
       "  </thead>\n",
       "  <tbody>\n",
       "    <tr>\n",
       "      <th>0</th>\n",
       "      <td>38355.0</td>\n",
       "      <td>1.043949</td>\n",
       "      <td>0.318555</td>\n",
       "      <td>1.045810</td>\n",
       "      <td>2.805989</td>\n",
       "      <td>-0.561113</td>\n",
       "      <td>-0.367956</td>\n",
       "      <td>0.032736</td>\n",
       "      <td>-0.042333</td>\n",
       "      <td>-0.322674</td>\n",
       "      <td>...</td>\n",
       "      <td>-0.240105</td>\n",
       "      <td>-0.680315</td>\n",
       "      <td>0.085328</td>\n",
       "      <td>0.684812</td>\n",
       "      <td>0.318620</td>\n",
       "      <td>-0.204963</td>\n",
       "      <td>0.001662</td>\n",
       "      <td>0.037894</td>\n",
       "      <td>49.67</td>\n",
       "      <td>0</td>\n",
       "    </tr>\n",
       "    <tr>\n",
       "      <th>1</th>\n",
       "      <td>22555.0</td>\n",
       "      <td>-1.665159</td>\n",
       "      <td>0.808440</td>\n",
       "      <td>1.805627</td>\n",
       "      <td>1.903416</td>\n",
       "      <td>-0.821627</td>\n",
       "      <td>0.934790</td>\n",
       "      <td>-0.824802</td>\n",
       "      <td>0.975890</td>\n",
       "      <td>1.747469</td>\n",
       "      <td>...</td>\n",
       "      <td>-0.335332</td>\n",
       "      <td>-0.510994</td>\n",
       "      <td>0.035839</td>\n",
       "      <td>0.147565</td>\n",
       "      <td>-0.529358</td>\n",
       "      <td>-0.566950</td>\n",
       "      <td>-0.595998</td>\n",
       "      <td>-0.220086</td>\n",
       "      <td>16.94</td>\n",
       "      <td>0</td>\n",
       "    </tr>\n",
       "    <tr>\n",
       "      <th>2</th>\n",
       "      <td>2431.0</td>\n",
       "      <td>-0.324096</td>\n",
       "      <td>0.601836</td>\n",
       "      <td>0.865329</td>\n",
       "      <td>-2.138000</td>\n",
       "      <td>0.294663</td>\n",
       "      <td>-1.251553</td>\n",
       "      <td>1.072114</td>\n",
       "      <td>-0.334896</td>\n",
       "      <td>1.071268</td>\n",
       "      <td>...</td>\n",
       "      <td>0.012220</td>\n",
       "      <td>0.352856</td>\n",
       "      <td>-0.341505</td>\n",
       "      <td>-0.145791</td>\n",
       "      <td>0.094194</td>\n",
       "      <td>-0.804026</td>\n",
       "      <td>0.229428</td>\n",
       "      <td>-0.021623</td>\n",
       "      <td>1.00</td>\n",
       "      <td>0</td>\n",
       "    </tr>\n",
       "    <tr>\n",
       "      <th>3</th>\n",
       "      <td>86773.0</td>\n",
       "      <td>-0.258270</td>\n",
       "      <td>1.217501</td>\n",
       "      <td>-0.585348</td>\n",
       "      <td>-0.875347</td>\n",
       "      <td>1.222481</td>\n",
       "      <td>-0.311027</td>\n",
       "      <td>1.073860</td>\n",
       "      <td>-0.161408</td>\n",
       "      <td>0.200665</td>\n",
       "      <td>...</td>\n",
       "      <td>-0.424626</td>\n",
       "      <td>-0.781158</td>\n",
       "      <td>0.019316</td>\n",
       "      <td>0.178614</td>\n",
       "      <td>-0.315616</td>\n",
       "      <td>0.096665</td>\n",
       "      <td>0.269740</td>\n",
       "      <td>-0.020635</td>\n",
       "      <td>10.78</td>\n",
       "      <td>0</td>\n",
       "    </tr>\n",
       "    <tr>\n",
       "      <th>4</th>\n",
       "      <td>127202.0</td>\n",
       "      <td>2.142162</td>\n",
       "      <td>-0.494988</td>\n",
       "      <td>-1.936511</td>\n",
       "      <td>-0.818288</td>\n",
       "      <td>-0.025213</td>\n",
       "      <td>-1.027245</td>\n",
       "      <td>-0.151627</td>\n",
       "      <td>-0.305750</td>\n",
       "      <td>-0.869482</td>\n",
       "      <td>...</td>\n",
       "      <td>0.010115</td>\n",
       "      <td>0.021722</td>\n",
       "      <td>0.079463</td>\n",
       "      <td>-0.480899</td>\n",
       "      <td>0.023846</td>\n",
       "      <td>-0.279076</td>\n",
       "      <td>-0.030121</td>\n",
       "      <td>-0.043888</td>\n",
       "      <td>39.96</td>\n",
       "      <td>0</td>\n",
       "    </tr>\n",
       "    <tr>\n",
       "      <th>5</th>\n",
       "      <td>37590.0</td>\n",
       "      <td>-6.341667</td>\n",
       "      <td>1.192815</td>\n",
       "      <td>-3.686579</td>\n",
       "      <td>-2.754006</td>\n",
       "      <td>-5.007164</td>\n",
       "      <td>3.988118</td>\n",
       "      <td>1.693606</td>\n",
       "      <td>-13.577522</td>\n",
       "      <td>2.557965</td>\n",
       "      <td>...</td>\n",
       "      <td>9.779321</td>\n",
       "      <td>-3.660198</td>\n",
       "      <td>-1.507217</td>\n",
       "      <td>-0.179185</td>\n",
       "      <td>0.002092</td>\n",
       "      <td>-0.019168</td>\n",
       "      <td>3.611243</td>\n",
       "      <td>-0.894494</td>\n",
       "      <td>1437.08</td>\n",
       "      <td>0</td>\n",
       "    </tr>\n",
       "    <tr>\n",
       "      <th>6</th>\n",
       "      <td>56739.0</td>\n",
       "      <td>-0.463928</td>\n",
       "      <td>0.204745</td>\n",
       "      <td>2.795734</td>\n",
       "      <td>1.546200</td>\n",
       "      <td>-0.720374</td>\n",
       "      <td>1.108212</td>\n",
       "      <td>-0.581133</td>\n",
       "      <td>0.544075</td>\n",
       "      <td>1.099843</td>\n",
       "      <td>...</td>\n",
       "      <td>0.094431</td>\n",
       "      <td>0.788161</td>\n",
       "      <td>-0.100344</td>\n",
       "      <td>0.126248</td>\n",
       "      <td>-0.461584</td>\n",
       "      <td>-0.200985</td>\n",
       "      <td>0.280168</td>\n",
       "      <td>0.180046</td>\n",
       "      <td>11.10</td>\n",
       "      <td>0</td>\n",
       "    </tr>\n",
       "    <tr>\n",
       "      <th>7</th>\n",
       "      <td>912.0</td>\n",
       "      <td>-1.394619</td>\n",
       "      <td>0.554224</td>\n",
       "      <td>-0.617805</td>\n",
       "      <td>-0.313706</td>\n",
       "      <td>2.157413</td>\n",
       "      <td>3.537534</td>\n",
       "      <td>-0.567305</td>\n",
       "      <td>1.380888</td>\n",
       "      <td>-0.112291</td>\n",
       "      <td>...</td>\n",
       "      <td>-0.196300</td>\n",
       "      <td>-0.546172</td>\n",
       "      <td>-0.124758</td>\n",
       "      <td>1.046780</td>\n",
       "      <td>-0.089474</td>\n",
       "      <td>0.363674</td>\n",
       "      <td>0.215692</td>\n",
       "      <td>0.225698</td>\n",
       "      <td>24.08</td>\n",
       "      <td>0</td>\n",
       "    </tr>\n",
       "    <tr>\n",
       "      <th>8</th>\n",
       "      <td>171058.0</td>\n",
       "      <td>-2.121785</td>\n",
       "      <td>-1.518485</td>\n",
       "      <td>2.667942</td>\n",
       "      <td>-2.458839</td>\n",
       "      <td>-1.414952</td>\n",
       "      <td>0.807935</td>\n",
       "      <td>-1.870160</td>\n",
       "      <td>0.516477</td>\n",
       "      <td>-0.553359</td>\n",
       "      <td>...</td>\n",
       "      <td>-0.079591</td>\n",
       "      <td>0.659885</td>\n",
       "      <td>-1.000976</td>\n",
       "      <td>-0.212991</td>\n",
       "      <td>0.420722</td>\n",
       "      <td>-0.019645</td>\n",
       "      <td>-0.482792</td>\n",
       "      <td>-0.407780</td>\n",
       "      <td>28.00</td>\n",
       "      <td>0</td>\n",
       "    </tr>\n",
       "    <tr>\n",
       "      <th>9</th>\n",
       "      <td>79450.0</td>\n",
       "      <td>-2.254788</td>\n",
       "      <td>-0.955967</td>\n",
       "      <td>0.590596</td>\n",
       "      <td>0.114744</td>\n",
       "      <td>-5.876531</td>\n",
       "      <td>3.364858</td>\n",
       "      <td>6.365904</td>\n",
       "      <td>-1.252960</td>\n",
       "      <td>0.243849</td>\n",
       "      <td>...</td>\n",
       "      <td>-0.601908</td>\n",
       "      <td>-0.092918</td>\n",
       "      <td>0.517855</td>\n",
       "      <td>0.534361</td>\n",
       "      <td>0.494493</td>\n",
       "      <td>0.301414</td>\n",
       "      <td>0.507071</td>\n",
       "      <td>-0.560888</td>\n",
       "      <td>1354.98</td>\n",
       "      <td>0</td>\n",
       "    </tr>\n",
       "    <tr>\n",
       "      <th>10</th>\n",
       "      <td>171005.0</td>\n",
       "      <td>2.122316</td>\n",
       "      <td>-0.962503</td>\n",
       "      <td>-2.525940</td>\n",
       "      <td>-1.676110</td>\n",
       "      <td>1.626630</td>\n",
       "      <td>3.408812</td>\n",
       "      <td>-1.529461</td>\n",
       "      <td>0.941478</td>\n",
       "      <td>-0.095372</td>\n",
       "      <td>...</td>\n",
       "      <td>0.238221</td>\n",
       "      <td>0.661569</td>\n",
       "      <td>0.142103</td>\n",
       "      <td>0.604128</td>\n",
       "      <td>-0.112563</td>\n",
       "      <td>-0.067314</td>\n",
       "      <td>0.048173</td>\n",
       "      <td>-0.017584</td>\n",
       "      <td>19.95</td>\n",
       "      <td>0</td>\n",
       "    </tr>\n",
       "    <tr>\n",
       "      <th>11</th>\n",
       "      <td>161495.0</td>\n",
       "      <td>2.116044</td>\n",
       "      <td>0.183036</td>\n",
       "      <td>-2.529054</td>\n",
       "      <td>-0.107332</td>\n",
       "      <td>1.018524</td>\n",
       "      <td>-1.199239</td>\n",
       "      <td>0.944602</td>\n",
       "      <td>-0.518320</td>\n",
       "      <td>-0.286752</td>\n",
       "      <td>...</td>\n",
       "      <td>0.338133</td>\n",
       "      <td>1.165151</td>\n",
       "      <td>-0.187835</td>\n",
       "      <td>0.885764</td>\n",
       "      <td>0.767772</td>\n",
       "      <td>0.401654</td>\n",
       "      <td>-0.105729</td>\n",
       "      <td>-0.091268</td>\n",
       "      <td>4.73</td>\n",
       "      <td>0</td>\n",
       "    </tr>\n",
       "    <tr>\n",
       "      <th>12</th>\n",
       "      <td>64729.0</td>\n",
       "      <td>1.202869</td>\n",
       "      <td>-0.480561</td>\n",
       "      <td>0.771509</td>\n",
       "      <td>-0.897333</td>\n",
       "      <td>-1.031278</td>\n",
       "      <td>-0.284446</td>\n",
       "      <td>-0.708919</td>\n",
       "      <td>0.134662</td>\n",
       "      <td>1.625075</td>\n",
       "      <td>...</td>\n",
       "      <td>0.174276</td>\n",
       "      <td>0.716104</td>\n",
       "      <td>-0.195189</td>\n",
       "      <td>0.052651</td>\n",
       "      <td>0.632512</td>\n",
       "      <td>-0.529605</td>\n",
       "      <td>0.087937</td>\n",
       "      <td>0.021587</td>\n",
       "      <td>14.00</td>\n",
       "      <td>0</td>\n",
       "    </tr>\n",
       "    <tr>\n",
       "      <th>13</th>\n",
       "      <td>131020.0</td>\n",
       "      <td>-0.567973</td>\n",
       "      <td>0.173283</td>\n",
       "      <td>-0.775160</td>\n",
       "      <td>-1.897183</td>\n",
       "      <td>-0.008732</td>\n",
       "      <td>0.238925</td>\n",
       "      <td>0.775363</td>\n",
       "      <td>0.186797</td>\n",
       "      <td>-1.433560</td>\n",
       "      <td>...</td>\n",
       "      <td>0.000154</td>\n",
       "      <td>0.402920</td>\n",
       "      <td>-0.416879</td>\n",
       "      <td>-1.353633</td>\n",
       "      <td>0.707663</td>\n",
       "      <td>-0.055010</td>\n",
       "      <td>-0.200360</td>\n",
       "      <td>-0.211460</td>\n",
       "      <td>158.00</td>\n",
       "      <td>0</td>\n",
       "    </tr>\n",
       "    <tr>\n",
       "      <th>14</th>\n",
       "      <td>30025.0</td>\n",
       "      <td>1.082087</td>\n",
       "      <td>-0.810980</td>\n",
       "      <td>-0.317811</td>\n",
       "      <td>0.196848</td>\n",
       "      <td>-0.408996</td>\n",
       "      <td>0.132170</td>\n",
       "      <td>-0.215980</td>\n",
       "      <td>-0.015172</td>\n",
       "      <td>-1.103389</td>\n",
       "      <td>...</td>\n",
       "      <td>-0.161099</td>\n",
       "      <td>-0.364356</td>\n",
       "      <td>-0.371329</td>\n",
       "      <td>-0.878380</td>\n",
       "      <td>0.692790</td>\n",
       "      <td>-0.176015</td>\n",
       "      <td>0.000823</td>\n",
       "      <td>0.028135</td>\n",
       "      <td>165.61</td>\n",
       "      <td>0</td>\n",
       "    </tr>\n",
       "    <tr>\n",
       "      <th>15</th>\n",
       "      <td>156985.0</td>\n",
       "      <td>1.657033</td>\n",
       "      <td>-1.088736</td>\n",
       "      <td>0.270413</td>\n",
       "      <td>0.522579</td>\n",
       "      <td>-1.479474</td>\n",
       "      <td>-0.054044</td>\n",
       "      <td>-1.107850</td>\n",
       "      <td>0.283761</td>\n",
       "      <td>1.690678</td>\n",
       "      <td>...</td>\n",
       "      <td>0.360145</td>\n",
       "      <td>0.889404</td>\n",
       "      <td>0.107643</td>\n",
       "      <td>0.058754</td>\n",
       "      <td>-0.491658</td>\n",
       "      <td>-0.303403</td>\n",
       "      <td>0.038482</td>\n",
       "      <td>-0.013372</td>\n",
       "      <td>129.45</td>\n",
       "      <td>0</td>\n",
       "    </tr>\n",
       "    <tr>\n",
       "      <th>16</th>\n",
       "      <td>150211.0</td>\n",
       "      <td>1.771034</td>\n",
       "      <td>-0.701911</td>\n",
       "      <td>0.093054</td>\n",
       "      <td>1.319661</td>\n",
       "      <td>-0.890385</td>\n",
       "      <td>0.295086</td>\n",
       "      <td>-0.937844</td>\n",
       "      <td>0.177829</td>\n",
       "      <td>1.487688</td>\n",
       "      <td>...</td>\n",
       "      <td>0.264450</td>\n",
       "      <td>0.736934</td>\n",
       "      <td>0.030465</td>\n",
       "      <td>-0.676799</td>\n",
       "      <td>-0.262200</td>\n",
       "      <td>-0.556666</td>\n",
       "      <td>0.075340</td>\n",
       "      <td>-0.006957</td>\n",
       "      <td>102.67</td>\n",
       "      <td>0</td>\n",
       "    </tr>\n",
       "    <tr>\n",
       "      <th>17</th>\n",
       "      <td>51911.0</td>\n",
       "      <td>0.942054</td>\n",
       "      <td>-0.201781</td>\n",
       "      <td>1.311114</td>\n",
       "      <td>1.201758</td>\n",
       "      <td>-0.297863</td>\n",
       "      <td>1.651879</td>\n",
       "      <td>-0.858639</td>\n",
       "      <td>0.643694</td>\n",
       "      <td>0.787536</td>\n",
       "      <td>...</td>\n",
       "      <td>0.084064</td>\n",
       "      <td>0.618144</td>\n",
       "      <td>0.157419</td>\n",
       "      <td>-0.626831</td>\n",
       "      <td>0.070371</td>\n",
       "      <td>-0.301777</td>\n",
       "      <td>0.147067</td>\n",
       "      <td>0.027787</td>\n",
       "      <td>9.99</td>\n",
       "      <td>0</td>\n",
       "    </tr>\n",
       "    <tr>\n",
       "      <th>18</th>\n",
       "      <td>55318.0</td>\n",
       "      <td>0.686087</td>\n",
       "      <td>-0.720266</td>\n",
       "      <td>-0.551419</td>\n",
       "      <td>1.248563</td>\n",
       "      <td>0.063556</td>\n",
       "      <td>0.146160</td>\n",
       "      <td>0.572469</td>\n",
       "      <td>-0.095279</td>\n",
       "      <td>0.224416</td>\n",
       "      <td>...</td>\n",
       "      <td>0.111530</td>\n",
       "      <td>-0.174113</td>\n",
       "      <td>-0.478750</td>\n",
       "      <td>-0.749906</td>\n",
       "      <td>0.756246</td>\n",
       "      <td>-0.224430</td>\n",
       "      <td>-0.033740</td>\n",
       "      <td>0.052118</td>\n",
       "      <td>300.19</td>\n",
       "      <td>0</td>\n",
       "    </tr>\n",
       "    <tr>\n",
       "      <th>19</th>\n",
       "      <td>165830.0</td>\n",
       "      <td>2.031130</td>\n",
       "      <td>0.021617</td>\n",
       "      <td>-1.118744</td>\n",
       "      <td>0.415314</td>\n",
       "      <td>0.044622</td>\n",
       "      <td>-1.076352</td>\n",
       "      <td>0.296850</td>\n",
       "      <td>-0.364255</td>\n",
       "      <td>0.605521</td>\n",
       "      <td>...</td>\n",
       "      <td>-0.239919</td>\n",
       "      <td>-0.489170</td>\n",
       "      <td>0.274429</td>\n",
       "      <td>-0.090784</td>\n",
       "      <td>-0.090710</td>\n",
       "      <td>-0.580229</td>\n",
       "      <td>-0.002189</td>\n",
       "      <td>-0.047404</td>\n",
       "      <td>9.99</td>\n",
       "      <td>0</td>\n",
       "    </tr>\n",
       "  </tbody>\n",
       "</table>\n",
       "<p>20 rows × 31 columns</p>\n",
       "</div>"
      ],
      "text/plain": [
       "        Time        V1        V2        V3        V4        V5        V6  \\\n",
       "0    38355.0  1.043949  0.318555  1.045810  2.805989 -0.561113 -0.367956   \n",
       "1    22555.0 -1.665159  0.808440  1.805627  1.903416 -0.821627  0.934790   \n",
       "2     2431.0 -0.324096  0.601836  0.865329 -2.138000  0.294663 -1.251553   \n",
       "3    86773.0 -0.258270  1.217501 -0.585348 -0.875347  1.222481 -0.311027   \n",
       "4   127202.0  2.142162 -0.494988 -1.936511 -0.818288 -0.025213 -1.027245   \n",
       "5    37590.0 -6.341667  1.192815 -3.686579 -2.754006 -5.007164  3.988118   \n",
       "6    56739.0 -0.463928  0.204745  2.795734  1.546200 -0.720374  1.108212   \n",
       "7      912.0 -1.394619  0.554224 -0.617805 -0.313706  2.157413  3.537534   \n",
       "8   171058.0 -2.121785 -1.518485  2.667942 -2.458839 -1.414952  0.807935   \n",
       "9    79450.0 -2.254788 -0.955967  0.590596  0.114744 -5.876531  3.364858   \n",
       "10  171005.0  2.122316 -0.962503 -2.525940 -1.676110  1.626630  3.408812   \n",
       "11  161495.0  2.116044  0.183036 -2.529054 -0.107332  1.018524 -1.199239   \n",
       "12   64729.0  1.202869 -0.480561  0.771509 -0.897333 -1.031278 -0.284446   \n",
       "13  131020.0 -0.567973  0.173283 -0.775160 -1.897183 -0.008732  0.238925   \n",
       "14   30025.0  1.082087 -0.810980 -0.317811  0.196848 -0.408996  0.132170   \n",
       "15  156985.0  1.657033 -1.088736  0.270413  0.522579 -1.479474 -0.054044   \n",
       "16  150211.0  1.771034 -0.701911  0.093054  1.319661 -0.890385  0.295086   \n",
       "17   51911.0  0.942054 -0.201781  1.311114  1.201758 -0.297863  1.651879   \n",
       "18   55318.0  0.686087 -0.720266 -0.551419  1.248563  0.063556  0.146160   \n",
       "19  165830.0  2.031130  0.021617 -1.118744  0.415314  0.044622 -1.076352   \n",
       "\n",
       "          V7         V8        V9  ...       V21       V22       V23  \\\n",
       "0   0.032736  -0.042333 -0.322674  ... -0.240105 -0.680315  0.085328   \n",
       "1  -0.824802   0.975890  1.747469  ... -0.335332 -0.510994  0.035839   \n",
       "2   1.072114  -0.334896  1.071268  ...  0.012220  0.352856 -0.341505   \n",
       "3   1.073860  -0.161408  0.200665  ... -0.424626 -0.781158  0.019316   \n",
       "4  -0.151627  -0.305750 -0.869482  ...  0.010115  0.021722  0.079463   \n",
       "5   1.693606 -13.577522  2.557965  ...  9.779321 -3.660198 -1.507217   \n",
       "6  -0.581133   0.544075  1.099843  ...  0.094431  0.788161 -0.100344   \n",
       "7  -0.567305   1.380888 -0.112291  ... -0.196300 -0.546172 -0.124758   \n",
       "8  -1.870160   0.516477 -0.553359  ... -0.079591  0.659885 -1.000976   \n",
       "9   6.365904  -1.252960  0.243849  ... -0.601908 -0.092918  0.517855   \n",
       "10 -1.529461   0.941478 -0.095372  ...  0.238221  0.661569  0.142103   \n",
       "11  0.944602  -0.518320 -0.286752  ...  0.338133  1.165151 -0.187835   \n",
       "12 -0.708919   0.134662  1.625075  ...  0.174276  0.716104 -0.195189   \n",
       "13  0.775363   0.186797 -1.433560  ...  0.000154  0.402920 -0.416879   \n",
       "14 -0.215980  -0.015172 -1.103389  ... -0.161099 -0.364356 -0.371329   \n",
       "15 -1.107850   0.283761  1.690678  ...  0.360145  0.889404  0.107643   \n",
       "16 -0.937844   0.177829  1.487688  ...  0.264450  0.736934  0.030465   \n",
       "17 -0.858639   0.643694  0.787536  ...  0.084064  0.618144  0.157419   \n",
       "18  0.572469  -0.095279  0.224416  ...  0.111530 -0.174113 -0.478750   \n",
       "19  0.296850  -0.364255  0.605521  ... -0.239919 -0.489170  0.274429   \n",
       "\n",
       "         V24       V25       V26       V27       V28   Amount  Class  \n",
       "0   0.684812  0.318620 -0.204963  0.001662  0.037894    49.67      0  \n",
       "1   0.147565 -0.529358 -0.566950 -0.595998 -0.220086    16.94      0  \n",
       "2  -0.145791  0.094194 -0.804026  0.229428 -0.021623     1.00      0  \n",
       "3   0.178614 -0.315616  0.096665  0.269740 -0.020635    10.78      0  \n",
       "4  -0.480899  0.023846 -0.279076 -0.030121 -0.043888    39.96      0  \n",
       "5  -0.179185  0.002092 -0.019168  3.611243 -0.894494  1437.08      0  \n",
       "6   0.126248 -0.461584 -0.200985  0.280168  0.180046    11.10      0  \n",
       "7   1.046780 -0.089474  0.363674  0.215692  0.225698    24.08      0  \n",
       "8  -0.212991  0.420722 -0.019645 -0.482792 -0.407780    28.00      0  \n",
       "9   0.534361  0.494493  0.301414  0.507071 -0.560888  1354.98      0  \n",
       "10  0.604128 -0.112563 -0.067314  0.048173 -0.017584    19.95      0  \n",
       "11  0.885764  0.767772  0.401654 -0.105729 -0.091268     4.73      0  \n",
       "12  0.052651  0.632512 -0.529605  0.087937  0.021587    14.00      0  \n",
       "13 -1.353633  0.707663 -0.055010 -0.200360 -0.211460   158.00      0  \n",
       "14 -0.878380  0.692790 -0.176015  0.000823  0.028135   165.61      0  \n",
       "15  0.058754 -0.491658 -0.303403  0.038482 -0.013372   129.45      0  \n",
       "16 -0.676799 -0.262200 -0.556666  0.075340 -0.006957   102.67      0  \n",
       "17 -0.626831  0.070371 -0.301777  0.147067  0.027787     9.99      0  \n",
       "18 -0.749906  0.756246 -0.224430 -0.033740  0.052118   300.19      0  \n",
       "19 -0.090784 -0.090710 -0.580229 -0.002189 -0.047404     9.99      0  \n",
       "\n",
       "[20 rows x 31 columns]"
      ]
     },
     "execution_count": 3,
     "metadata": {},
     "output_type": "execute_result"
    }
   ],
   "source": [
    "#Use parameter 'n' to display instances other than 5.\n",
    "creditcard_data.head(n=20)"
   ]
  },
  {
   "cell_type": "code",
   "execution_count": 4,
   "metadata": {
    "_uuid": "348fb240bbcc1ad3c9ccf7e32168d4a94d739ec7",
    "scrolled": true
   },
   "outputs": [
    {
     "data": {
      "text/plain": [
       "(284807, 31)"
      ]
     },
     "execution_count": 4,
     "metadata": {},
     "output_type": "execute_result"
    }
   ],
   "source": [
    "#Number of instances and attributes,i.e., Dimensionality of the dataset\n",
    "creditcard_data.shape"
   ]
  },
  {
   "cell_type": "code",
   "execution_count": 5,
   "metadata": {
    "_uuid": "a800376a978651bf103a947b5f33835602645f2a"
   },
   "outputs": [
    {
     "name": "stdout",
     "output_type": "stream",
     "text": [
      "<class 'pandas.core.frame.DataFrame'>\n",
      "Int64Index: 284807 entries, 0 to 56961\n",
      "Data columns (total 31 columns):\n",
      " #   Column  Non-Null Count   Dtype  \n",
      "---  ------  --------------   -----  \n",
      " 0   Time    284807 non-null  float64\n",
      " 1   V1      284807 non-null  float64\n",
      " 2   V2      284807 non-null  float64\n",
      " 3   V3      284807 non-null  float64\n",
      " 4   V4      284807 non-null  float64\n",
      " 5   V5      284807 non-null  float64\n",
      " 6   V6      284807 non-null  float64\n",
      " 7   V7      284807 non-null  float64\n",
      " 8   V8      284807 non-null  float64\n",
      " 9   V9      284807 non-null  float64\n",
      " 10  V10     284807 non-null  float64\n",
      " 11  V11     284807 non-null  float64\n",
      " 12  V12     284807 non-null  float64\n",
      " 13  V13     284807 non-null  float64\n",
      " 14  V14     284807 non-null  float64\n",
      " 15  V15     284807 non-null  float64\n",
      " 16  V16     284807 non-null  float64\n",
      " 17  V17     284807 non-null  float64\n",
      " 18  V18     284807 non-null  float64\n",
      " 19  V19     284807 non-null  float64\n",
      " 20  V20     284807 non-null  float64\n",
      " 21  V21     284807 non-null  float64\n",
      " 22  V22     284807 non-null  float64\n",
      " 23  V23     284807 non-null  float64\n",
      " 24  V24     284807 non-null  float64\n",
      " 25  V25     284807 non-null  float64\n",
      " 26  V26     284807 non-null  float64\n",
      " 27  V27     284807 non-null  float64\n",
      " 28  V28     284807 non-null  float64\n",
      " 29  Amount  284807 non-null  float64\n",
      " 30  Class   284807 non-null  int64  \n",
      "dtypes: float64(30), int64(1)\n",
      "memory usage: 69.5 MB\n"
     ]
    }
   ],
   "source": [
    "creditcard_data.info()"
   ]
  },
  {
   "cell_type": "markdown",
   "metadata": {
    "_uuid": "c9d4dbb7f5842d34dbed7f4fe764eb31f56da666"
   },
   "source": [
    "This shows that there are 284807 instances and 31 attributes including the class attribute."
   ]
  },
  {
   "cell_type": "code",
   "execution_count": 6,
   "metadata": {
    "_uuid": "e0c2a771f98176ced86437b5ed5c7d9c19c2996b"
   },
   "outputs": [
    {
     "data": {
      "text/plain": [
       "Time      0\n",
       "V1        0\n",
       "V2        0\n",
       "V3        0\n",
       "V4        0\n",
       "V5        0\n",
       "V6        0\n",
       "V7        0\n",
       "V8        0\n",
       "V9        0\n",
       "V10       0\n",
       "V11       0\n",
       "V12       0\n",
       "V13       0\n",
       "V14       0\n",
       "V15       0\n",
       "V16       0\n",
       "V17       0\n",
       "V18       0\n",
       "V19       0\n",
       "V20       0\n",
       "V21       0\n",
       "V22       0\n",
       "V23       0\n",
       "V24       0\n",
       "V25       0\n",
       "V26       0\n",
       "V27       0\n",
       "V28       0\n",
       "Amount    0\n",
       "Class     0\n",
       "dtype: int64"
      ]
     },
     "execution_count": 6,
     "metadata": {},
     "output_type": "execute_result"
    }
   ],
   "source": [
    "#Sum of missing cells for each attribute\n",
    "creditcard_data.isnull().sum()"
   ]
  },
  {
   "cell_type": "markdown",
   "metadata": {
    "_uuid": "c2ba33fa4673e5531714e5aef568e3ab12d7c737"
   },
   "source": [
    "The 0 sum for all attributes shows that there are no missing values."
   ]
  },
  {
   "cell_type": "code",
   "execution_count": 7,
   "metadata": {
    "_uuid": "20cffdc3ddfcfed6b39cbc5be053b02fbcdde52f"
   },
   "outputs": [
    {
     "data": {
      "text/plain": [
       "2"
      ]
     },
     "execution_count": 7,
     "metadata": {},
     "output_type": "execute_result"
    }
   ],
   "source": [
    "#Number of distinct categories or classes i.e., Fraudulent and Genuine\n",
    "creditcard_data['Class'].nunique()"
   ]
  },
  {
   "cell_type": "markdown",
   "metadata": {
    "_uuid": "a9ab705a42d3e999d07c2c025161bb3a4f3df05d"
   },
   "source": [
    "As expected, there are only 2 classes."
   ]
  },
  {
   "cell_type": "code",
   "execution_count": 8,
   "metadata": {
    "_uuid": "65ee58a18183a27bc5ee02e0ab7a3bce0fe2b2ae"
   },
   "outputs": [
    {
     "data": {
      "text/plain": [
       "0    284315\n",
       "1       492\n",
       "Name: Class, dtype: int64"
      ]
     },
     "execution_count": 8,
     "metadata": {},
     "output_type": "execute_result"
    }
   ],
   "source": [
    "#number of instances per class\n",
    "creditcard_data.Class.value_counts()"
   ]
  },
  {
   "cell_type": "markdown",
   "metadata": {
    "_uuid": "5c54353c3288e571a20029b7acd6e54656068cb2"
   },
   "source": [
    "This shows a complete imbalance of classes. There are 284315 'Genuine' (0) instances and only 492 'Fraudulent' (1) instances."
   ]
  },
  {
   "cell_type": "code",
   "execution_count": 9,
   "metadata": {
    "_uuid": "6a4fc54b30e26cace74115aaf0df177b2f24e764"
   },
   "outputs": [
    {
     "data": {
      "text/plain": [
       "<AxesSubplot:>"
      ]
     },
     "execution_count": 9,
     "metadata": {},
     "output_type": "execute_result"
    },
    {
     "data": {
      "image/png": "[encoded data removed]",
      "text/plain": [
       "<Figure size 432x288 with 1 Axes>"
      ]
     },
     "metadata": {
      "needs_background": "light"
     },
     "output_type": "display_data"
    }
   ],
   "source": [
    "#visual representation of instances per class\n",
    "creditcard_data.Class.value_counts().plot.bar()"
   ]
  },
  {
   "cell_type": "markdown",
   "metadata": {
    "_uuid": "944cffb442226b9e727c753cdd01a6fc0f33a9a6"
   },
   "source": [
    "This gives a visual representation of the class imbalance. The below plot after PCA gives a better visualization of the imbalnce in the datasets."
   ]
  },
  {
   "cell_type": "code",
   "execution_count": 10,
   "metadata": {
    "_kg_hide-output": false,
    "_uuid": "fd5ecfc1499af89889e780e98a2ac702b3faeced"
   },
   "outputs": [
    {
     "data": {
      "text/plain": [
       "<seaborn.axisgrid.FacetGrid at 0x1cd4b68bbb0>"
      ]
     },
     "execution_count": 10,
     "metadata": {},
     "output_type": "execute_result"
    },
    {
     "data": {
      "image/png": "[encoded data removed]",
      "text/plain": [
       "<Figure size 402.375x360 with 1 Axes>"
      ]
     },
     "metadata": {
      "needs_background": "light"
     },
     "output_type": "display_data"
    }
   ],
   "source": [
    "#Before sampling (PCA is performed for visualization only)\n",
    "pca= PCA(n_components=2)\n",
    "creditcard_data = creditcard_data.loc[~creditcard_data.index.duplicated(keep='first')]\n",
    "#creditcard_2d = creditcard_2d.loc[~creditcard_2d.index.duplicated(keep='first')]\n",
    "creditcard_2d= pd.DataFrame(pca.fit_transform(creditcard_data.iloc[:,0:30]))\n",
    "creditcard_2d.reset_index(inplace=True, drop=True)\n",
    "creditcard_2d= pd.concat([creditcard_2d, creditcard_data['Class']],axis=1)\n",
    "#df3 = pd.concat([df1, df2], ignore_index=True).reindex(df1.columns, axis='columns')\n",
    "creditcard_2d.columns= ['x', 'y', 'Class']\n",
    "sns.lmplot(x='x', y='y', data=creditcard_2d, fit_reg=False, hue='Class')"
   ]
  },
  {
   "cell_type": "code",
   "execution_count": 11,
   "metadata": {
    "_uuid": "b5f6d97f286ff55676fae9530c2899b9accd7906"
   },
   "outputs": [
    {
     "data": {
      "text/html": [
       "<div>\n",
       "<style scoped>\n",
       "    .dataframe tbody tr th:only-of-type {\n",
       "        vertical-align: middle;\n",
       "    }\n",
       "\n",
       "    .dataframe tbody tr th {\n",
       "        vertical-align: top;\n",
       "    }\n",
       "\n",
       "    .dataframe thead th {\n",
       "        text-align: right;\n",
       "    }\n",
       "</style>\n",
       "<table border=\"1\" class=\"dataframe\">\n",
       "  <thead>\n",
       "    <tr style=\"text-align: right;\">\n",
       "      <th></th>\n",
       "      <th>Time</th>\n",
       "      <th>V1</th>\n",
       "      <th>V2</th>\n",
       "      <th>V3</th>\n",
       "      <th>V4</th>\n",
       "      <th>V5</th>\n",
       "      <th>V6</th>\n",
       "      <th>V7</th>\n",
       "      <th>V8</th>\n",
       "      <th>V9</th>\n",
       "      <th>...</th>\n",
       "      <th>V21</th>\n",
       "      <th>V22</th>\n",
       "      <th>V23</th>\n",
       "      <th>V24</th>\n",
       "      <th>V25</th>\n",
       "      <th>V26</th>\n",
       "      <th>V27</th>\n",
       "      <th>V28</th>\n",
       "      <th>Amount</th>\n",
       "      <th>Class</th>\n",
       "    </tr>\n",
       "  </thead>\n",
       "  <tbody>\n",
       "    <tr>\n",
       "      <th>count</th>\n",
       "      <td>227845.000000</td>\n",
       "      <td>227845.000000</td>\n",
       "      <td>227845.000000</td>\n",
       "      <td>227845.000000</td>\n",
       "      <td>227845.000000</td>\n",
       "      <td>227845.000000</td>\n",
       "      <td>227845.000000</td>\n",
       "      <td>227845.000000</td>\n",
       "      <td>227845.000000</td>\n",
       "      <td>227845.000000</td>\n",
       "      <td>...</td>\n",
       "      <td>227845.000000</td>\n",
       "      <td>227845.000000</td>\n",
       "      <td>227845.000000</td>\n",
       "      <td>227845.000000</td>\n",
       "      <td>227845.000000</td>\n",
       "      <td>227845.000000</td>\n",
       "      <td>227845.000000</td>\n",
       "      <td>227845.000000</td>\n",
       "      <td>227845.000000</td>\n",
       "      <td>227845.000000</td>\n",
       "    </tr>\n",
       "    <tr>\n",
       "      <th>mean</th>\n",
       "      <td>94752.853076</td>\n",
       "      <td>-0.003321</td>\n",
       "      <td>-0.001652</td>\n",
       "      <td>0.001066</td>\n",
       "      <td>-0.000374</td>\n",
       "      <td>0.000877</td>\n",
       "      <td>0.000770</td>\n",
       "      <td>-0.000035</td>\n",
       "      <td>0.001625</td>\n",
       "      <td>-0.000391</td>\n",
       "      <td>...</td>\n",
       "      <td>0.000563</td>\n",
       "      <td>0.001234</td>\n",
       "      <td>-0.001002</td>\n",
       "      <td>0.000254</td>\n",
       "      <td>0.000218</td>\n",
       "      <td>-0.001128</td>\n",
       "      <td>-0.000346</td>\n",
       "      <td>0.000498</td>\n",
       "      <td>88.522327</td>\n",
       "      <td>0.001729</td>\n",
       "    </tr>\n",
       "    <tr>\n",
       "      <th>std</th>\n",
       "      <td>47500.410602</td>\n",
       "      <td>1.963028</td>\n",
       "      <td>1.661178</td>\n",
       "      <td>1.516107</td>\n",
       "      <td>1.415061</td>\n",
       "      <td>1.367074</td>\n",
       "      <td>1.325341</td>\n",
       "      <td>1.220384</td>\n",
       "      <td>1.192648</td>\n",
       "      <td>1.097367</td>\n",
       "      <td>...</td>\n",
       "      <td>0.734187</td>\n",
       "      <td>0.724544</td>\n",
       "      <td>0.625165</td>\n",
       "      <td>0.606012</td>\n",
       "      <td>0.521348</td>\n",
       "      <td>0.482314</td>\n",
       "      <td>0.400286</td>\n",
       "      <td>0.331184</td>\n",
       "      <td>248.100141</td>\n",
       "      <td>0.041548</td>\n",
       "    </tr>\n",
       "    <tr>\n",
       "      <th>min</th>\n",
       "      <td>0.000000</td>\n",
       "      <td>-56.407510</td>\n",
       "      <td>-72.715728</td>\n",
       "      <td>-32.965346</td>\n",
       "      <td>-5.683171</td>\n",
       "      <td>-42.147898</td>\n",
       "      <td>-26.160506</td>\n",
       "      <td>-43.557242</td>\n",
       "      <td>-73.216718</td>\n",
       "      <td>-13.434066</td>\n",
       "      <td>...</td>\n",
       "      <td>-34.830382</td>\n",
       "      <td>-10.933144</td>\n",
       "      <td>-44.807735</td>\n",
       "      <td>-2.836627</td>\n",
       "      <td>-10.295397</td>\n",
       "      <td>-2.604551</td>\n",
       "      <td>-22.565679</td>\n",
       "      <td>-11.710896</td>\n",
       "      <td>0.000000</td>\n",
       "      <td>0.000000</td>\n",
       "    </tr>\n",
       "    <tr>\n",
       "      <th>25%</th>\n",
       "      <td>54182.000000</td>\n",
       "      <td>-0.922851</td>\n",
       "      <td>-0.598040</td>\n",
       "      <td>-0.889246</td>\n",
       "      <td>-0.848884</td>\n",
       "      <td>-0.690811</td>\n",
       "      <td>-0.767803</td>\n",
       "      <td>-0.554761</td>\n",
       "      <td>-0.207838</td>\n",
       "      <td>-0.643365</td>\n",
       "      <td>...</td>\n",
       "      <td>-0.228031</td>\n",
       "      <td>-0.540792</td>\n",
       "      <td>-0.162264</td>\n",
       "      <td>-0.354099</td>\n",
       "      <td>-0.317450</td>\n",
       "      <td>-0.327910</td>\n",
       "      <td>-0.070986</td>\n",
       "      <td>-0.053117</td>\n",
       "      <td>5.590000</td>\n",
       "      <td>0.000000</td>\n",
       "    </tr>\n",
       "    <tr>\n",
       "      <th>50%</th>\n",
       "      <td>84607.000000</td>\n",
       "      <td>0.012663</td>\n",
       "      <td>0.066665</td>\n",
       "      <td>0.182170</td>\n",
       "      <td>-0.019309</td>\n",
       "      <td>-0.055243</td>\n",
       "      <td>-0.273025</td>\n",
       "      <td>0.040409</td>\n",
       "      <td>0.022928</td>\n",
       "      <td>-0.050932</td>\n",
       "      <td>...</td>\n",
       "      <td>-0.028807</td>\n",
       "      <td>0.008697</td>\n",
       "      <td>-0.011614</td>\n",
       "      <td>0.041212</td>\n",
       "      <td>0.016221</td>\n",
       "      <td>-0.053257</td>\n",
       "      <td>0.001315</td>\n",
       "      <td>0.011216</td>\n",
       "      <td>22.000000</td>\n",
       "      <td>0.000000</td>\n",
       "    </tr>\n",
       "    <tr>\n",
       "      <th>75%</th>\n",
       "      <td>139340.000000</td>\n",
       "      <td>1.314821</td>\n",
       "      <td>0.804401</td>\n",
       "      <td>1.029449</td>\n",
       "      <td>0.744822</td>\n",
       "      <td>0.610852</td>\n",
       "      <td>0.400298</td>\n",
       "      <td>0.570631</td>\n",
       "      <td>0.327854</td>\n",
       "      <td>0.596671</td>\n",
       "      <td>...</td>\n",
       "      <td>0.186852</td>\n",
       "      <td>0.529535</td>\n",
       "      <td>0.147067</td>\n",
       "      <td>0.440051</td>\n",
       "      <td>0.351214</td>\n",
       "      <td>0.239885</td>\n",
       "      <td>0.091105</td>\n",
       "      <td>0.078458</td>\n",
       "      <td>77.070000</td>\n",
       "      <td>0.000000</td>\n",
       "    </tr>\n",
       "    <tr>\n",
       "      <th>max</th>\n",
       "      <td>172792.000000</td>\n",
       "      <td>2.454930</td>\n",
       "      <td>22.057729</td>\n",
       "      <td>9.382558</td>\n",
       "      <td>16.875344</td>\n",
       "      <td>34.801666</td>\n",
       "      <td>22.529298</td>\n",
       "      <td>36.877368</td>\n",
       "      <td>20.007208</td>\n",
       "      <td>15.594995</td>\n",
       "      <td>...</td>\n",
       "      <td>27.202839</td>\n",
       "      <td>10.503090</td>\n",
       "      <td>22.528412</td>\n",
       "      <td>4.022866</td>\n",
       "      <td>6.070850</td>\n",
       "      <td>3.463246</td>\n",
       "      <td>12.152401</td>\n",
       "      <td>33.847808</td>\n",
       "      <td>19656.530000</td>\n",
       "      <td>1.000000</td>\n",
       "    </tr>\n",
       "  </tbody>\n",
       "</table>\n",
       "<p>8 rows × 31 columns</p>\n",
       "</div>"
      ],
      "text/plain": [
       "                Time             V1             V2             V3  \\\n",
       "count  227845.000000  227845.000000  227845.000000  227845.000000   \n",
       "mean    94752.853076      -0.003321      -0.001652       0.001066   \n",
       "std     47500.410602       1.963028       1.661178       1.516107   \n",
       "min         0.000000     -56.407510     -72.715728     -32.965346   \n",
       "25%     54182.000000      -0.922851      -0.598040      -0.889246   \n",
       "50%     84607.000000       0.012663       0.066665       0.182170   \n",
       "75%    139340.000000       1.314821       0.804401       1.029449   \n",
       "max    172792.000000       2.454930      22.057729       9.382558   \n",
       "\n",
       "                  V4             V5             V6             V7  \\\n",
       "count  227845.000000  227845.000000  227845.000000  227845.000000   \n",
       "mean       -0.000374       0.000877       0.000770      -0.000035   \n",
       "std         1.415061       1.367074       1.325341       1.220384   \n",
       "min        -5.683171     -42.147898     -26.160506     -43.557242   \n",
       "25%        -0.848884      -0.690811      -0.767803      -0.554761   \n",
       "50%        -0.019309      -0.055243      -0.273025       0.040409   \n",
       "75%         0.744822       0.610852       0.400298       0.570631   \n",
       "max        16.875344      34.801666      22.529298      36.877368   \n",
       "\n",
       "                  V8             V9  ...            V21            V22  \\\n",
       "count  227845.000000  227845.000000  ...  227845.000000  227845.000000   \n",
       "mean        0.001625      -0.000391  ...       0.000563       0.001234   \n",
       "std         1.192648       1.097367  ...       0.734187       0.724544   \n",
       "min       -73.216718     -13.434066  ...     -34.830382     -10.933144   \n",
       "25%        -0.207838      -0.643365  ...      -0.228031      -0.540792   \n",
       "50%         0.022928      -0.050932  ...      -0.028807       0.008697   \n",
       "75%         0.327854       0.596671  ...       0.186852       0.529535   \n",
       "max        20.007208      15.594995  ...      27.202839      10.503090   \n",
       "\n",
       "                 V23            V24            V25            V26  \\\n",
       "count  227845.000000  227845.000000  227845.000000  227845.000000   \n",
       "mean       -0.001002       0.000254       0.000218      -0.001128   \n",
       "std         0.625165       0.606012       0.521348       0.482314   \n",
       "min       -44.807735      -2.836627     -10.295397      -2.604551   \n",
       "25%        -0.162264      -0.354099      -0.317450      -0.327910   \n",
       "50%        -0.011614       0.041212       0.016221      -0.053257   \n",
       "75%         0.147067       0.440051       0.351214       0.239885   \n",
       "max        22.528412       4.022866       6.070850       3.463246   \n",
       "\n",
       "                 V27            V28         Amount          Class  \n",
       "count  227845.000000  227845.000000  227845.000000  227845.000000  \n",
       "mean       -0.000346       0.000498      88.522327       0.001729  \n",
       "std         0.400286       0.331184     248.100141       0.041548  \n",
       "min       -22.565679     -11.710896       0.000000       0.000000  \n",
       "25%        -0.070986      -0.053117       5.590000       0.000000  \n",
       "50%         0.001315       0.011216      22.000000       0.000000  \n",
       "75%         0.091105       0.078458      77.070000       0.000000  \n",
       "max        12.152401      33.847808   19656.530000       1.000000  \n",
       "\n",
       "[8 rows x 31 columns]"
      ]
     },
     "execution_count": 11,
     "metadata": {},
     "output_type": "execute_result"
    }
   ],
   "source": [
    "#Descriptive Statistics\n",
    "creditcard_data.describe()"
   ]
  },
  {
   "cell_type": "code",
   "execution_count": 12,
   "metadata": {
    "_uuid": "262cd8032c3c0fc673b24e1a736879f49c85fe8b"
   },
   "outputs": [
    {
     "data": {
      "text/plain": [
       "0    0.998271\n",
       "1    0.001729\n",
       "Name: Class, dtype: float64"
      ]
     },
     "execution_count": 12,
     "metadata": {},
     "output_type": "execute_result"
    }
   ],
   "source": [
    "#checking the percentage of each class in the dataset\n",
    "(creditcard_data.Class.value_counts())/(creditcard_data.Class.count())"
   ]
  },
  {
   "cell_type": "code",
   "execution_count": 13,
   "metadata": {
    "_uuid": "6582d8d6d1de0622a44270d381538362ee898ae4",
    "scrolled": true
   },
   "outputs": [
    {
     "data": {
      "image/png": "[encoded data removed]",
      "text/plain": [
       "<Figure size 864x288 with 2 Axes>"
      ]
     },
     "metadata": {
      "needs_background": "light"
     },
     "output_type": "display_data"
    }
   ],
   "source": [
    "#Histrogram for feature Time\n",
    "f, (ax1, ax2) = plt.subplots(2, 1, sharex=True, figsize=(12,4))\n",
    "\n",
    "ax1.hist(creditcard_data[\"Time\"][creditcard_data[\"Class\"] == 1], bins = 50)\n",
    "ax1.set_title('Fraudulent')\n",
    "\n",
    "ax2.hist(creditcard_data[\"Time\"][creditcard_data[\"Class\"] == 0], bins = 50)\n",
    "ax2.set_title('Genuine')\n",
    "\n",
    "plt.xlabel('Seconds after transaction number zero')\n",
    "plt.ylabel('Number of Transactions')\n",
    "plt.show()"
   ]
  },
  {
   "cell_type": "markdown",
   "metadata": {
    "_uuid": "bd89458d4088fbcdd4691924d6b50c30e5e4b5d3"
   },
   "source": [
    "The transactions occur in a cyclic way. But the time feature does not provide any useful information as the time when the first transaction was initiated is not given. Thus, we'll drop this feature."
   ]
  },
  {
   "cell_type": "code",
   "execution_count": 14,
   "metadata": {
    "_uuid": "6109f88ba2d24897a53432f79e7061d7b31c1970"
   },
   "outputs": [
    {
     "data": {
      "text/plain": [
       "(227845, 30)"
      ]
     },
     "execution_count": 14,
     "metadata": {},
     "output_type": "execute_result"
    }
   ],
   "source": [
    "#dropping Time because it does not give any valuable information\n",
    "creditcard_data = creditcard_data.drop(\"Time\", axis = 1)\n",
    "creditcard_data.shape"
   ]
  },
  {
   "cell_type": "markdown",
   "metadata": {
    "_uuid": "1c77f25ba099bc6a1f04b20a2710d86f274fb010"
   },
   "source": [
    "Now there are 30 features in the dataset."
   ]
  },
  {
   "cell_type": "code",
   "execution_count": 15,
   "metadata": {
    "_uuid": "62ead20165ec5089338dee6b74e5a794ce66239c"
   },
   "outputs": [
    {
     "name": "stdout",
     "output_type": "stream",
     "text": [
      "Fraudulent Transactions\n"
     ]
    },
    {
     "data": {
      "text/plain": [
       "count     394.000000\n",
       "mean      127.306523\n",
       "std       264.533907\n",
       "min         0.000000\n",
       "25%         1.000000\n",
       "50%        11.395000\n",
       "75%       106.385000\n",
       "max      2125.870000\n",
       "Name: Amount, dtype: float64"
      ]
     },
     "execution_count": 15,
     "metadata": {},
     "output_type": "execute_result"
    }
   ],
   "source": [
    "#Descriptive statistics for Fraudulent Transactions\n",
    "print(\"Fraudulent Transactions\")\n",
    "creditcard_data['Amount'][creditcard_data['Class']==1]. describe()"
   ]
  },
  {
   "cell_type": "code",
   "execution_count": 16,
   "metadata": {
    "_uuid": "96dd8124796b4617acf013c353b3dea1ec5c42c9"
   },
   "outputs": [
    {
     "name": "stdout",
     "output_type": "stream",
     "text": [
      "Genuine Transactions\n"
     ]
    },
    {
     "data": {
      "text/plain": [
       "count    227451.000000\n",
       "mean         88.455144\n",
       "std         248.066088\n",
       "min           0.000000\n",
       "25%           5.640000\n",
       "50%          22.000000\n",
       "75%          77.000000\n",
       "max       19656.530000\n",
       "Name: Amount, dtype: float64"
      ]
     },
     "execution_count": 16,
     "metadata": {},
     "output_type": "execute_result"
    }
   ],
   "source": [
    "#Descriptive statistics for Genuine Transactions\n",
    "print(\"Genuine Transactions\")\n",
    "creditcard_data['Amount'][creditcard_data['Class']==0]. describe()"
   ]
  },
  {
   "cell_type": "markdown",
   "metadata": {
    "_uuid": "00320434cf9b59ccc0f14b7dd3106704451286b6"
   },
   "source": [
    "Nothing much can be determined from the Amount, as most of the transactions are around 100 in both cases.."
   ]
  },
  {
   "cell_type": "code",
   "execution_count": 17,
   "metadata": {
    "_uuid": "ceca6db901ec119d7f66fe7e9855dc246744d91a"
   },
   "outputs": [
    {
     "data": {
      "text/plain": [
       "V1            3.853479\n",
       "V2            2.759513\n",
       "V3            2.298580\n",
       "V4            2.002396\n",
       "V5            1.868892\n",
       "V6            1.756528\n",
       "V7            1.489336\n",
       "V8            1.422408\n",
       "V9            1.204213\n",
       "V10           1.182153\n",
       "V11           1.044288\n",
       "V12           0.999162\n",
       "V13           0.990919\n",
       "V14           0.920784\n",
       "V15           0.839076\n",
       "V16           0.767017\n",
       "V17           0.724578\n",
       "V18           0.703393\n",
       "V19           0.660341\n",
       "V20           0.596811\n",
       "V21           0.539031\n",
       "V22           0.524963\n",
       "V23           0.390831\n",
       "V24           0.367250\n",
       "V25           0.271804\n",
       "V26           0.232627\n",
       "V27           0.160229\n",
       "V28           0.109683\n",
       "Amount    61553.679893\n",
       "Class         0.001726\n",
       "dtype: float64"
      ]
     },
     "execution_count": 17,
     "metadata": {},
     "output_type": "execute_result"
    }
   ],
   "source": [
    "#Variance\n",
    "creditcard_data.var()"
   ]
  },
  {
   "cell_type": "markdown",
   "metadata": {
    "_uuid": "505097712d8283e6f5cba1736b2246f16c57194c"
   },
   "source": [
    "Amount needs to be scaled. As if a feature has a variance orders of magnitude larger than the rest of the features, then it might dominate and, make the estimator unable to learn from other features as expected."
   ]
  },
  {
   "cell_type": "code",
   "execution_count": 18,
   "metadata": {
    "_uuid": "18ed63266e1ec2c3a66faece83561da2062e2942"
   },
   "outputs": [
    {
     "data": {
      "text/plain": [
       "<AxesSubplot:xlabel='Class', ylabel='Amount'>"
      ]
     },
     "execution_count": 18,
     "metadata": {},
     "output_type": "execute_result"
    },
    {
     "data": {
      "image/png": "[encoded data removed]",
      "text/plain": [
       "<Figure size 432x288 with 1 Axes>"
      ]
     },
     "metadata": {
      "needs_background": "light"
     },
     "output_type": "display_data"
    }
   ],
   "source": [
    "#Boxplot for the Amount feature, in order to visualiza the outliers.\n",
    "sns.boxplot(x=creditcard_data['Class'], y=creditcard_data['Amount'])"
   ]
  },
  {
   "cell_type": "markdown",
   "metadata": {
    "_uuid": "f125499cc109bc18c2c9973f7ff49a3e8a8cdb59"
   },
   "source": [
    "The non-fraudulent instances are highly skewed. The outliers can be seen visually and thus, it's better to use a Robust Scaler to scale the feature 'Amount' as it is less prone to outliers."
   ]
  },
  {
   "cell_type": "code",
   "execution_count": 19,
   "metadata": {
    "_uuid": "c9e282023e018c984bfb33bc46662253b23cf68d"
   },
   "outputs": [
    {
     "data": {
      "text/html": [
       "<div>\n",
       "<style scoped>\n",
       "    .dataframe tbody tr th:only-of-type {\n",
       "        vertical-align: middle;\n",
       "    }\n",
       "\n",
       "    .dataframe tbody tr th {\n",
       "        vertical-align: top;\n",
       "    }\n",
       "\n",
       "    .dataframe thead th {\n",
       "        text-align: right;\n",
       "    }\n",
       "</style>\n",
       "<table border=\"1\" class=\"dataframe\">\n",
       "  <thead>\n",
       "    <tr style=\"text-align: right;\">\n",
       "      <th></th>\n",
       "      <th>V1</th>\n",
       "      <th>V2</th>\n",
       "      <th>V3</th>\n",
       "      <th>V4</th>\n",
       "      <th>V5</th>\n",
       "      <th>V6</th>\n",
       "      <th>V7</th>\n",
       "      <th>V8</th>\n",
       "      <th>V9</th>\n",
       "      <th>V10</th>\n",
       "      <th>...</th>\n",
       "      <th>V22</th>\n",
       "      <th>V23</th>\n",
       "      <th>V24</th>\n",
       "      <th>V25</th>\n",
       "      <th>V26</th>\n",
       "      <th>V27</th>\n",
       "      <th>V28</th>\n",
       "      <th>Amount</th>\n",
       "      <th>Class</th>\n",
       "      <th>Std_Amount</th>\n",
       "    </tr>\n",
       "  </thead>\n",
       "  <tbody>\n",
       "    <tr>\n",
       "      <th>0</th>\n",
       "      <td>1.043949</td>\n",
       "      <td>0.318555</td>\n",
       "      <td>1.045810</td>\n",
       "      <td>2.805989</td>\n",
       "      <td>-0.561113</td>\n",
       "      <td>-0.367956</td>\n",
       "      <td>0.032736</td>\n",
       "      <td>-0.042333</td>\n",
       "      <td>-0.322674</td>\n",
       "      <td>0.499167</td>\n",
       "      <td>...</td>\n",
       "      <td>-0.680315</td>\n",
       "      <td>0.085328</td>\n",
       "      <td>0.684812</td>\n",
       "      <td>0.318620</td>\n",
       "      <td>-0.204963</td>\n",
       "      <td>0.001662</td>\n",
       "      <td>0.037894</td>\n",
       "      <td>49.67</td>\n",
       "      <td>0</td>\n",
       "      <td>0.387101</td>\n",
       "    </tr>\n",
       "    <tr>\n",
       "      <th>1</th>\n",
       "      <td>-1.665159</td>\n",
       "      <td>0.808440</td>\n",
       "      <td>1.805627</td>\n",
       "      <td>1.903416</td>\n",
       "      <td>-0.821627</td>\n",
       "      <td>0.934790</td>\n",
       "      <td>-0.824802</td>\n",
       "      <td>0.975890</td>\n",
       "      <td>1.747469</td>\n",
       "      <td>-0.658751</td>\n",
       "      <td>...</td>\n",
       "      <td>-0.510994</td>\n",
       "      <td>0.035839</td>\n",
       "      <td>0.147565</td>\n",
       "      <td>-0.529358</td>\n",
       "      <td>-0.566950</td>\n",
       "      <td>-0.595998</td>\n",
       "      <td>-0.220086</td>\n",
       "      <td>16.94</td>\n",
       "      <td>0</td>\n",
       "      <td>-0.070789</td>\n",
       "    </tr>\n",
       "    <tr>\n",
       "      <th>2</th>\n",
       "      <td>-0.324096</td>\n",
       "      <td>0.601836</td>\n",
       "      <td>0.865329</td>\n",
       "      <td>-2.138000</td>\n",
       "      <td>0.294663</td>\n",
       "      <td>-1.251553</td>\n",
       "      <td>1.072114</td>\n",
       "      <td>-0.334896</td>\n",
       "      <td>1.071268</td>\n",
       "      <td>-1.109522</td>\n",
       "      <td>...</td>\n",
       "      <td>0.352856</td>\n",
       "      <td>-0.341505</td>\n",
       "      <td>-0.145791</td>\n",
       "      <td>0.094194</td>\n",
       "      <td>-0.804026</td>\n",
       "      <td>0.229428</td>\n",
       "      <td>-0.021623</td>\n",
       "      <td>1.00</td>\n",
       "      <td>0</td>\n",
       "      <td>-0.293788</td>\n",
       "    </tr>\n",
       "    <tr>\n",
       "      <th>3</th>\n",
       "      <td>-0.258270</td>\n",
       "      <td>1.217501</td>\n",
       "      <td>-0.585348</td>\n",
       "      <td>-0.875347</td>\n",
       "      <td>1.222481</td>\n",
       "      <td>-0.311027</td>\n",
       "      <td>1.073860</td>\n",
       "      <td>-0.161408</td>\n",
       "      <td>0.200665</td>\n",
       "      <td>0.154307</td>\n",
       "      <td>...</td>\n",
       "      <td>-0.781158</td>\n",
       "      <td>0.019316</td>\n",
       "      <td>0.178614</td>\n",
       "      <td>-0.315616</td>\n",
       "      <td>0.096665</td>\n",
       "      <td>0.269740</td>\n",
       "      <td>-0.020635</td>\n",
       "      <td>10.78</td>\n",
       "      <td>0</td>\n",
       "      <td>-0.156967</td>\n",
       "    </tr>\n",
       "    <tr>\n",
       "      <th>4</th>\n",
       "      <td>2.142162</td>\n",
       "      <td>-0.494988</td>\n",
       "      <td>-1.936511</td>\n",
       "      <td>-0.818288</td>\n",
       "      <td>-0.025213</td>\n",
       "      <td>-1.027245</td>\n",
       "      <td>-0.151627</td>\n",
       "      <td>-0.305750</td>\n",
       "      <td>-0.869482</td>\n",
       "      <td>0.428729</td>\n",
       "      <td>...</td>\n",
       "      <td>0.021722</td>\n",
       "      <td>0.079463</td>\n",
       "      <td>-0.480899</td>\n",
       "      <td>0.023846</td>\n",
       "      <td>-0.279076</td>\n",
       "      <td>-0.030121</td>\n",
       "      <td>-0.043888</td>\n",
       "      <td>39.96</td>\n",
       "      <td>0</td>\n",
       "      <td>0.251259</td>\n",
       "    </tr>\n",
       "  </tbody>\n",
       "</table>\n",
       "<p>5 rows × 31 columns</p>\n",
       "</div>"
      ],
      "text/plain": [
       "         V1        V2        V3        V4        V5        V6        V7  \\\n",
       "0  1.043949  0.318555  1.045810  2.805989 -0.561113 -0.367956  0.032736   \n",
       "1 -1.665159  0.808440  1.805627  1.903416 -0.821627  0.934790 -0.824802   \n",
       "2 -0.324096  0.601836  0.865329 -2.138000  0.294663 -1.251553  1.072114   \n",
       "3 -0.258270  1.217501 -0.585348 -0.875347  1.222481 -0.311027  1.073860   \n",
       "4  2.142162 -0.494988 -1.936511 -0.818288 -0.025213 -1.027245 -0.151627   \n",
       "\n",
       "         V8        V9       V10  ...       V22       V23       V24       V25  \\\n",
       "0 -0.042333 -0.322674  0.499167  ... -0.680315  0.085328  0.684812  0.318620   \n",
       "1  0.975890  1.747469 -0.658751  ... -0.510994  0.035839  0.147565 -0.529358   \n",
       "2 -0.334896  1.071268 -1.109522  ...  0.352856 -0.341505 -0.145791  0.094194   \n",
       "3 -0.161408  0.200665  0.154307  ... -0.781158  0.019316  0.178614 -0.315616   \n",
       "4 -0.305750 -0.869482  0.428729  ...  0.021722  0.079463 -0.480899  0.023846   \n",
       "\n",
       "        V26       V27       V28  Amount  Class  Std_Amount  \n",
       "0 -0.204963  0.001662  0.037894   49.67      0    0.387101  \n",
       "1 -0.566950 -0.595998 -0.220086   16.94      0   -0.070789  \n",
       "2 -0.804026  0.229428 -0.021623    1.00      0   -0.293788  \n",
       "3  0.096665  0.269740 -0.020635   10.78      0   -0.156967  \n",
       "4 -0.279076 -0.030121 -0.043888   39.96      0    0.251259  \n",
       "\n",
       "[5 rows x 31 columns]"
      ]
     },
     "execution_count": 19,
     "metadata": {},
     "output_type": "execute_result"
    }
   ],
   "source": [
    "#Standardizing the Amount column (All other 'V' columns are already scaled as they've undergone PCA transformation).\n",
    "Rob_scaler=RobustScaler() #Robust to outliers\n",
    "creditcard_data['Std_Amount'] = Rob_scaler.fit_transform(creditcard_data['Amount'].values.reshape(-1, 1))\n",
    "creditcard_data.head()"
   ]
  },
  {
   "cell_type": "code",
   "execution_count": 20,
   "metadata": {
    "_uuid": "48607508d0c739386e7218bd0b3c02d335480296"
   },
   "outputs": [
    {
     "data": {
      "text/html": [
       "<div>\n",
       "<style scoped>\n",
       "    .dataframe tbody tr th:only-of-type {\n",
       "        vertical-align: middle;\n",
       "    }\n",
       "\n",
       "    .dataframe tbody tr th {\n",
       "        vertical-align: top;\n",
       "    }\n",
       "\n",
       "    .dataframe thead th {\n",
       "        text-align: right;\n",
       "    }\n",
       "</style>\n",
       "<table border=\"1\" class=\"dataframe\">\n",
       "  <thead>\n",
       "    <tr style=\"text-align: right;\">\n",
       "      <th></th>\n",
       "      <th>Std_Amount</th>\n",
       "      <th>V1</th>\n",
       "      <th>V2</th>\n",
       "      <th>V3</th>\n",
       "      <th>V4</th>\n",
       "      <th>V5</th>\n",
       "      <th>V6</th>\n",
       "      <th>V7</th>\n",
       "      <th>V8</th>\n",
       "      <th>V9</th>\n",
       "      <th>...</th>\n",
       "      <th>V20</th>\n",
       "      <th>V21</th>\n",
       "      <th>V22</th>\n",
       "      <th>V23</th>\n",
       "      <th>V24</th>\n",
       "      <th>V25</th>\n",
       "      <th>V26</th>\n",
       "      <th>V27</th>\n",
       "      <th>V28</th>\n",
       "      <th>Class</th>\n",
       "    </tr>\n",
       "  </thead>\n",
       "  <tbody>\n",
       "    <tr>\n",
       "      <th>0</th>\n",
       "      <td>0.387101</td>\n",
       "      <td>1.043949</td>\n",
       "      <td>0.318555</td>\n",
       "      <td>1.045810</td>\n",
       "      <td>2.805989</td>\n",
       "      <td>-0.561113</td>\n",
       "      <td>-0.367956</td>\n",
       "      <td>0.032736</td>\n",
       "      <td>-0.042333</td>\n",
       "      <td>-0.322674</td>\n",
       "      <td>...</td>\n",
       "      <td>-0.084556</td>\n",
       "      <td>-0.240105</td>\n",
       "      <td>-0.680315</td>\n",
       "      <td>0.085328</td>\n",
       "      <td>0.684812</td>\n",
       "      <td>0.318620</td>\n",
       "      <td>-0.204963</td>\n",
       "      <td>0.001662</td>\n",
       "      <td>0.037894</td>\n",
       "      <td>0</td>\n",
       "    </tr>\n",
       "    <tr>\n",
       "      <th>1</th>\n",
       "      <td>-0.070789</td>\n",
       "      <td>-1.665159</td>\n",
       "      <td>0.808440</td>\n",
       "      <td>1.805627</td>\n",
       "      <td>1.903416</td>\n",
       "      <td>-0.821627</td>\n",
       "      <td>0.934790</td>\n",
       "      <td>-0.824802</td>\n",
       "      <td>0.975890</td>\n",
       "      <td>1.747469</td>\n",
       "      <td>...</td>\n",
       "      <td>-0.373759</td>\n",
       "      <td>-0.335332</td>\n",
       "      <td>-0.510994</td>\n",
       "      <td>0.035839</td>\n",
       "      <td>0.147565</td>\n",
       "      <td>-0.529358</td>\n",
       "      <td>-0.566950</td>\n",
       "      <td>-0.595998</td>\n",
       "      <td>-0.220086</td>\n",
       "      <td>0</td>\n",
       "    </tr>\n",
       "    <tr>\n",
       "      <th>2</th>\n",
       "      <td>-0.293788</td>\n",
       "      <td>-0.324096</td>\n",
       "      <td>0.601836</td>\n",
       "      <td>0.865329</td>\n",
       "      <td>-2.138000</td>\n",
       "      <td>0.294663</td>\n",
       "      <td>-1.251553</td>\n",
       "      <td>1.072114</td>\n",
       "      <td>-0.334896</td>\n",
       "      <td>1.071268</td>\n",
       "      <td>...</td>\n",
       "      <td>-0.039868</td>\n",
       "      <td>0.012220</td>\n",
       "      <td>0.352856</td>\n",
       "      <td>-0.341505</td>\n",
       "      <td>-0.145791</td>\n",
       "      <td>0.094194</td>\n",
       "      <td>-0.804026</td>\n",
       "      <td>0.229428</td>\n",
       "      <td>-0.021623</td>\n",
       "      <td>0</td>\n",
       "    </tr>\n",
       "    <tr>\n",
       "      <th>3</th>\n",
       "      <td>-0.156967</td>\n",
       "      <td>-0.258270</td>\n",
       "      <td>1.217501</td>\n",
       "      <td>-0.585348</td>\n",
       "      <td>-0.875347</td>\n",
       "      <td>1.222481</td>\n",
       "      <td>-0.311027</td>\n",
       "      <td>1.073860</td>\n",
       "      <td>-0.161408</td>\n",
       "      <td>0.200665</td>\n",
       "      <td>...</td>\n",
       "      <td>0.382305</td>\n",
       "      <td>-0.424626</td>\n",
       "      <td>-0.781158</td>\n",
       "      <td>0.019316</td>\n",
       "      <td>0.178614</td>\n",
       "      <td>-0.315616</td>\n",
       "      <td>0.096665</td>\n",
       "      <td>0.269740</td>\n",
       "      <td>-0.020635</td>\n",
       "      <td>0</td>\n",
       "    </tr>\n",
       "    <tr>\n",
       "      <th>4</th>\n",
       "      <td>0.251259</td>\n",
       "      <td>2.142162</td>\n",
       "      <td>-0.494988</td>\n",
       "      <td>-1.936511</td>\n",
       "      <td>-0.818288</td>\n",
       "      <td>-0.025213</td>\n",
       "      <td>-1.027245</td>\n",
       "      <td>-0.151627</td>\n",
       "      <td>-0.305750</td>\n",
       "      <td>-0.869482</td>\n",
       "      <td>...</td>\n",
       "      <td>0.106592</td>\n",
       "      <td>0.010115</td>\n",
       "      <td>0.021722</td>\n",
       "      <td>0.079463</td>\n",
       "      <td>-0.480899</td>\n",
       "      <td>0.023846</td>\n",
       "      <td>-0.279076</td>\n",
       "      <td>-0.030121</td>\n",
       "      <td>-0.043888</td>\n",
       "      <td>0</td>\n",
       "    </tr>\n",
       "  </tbody>\n",
       "</table>\n",
       "<p>5 rows × 30 columns</p>\n",
       "</div>"
      ],
      "text/plain": [
       "   Std_Amount        V1        V2        V3        V4        V5        V6  \\\n",
       "0    0.387101  1.043949  0.318555  1.045810  2.805989 -0.561113 -0.367956   \n",
       "1   -0.070789 -1.665159  0.808440  1.805627  1.903416 -0.821627  0.934790   \n",
       "2   -0.293788 -0.324096  0.601836  0.865329 -2.138000  0.294663 -1.251553   \n",
       "3   -0.156967 -0.258270  1.217501 -0.585348 -0.875347  1.222481 -0.311027   \n",
       "4    0.251259  2.142162 -0.494988 -1.936511 -0.818288 -0.025213 -1.027245   \n",
       "\n",
       "         V7        V8        V9  ...       V20       V21       V22       V23  \\\n",
       "0  0.032736 -0.042333 -0.322674  ... -0.084556 -0.240105 -0.680315  0.085328   \n",
       "1 -0.824802  0.975890  1.747469  ... -0.373759 -0.335332 -0.510994  0.035839   \n",
       "2  1.072114 -0.334896  1.071268  ... -0.039868  0.012220  0.352856 -0.341505   \n",
       "3  1.073860 -0.161408  0.200665  ...  0.382305 -0.424626 -0.781158  0.019316   \n",
       "4 -0.151627 -0.305750 -0.869482  ...  0.106592  0.010115  0.021722  0.079463   \n",
       "\n",
       "        V24       V25       V26       V27       V28  Class  \n",
       "0  0.684812  0.318620 -0.204963  0.001662  0.037894      0  \n",
       "1  0.147565 -0.529358 -0.566950 -0.595998 -0.220086      0  \n",
       "2 -0.145791  0.094194 -0.804026  0.229428 -0.021623      0  \n",
       "3  0.178614 -0.315616  0.096665  0.269740 -0.020635      0  \n",
       "4 -0.480899  0.023846 -0.279076 -0.030121 -0.043888      0  \n",
       "\n",
       "[5 rows x 30 columns]"
      ]
     },
     "execution_count": 20,
     "metadata": {},
     "output_type": "execute_result"
    }
   ],
   "source": [
    "#drop Amount and move Std_Amount at index '0'\n",
    "creditcard_data = creditcard_data.drop('Amount',axis=1)\n",
    "\n",
    "Std_Amount = creditcard_data['Std_Amount']\n",
    "creditcard_data.drop('Std_Amount', axis=1, inplace=True)\n",
    "creditcard_data.insert(0, 'Std_Amount', Std_Amount)\n",
    "creditcard_data.head()"
   ]
  },
  {
   "cell_type": "code",
   "execution_count": 21,
   "metadata": {
    "_uuid": "eea30ac82c117bc52729b0b105012810138140d7"
   },
   "outputs": [
    {
     "name": "stdout",
     "output_type": "stream",
     "text": [
      "Train: [225122  62006 197445 ... 195660 152114 100494] Test: [197823 111280  39999 ... 161435 162193  66534]\n",
      "Train: [ 94886 216390  49746 ... 212564  15633  28212] Test: [218590 111705 194736 ...   2919 166445  55972]\n",
      "Train: [ 32324 180273 157039 ... 137767 192048 182984] Test: [ 74389  81651 166161 ... 119462  81618 204466]\n",
      "Train: [ 43140 115026 219146 ... 219247 193629 214207] Test: [112234 227312  70293 ...  18813  45842 188749]\n",
      "Train: [169044  18030 143022 ...  18169  91165 146400] Test: [223112 114673 210204 ...  40532 224979 204902]\n",
      "Train: [156342  79710 176312 ...  84253   4585 115638] Validation: [161559 168932  92399 ... 164436 120425  62356]\n",
      "Train: [ 32281  56644  79473 ... 106044  34049  74250] Validation: [ 79214 162190 168613 ... 155607 115380  97505]\n",
      "Train: [  4921 161657 156505 ...  21832  16433 118059] Validation: [145364 164817 178563 ...  78545 128132 181294]\n",
      "Train: [144345  25604  29214 ... 151088  37959 170860] Validation: [155112  31753 138773 ...  87907  80196  12127]\n",
      "Train: [ 92867 128235 125273 ...    916  85331 113497] Validation: [  4825  59601 129764 ...  42131  43180 177832]\n"
     ]
    }
   ],
   "source": [
    "#Splitting data before sampling\n",
    "#Splitting data into train and test set in 80% and 20% respectively, using Stratified Shuffle Split\n",
    "\n",
    "X = creditcard_data.drop('Class', axis=1)\n",
    "Y = creditcard_data['Class']\n",
    "\n",
    "sss1 = StratifiedShuffleSplit(n_splits=5, test_size=0.2, random_state=42)\n",
    "\n",
    "for train_index1, test_index in sss1.split(X, Y):\n",
    "    print(\"Train:\", train_index1, \"Test:\", test_index)\n",
    "    Xtrain, Xtest = X.iloc[train_index1], X.iloc[test_index]\n",
    "    Ytrain, Ytest = Y.iloc[train_index1], Y.iloc[test_index]\n",
    "\n",
    "#Splitting the train set further into train and validation set, which leaves train set 60% of the originial dataset and, test and validation sets 20% each respectively.\n",
    "sss2 = StratifiedShuffleSplit(n_splits=5, test_size=0.25, random_state=42)\n",
    "\n",
    "for train_index2, val_index in sss2.split(Xtrain, Ytrain):\n",
    "    print(\"Train:\", train_index2, \"Validation:\", val_index)\n",
    "    Xtrain_final, Xval = X.iloc[train_index2], X.iloc[val_index]\n",
    "    Ytrain_final, Yval = Y.iloc[train_index2], Y.iloc[val_index]"
   ]
  },
  {
   "cell_type": "markdown",
   "metadata": {
    "_uuid": "fb7bdeffb64b5e0e6adfd1f604e5918d06d3ce81"
   },
   "source": [
    "Datasets created after splitting are:\n",
    "1. Train Dataset: Xtrain_final, Ytrain_final\n",
    "2. Test Dataset: Xtest, Ytest\n",
    "3. Validation Dataset: Xval, Yval"
   ]
  },
  {
   "cell_type": "code",
   "execution_count": 22,
   "metadata": {
    "_uuid": "01b86e5a7fef8faae526022b6c4879f2b09dd48e"
   },
   "outputs": [
    {
     "name": "stdout",
     "output_type": "stream",
     "text": [
      "Label Distributions: \n",
      "\n",
      "[0.99839803 0.00160197]\n",
      "[0.99826637 0.00173363]\n",
      "[0.99817859 0.00182141]\n"
     ]
    }
   ],
   "source": [
    "# Check if the labels are distributed equally in all the datasets after splitting\n",
    "train_unique_label, train_counts_label = np.unique(Ytrain_final, return_counts=True)\n",
    "test_unique_label, test_counts_label = np.unique(Ytest, return_counts=True)\n",
    "val_unique_label, val_counts_label = np.unique(Yval, return_counts=True)\n",
    "\n",
    "print('Label Distributions: \\n')\n",
    "print(train_counts_label/ len(Ytrain_final))\n",
    "print(test_counts_label/ len(Ytest))\n",
    "print(val_counts_label/ len(Yval))"
   ]
  },
  {
   "cell_type": "markdown",
   "metadata": {
    "_uuid": "990cf759e3148bd31dd8b73b42b0755915756cc8"
   },
   "source": [
    "As seen above, the labels are almost equally distributed in all the three datasets"
   ]
  },
  {
   "cell_type": "code",
   "execution_count": 23,
   "metadata": {
    "_uuid": "59d177ae8b5f1b1223f7bbe9bdb7e7acd3dd15b1"
   },
   "outputs": [
    {
     "name": "stdout",
     "output_type": "stream",
     "text": [
      "(136707, 29)\n",
      "(136707,)\n",
      "(45569, 29)\n",
      "(45569,)\n",
      "(45569, 29)\n",
      "(45569,)\n"
     ]
    }
   ],
   "source": [
    "#Dimensionality of the datasets retrieved after splitting\n",
    "print(Xtrain_final.shape)\n",
    "print(Ytrain_final.shape)\n",
    "print(Xtest.shape)\n",
    "print(Ytest.shape)\n",
    "print(Xval.shape)\n",
    "print(Yval.shape)"
   ]
  },
  {
   "cell_type": "code",
   "execution_count": 24,
   "metadata": {
    "_uuid": "b84a50d6d3a0bdb790eb1b9f3e17fdc36576d653"
   },
   "outputs": [
    {
     "data": {
      "text/plain": [
       "Text(0.5, 1.0, 'Imbalanced Correlation Matrix')"
      ]
     },
     "execution_count": 24,
     "metadata": {},
     "output_type": "execute_result"
    },
    {
     "data": {
      "image/png": "[encoded data removed]",
      "text/plain": [
       "<Figure size 1728x720 with 2 Axes>"
      ]
     },
     "metadata": {
      "needs_background": "light"
     },
     "output_type": "display_data"
    }
   ],
   "source": [
    "#checking correlation between features and the likelihood of the transaction to be fraud on the unbalanced dataset\n",
    "f, ax1 = plt.subplots(figsize=(24,10))\n",
    "\n",
    "corr = creditcard_data.corr()\n",
    "sns.heatmap(corr, cmap='coolwarm_r', annot_kws={'size':20}, ax=ax1)\n",
    "ax1.set_title(\"Imbalanced Correlation Matrix\", fontsize=14)"
   ]
  },
  {
   "cell_type": "markdown",
   "metadata": {
    "_uuid": "935172cb925d7b448e2aaba82c8ccd21086a7d95"
   },
   "source": [
    "As seen, the correlations cannot be properly visualized because of the imbalance in the dataset. This is because the correlation matrix is affected by the high imbalance betwen the classes. So, lets balance our classes and then visualize the correlation matrix again."
   ]
  },
  {
   "cell_type": "code",
   "execution_count": 25,
   "metadata": {
    "_uuid": "6eca21f4538c2177c3f9d63d0fd2a16a4cb1d450"
   },
   "outputs": [
    {
     "name": "stdout",
     "output_type": "stream",
     "text": [
      "0    136488\n",
      "1       219\n",
      "Name: Class, dtype: int64\n"
     ]
    }
   ],
   "source": [
    "#Checking number of instances for each class in the train dataset\n",
    "print(Ytrain_final.value_counts())"
   ]
  },
  {
   "cell_type": "code",
   "execution_count": 26,
   "metadata": {
    "_uuid": "241ccb99a6217db12d4d2559facfca900dea11a3"
   },
   "outputs": [
    {
     "name": "stdout",
     "output_type": "stream",
     "text": [
      "Resampled dataset shape Counter({0: 136488, 1: 136484})\n",
      "Shape of X_adasampled: (272972, 29)\n",
      "Shape of Y_adasampled: (272972,)\n"
     ]
    }
   ],
   "source": [
    "#Using ADASYN for Oversampling\n",
    "ada = ADASYN(sampling_strategy='minority', random_state=42)\n",
    "\n",
    "#Oversampling is applied only on the training set\n",
    "X_adasampled, Y_adasampled = ada.fit_resample(Xtrain_final, Ytrain_final)\n",
    "print('Resampled dataset shape %s' % Counter(Y_adasampled))\n",
    "print('Shape of X_adasampled: {}'.format(X_adasampled.shape))\n",
    "print('Shape of Y_adasampled: {}'.format(Y_adasampled.shape))"
   ]
  },
  {
   "cell_type": "code",
   "execution_count": 27,
   "metadata": {
    "_uuid": "20821c5430aa0784c19135fc105f59999beb14cb"
   },
   "outputs": [
    {
     "name": "stdout",
     "output_type": "stream",
     "text": [
      "Label Distributions: \n",
      "\n",
      "[0.50000733 0.49999267]\n"
     ]
    }
   ],
   "source": [
    "#check the disribution of both the labels\n",
    "train_label, train_count = np.unique(Y_adasampled, return_counts=True)\n",
    "print('Label Distributions: \\n')\n",
    "print(train_count/ len(Y_adasampled))"
   ]
  },
  {
   "cell_type": "code",
   "execution_count": 28,
   "metadata": {
    "_uuid": "7bf9319b818ef709b3c9123ee24c778d04101cc1"
   },
   "outputs": [
    {
     "name": "stdout",
     "output_type": "stream",
     "text": [
      "<class 'pandas.core.frame.DataFrame'>\n",
      "<class 'pandas.core.series.Series'>\n"
     ]
    }
   ],
   "source": [
    "print(type(X_adasampled))\n",
    "print(type(Y_adasampled))"
   ]
  },
  {
   "cell_type": "markdown",
   "metadata": {
    "_uuid": "a703a77685eeb5fff3ac3c1fb4531c8ca875ce60"
   },
   "source": [
    " X_adasampled and Y_adasampled are the balanced train sets resulted after using OverSampling. These are ndarrays.\n",
    "In order to visualize a correlation matrix, they are converted to a dataframe and joined to form a single dataframe in the below series of blocks."
   ]
  },
  {
   "cell_type": "code",
   "execution_count": 29,
   "metadata": {
    "_uuid": "0f1b4289d662d64308cf7ccc326d6e16d4a647ee"
   },
   "outputs": [
    {
     "name": "stdout",
     "output_type": "stream",
     "text": [
      "   Std_Amount        V1        V2        V3        V4        V5        V6  \\\n",
      "0    0.391718  1.391704 -0.956324  0.375764 -1.307847 -1.360502 -0.888878   \n",
      "1   -0.028120 -0.024058  0.906787 -0.512677 -0.332816  1.178407 -0.906475   \n",
      "2   -0.277700 -6.832324  5.473283 -2.486706 -2.259795 -2.801785 -1.182182   \n",
      "3    1.902630  0.987080 -1.034487  0.639821  0.534649 -1.275574  0.135043   \n",
      "4   -0.223839  2.285305 -1.559815 -0.764643 -1.660166 -1.467828 -0.370045   \n",
      "\n",
      "         V7        V8        V9  ...       V19       V20       V21       V22  \\\n",
      "0 -0.674548 -0.202343 -2.119004  ... -0.469560 -0.292669 -0.573400 -1.392248   \n",
      "1  1.059598 -0.243177 -0.164214  ...  0.104782 -0.025478  0.310699  0.979393   \n",
      "2 -1.797054  2.917665  2.518916  ... -0.802293  1.646940 -0.485352 -0.543050   \n",
      "3 -0.726047  0.156434 -0.526831  ... -0.741060 -0.290064 -0.135269 -0.174666   \n",
      "4 -1.484208  0.057005 -0.993251  ...  0.263038 -0.543816 -0.149236  0.009356   \n",
      "\n",
      "        V23       V24       V25       V26       V27       V28  \n",
      "0  0.328020  0.324591 -0.037594 -0.636792  0.028716  0.031302  \n",
      "1 -0.277950 -0.778441 -0.401227 -0.114718  0.224558  0.239336  \n",
      "2  0.360650 -0.079759  0.565807  0.653848 -0.088113 -0.713919  \n",
      "3 -0.223013 -0.027926  0.446064 -0.231998  0.038214  0.044343  \n",
      "4  0.218322 -0.560877 -0.305969 -0.159287  0.012659 -0.064798  \n",
      "\n",
      "[5 rows x 29 columns]\n",
      "   Class\n",
      "0      0\n",
      "1      0\n",
      "2      0\n",
      "3      0\n",
      "4      0\n"
     ]
    }
   ],
   "source": [
    "Xsm_train_df = pd.DataFrame(X_adasampled)\n",
    "Xsm_train_df.columns = Xtrain.columns\n",
    "Ysm_train_df = pd.DataFrame(Y_adasampled)\n",
    "Ysm_train_df = Ysm_train_df.rename(columns={0: 'Class'})\n",
    "print(Xsm_train_df.head())\n",
    "print(Ysm_train_df.head())"
   ]
  },
  {
   "cell_type": "code",
   "execution_count": 30,
   "metadata": {
    "_uuid": "a5d3aa02c156e3590993063fa3221a7222e522d5"
   },
   "outputs": [
    {
     "data": {
      "text/html": [
       "<div>\n",
       "<style scoped>\n",
       "    .dataframe tbody tr th:only-of-type {\n",
       "        vertical-align: middle;\n",
       "    }\n",
       "\n",
       "    .dataframe tbody tr th {\n",
       "        vertical-align: top;\n",
       "    }\n",
       "\n",
       "    .dataframe thead th {\n",
       "        text-align: right;\n",
       "    }\n",
       "</style>\n",
       "<table border=\"1\" class=\"dataframe\">\n",
       "  <thead>\n",
       "    <tr style=\"text-align: right;\">\n",
       "      <th></th>\n",
       "      <th>Std_Amount</th>\n",
       "      <th>V1</th>\n",
       "      <th>V2</th>\n",
       "      <th>V3</th>\n",
       "      <th>V4</th>\n",
       "      <th>V5</th>\n",
       "      <th>V6</th>\n",
       "      <th>V7</th>\n",
       "      <th>V8</th>\n",
       "      <th>V9</th>\n",
       "      <th>...</th>\n",
       "      <th>V20</th>\n",
       "      <th>V21</th>\n",
       "      <th>V22</th>\n",
       "      <th>V23</th>\n",
       "      <th>V24</th>\n",
       "      <th>V25</th>\n",
       "      <th>V26</th>\n",
       "      <th>V27</th>\n",
       "      <th>V28</th>\n",
       "      <th>Class</th>\n",
       "    </tr>\n",
       "  </thead>\n",
       "  <tbody>\n",
       "    <tr>\n",
       "      <th>0</th>\n",
       "      <td>0.391718</td>\n",
       "      <td>1.391704</td>\n",
       "      <td>-0.956324</td>\n",
       "      <td>0.375764</td>\n",
       "      <td>-1.307847</td>\n",
       "      <td>-1.360502</td>\n",
       "      <td>-0.888878</td>\n",
       "      <td>-0.674548</td>\n",
       "      <td>-0.202343</td>\n",
       "      <td>-2.119004</td>\n",
       "      <td>...</td>\n",
       "      <td>-0.292669</td>\n",
       "      <td>-0.573400</td>\n",
       "      <td>-1.392248</td>\n",
       "      <td>0.328020</td>\n",
       "      <td>0.324591</td>\n",
       "      <td>-0.037594</td>\n",
       "      <td>-0.636792</td>\n",
       "      <td>0.028716</td>\n",
       "      <td>0.031302</td>\n",
       "      <td>0</td>\n",
       "    </tr>\n",
       "    <tr>\n",
       "      <th>1</th>\n",
       "      <td>-0.028120</td>\n",
       "      <td>-0.024058</td>\n",
       "      <td>0.906787</td>\n",
       "      <td>-0.512677</td>\n",
       "      <td>-0.332816</td>\n",
       "      <td>1.178407</td>\n",
       "      <td>-0.906475</td>\n",
       "      <td>1.059598</td>\n",
       "      <td>-0.243177</td>\n",
       "      <td>-0.164214</td>\n",
       "      <td>...</td>\n",
       "      <td>-0.025478</td>\n",
       "      <td>0.310699</td>\n",
       "      <td>0.979393</td>\n",
       "      <td>-0.277950</td>\n",
       "      <td>-0.778441</td>\n",
       "      <td>-0.401227</td>\n",
       "      <td>-0.114718</td>\n",
       "      <td>0.224558</td>\n",
       "      <td>0.239336</td>\n",
       "      <td>0</td>\n",
       "    </tr>\n",
       "    <tr>\n",
       "      <th>2</th>\n",
       "      <td>-0.277700</td>\n",
       "      <td>-6.832324</td>\n",
       "      <td>5.473283</td>\n",
       "      <td>-2.486706</td>\n",
       "      <td>-2.259795</td>\n",
       "      <td>-2.801785</td>\n",
       "      <td>-1.182182</td>\n",
       "      <td>-1.797054</td>\n",
       "      <td>2.917665</td>\n",
       "      <td>2.518916</td>\n",
       "      <td>...</td>\n",
       "      <td>1.646940</td>\n",
       "      <td>-0.485352</td>\n",
       "      <td>-0.543050</td>\n",
       "      <td>0.360650</td>\n",
       "      <td>-0.079759</td>\n",
       "      <td>0.565807</td>\n",
       "      <td>0.653848</td>\n",
       "      <td>-0.088113</td>\n",
       "      <td>-0.713919</td>\n",
       "      <td>0</td>\n",
       "    </tr>\n",
       "    <tr>\n",
       "      <th>3</th>\n",
       "      <td>1.902630</td>\n",
       "      <td>0.987080</td>\n",
       "      <td>-1.034487</td>\n",
       "      <td>0.639821</td>\n",
       "      <td>0.534649</td>\n",
       "      <td>-1.275574</td>\n",
       "      <td>0.135043</td>\n",
       "      <td>-0.726047</td>\n",
       "      <td>0.156434</td>\n",
       "      <td>-0.526831</td>\n",
       "      <td>...</td>\n",
       "      <td>-0.290064</td>\n",
       "      <td>-0.135269</td>\n",
       "      <td>-0.174666</td>\n",
       "      <td>-0.223013</td>\n",
       "      <td>-0.027926</td>\n",
       "      <td>0.446064</td>\n",
       "      <td>-0.231998</td>\n",
       "      <td>0.038214</td>\n",
       "      <td>0.044343</td>\n",
       "      <td>0</td>\n",
       "    </tr>\n",
       "    <tr>\n",
       "      <th>4</th>\n",
       "      <td>-0.223839</td>\n",
       "      <td>2.285305</td>\n",
       "      <td>-1.559815</td>\n",
       "      <td>-0.764643</td>\n",
       "      <td>-1.660166</td>\n",
       "      <td>-1.467828</td>\n",
       "      <td>-0.370045</td>\n",
       "      <td>-1.484208</td>\n",
       "      <td>0.057005</td>\n",
       "      <td>-0.993251</td>\n",
       "      <td>...</td>\n",
       "      <td>-0.543816</td>\n",
       "      <td>-0.149236</td>\n",
       "      <td>0.009356</td>\n",
       "      <td>0.218322</td>\n",
       "      <td>-0.560877</td>\n",
       "      <td>-0.305969</td>\n",
       "      <td>-0.159287</td>\n",
       "      <td>0.012659</td>\n",
       "      <td>-0.064798</td>\n",
       "      <td>0</td>\n",
       "    </tr>\n",
       "  </tbody>\n",
       "</table>\n",
       "<p>5 rows × 30 columns</p>\n",
       "</div>"
      ],
      "text/plain": [
       "   Std_Amount        V1        V2        V3        V4        V5        V6  \\\n",
       "0    0.391718  1.391704 -0.956324  0.375764 -1.307847 -1.360502 -0.888878   \n",
       "1   -0.028120 -0.024058  0.906787 -0.512677 -0.332816  1.178407 -0.906475   \n",
       "2   -0.277700 -6.832324  5.473283 -2.486706 -2.259795 -2.801785 -1.182182   \n",
       "3    1.902630  0.987080 -1.034487  0.639821  0.534649 -1.275574  0.135043   \n",
       "4   -0.223839  2.285305 -1.559815 -0.764643 -1.660166 -1.467828 -0.370045   \n",
       "\n",
       "         V7        V8        V9  ...       V20       V21       V22       V23  \\\n",
       "0 -0.674548 -0.202343 -2.119004  ... -0.292669 -0.573400 -1.392248  0.328020   \n",
       "1  1.059598 -0.243177 -0.164214  ... -0.025478  0.310699  0.979393 -0.277950   \n",
       "2 -1.797054  2.917665  2.518916  ...  1.646940 -0.485352 -0.543050  0.360650   \n",
       "3 -0.726047  0.156434 -0.526831  ... -0.290064 -0.135269 -0.174666 -0.223013   \n",
       "4 -1.484208  0.057005 -0.993251  ... -0.543816 -0.149236  0.009356  0.218322   \n",
       "\n",
       "        V24       V25       V26       V27       V28  Class  \n",
       "0  0.324591 -0.037594 -0.636792  0.028716  0.031302      0  \n",
       "1 -0.778441 -0.401227 -0.114718  0.224558  0.239336      0  \n",
       "2 -0.079759  0.565807  0.653848 -0.088113 -0.713919      0  \n",
       "3 -0.027926  0.446064 -0.231998  0.038214  0.044343      0  \n",
       "4 -0.560877 -0.305969 -0.159287  0.012659 -0.064798      0  \n",
       "\n",
       "[5 rows x 30 columns]"
      ]
     },
     "execution_count": 30,
     "metadata": {},
     "output_type": "execute_result"
    }
   ],
   "source": [
    "#Merging the Xsm_train_df and Ysm_train_df based on the index values to get a single dataframe in order to visualize a correlation matrix\n",
    "new_df= pd.merge(Xsm_train_df, Ysm_train_df, how='inner', left_index=True, right_index=True)\n",
    "new_df.head()"
   ]
  },
  {
   "cell_type": "markdown",
   "metadata": {
    "_uuid": "8e425631a8a1db0a547dd702da48329b322eaf19"
   },
   "source": [
    "Hence, the data frames Xsm_train_df and Ysm_train_df are merged to form a new dataframe 'new_df', with 30 attributes in total comprising of 'Std_Amount', 'V1-V28' from Xsm_train_df and 'Class' from Ysm_train_df."
   ]
  },
  {
   "cell_type": "code",
   "execution_count": 31,
   "metadata": {
    "_uuid": "631e5a64a6574d6b5236c2f160825f539fe8e945"
   },
   "outputs": [
    {
     "data": {
      "text/plain": [
       "Text(0.5, 1.0, 'Balanced Correlation Matrix')"
      ]
     },
     "execution_count": 31,
     "metadata": {},
     "output_type": "execute_result"
    },
    {
     "data": {
      "image/png": "[encoded data removed]",
      "text/plain": [
       "<Figure size 1728x720 with 2 Axes>"
      ]
     },
     "metadata": {
      "needs_background": "light"
     },
     "output_type": "display_data"
    }
   ],
   "source": [
    "#checking correlation between features on the balanced dataset\n",
    "f, ax1 = plt.subplots(figsize=(24,10))\n",
    "\n",
    "corr = new_df.corr()\n",
    "sns.heatmap(corr, cmap='coolwarm_r', annot_kws={'size':20}, ax=ax1)\n",
    "ax1.set_title(\"Balanced Correlation Matrix\", fontsize=14)"
   ]
  },
  {
   "cell_type": "markdown",
   "metadata": {
    "_uuid": "f2b3b40ba9e7609d3ef948412cf77a9291e2ce87"
   },
   "source": [
    "Negative and Positive Correlations can be seen in the matrix above:\n",
    "* Features, V14, V12, V10 and V3 show negative correlation towards the 'Class', As, lower are these values, more likely the transaction is Fraud.\n",
    "* Features V4, V11, V2 and V19 show positive correlation. As, higher are these values, more likely the transaction is Fraud.\n"
   ]
  },
  {
   "cell_type": "code",
   "execution_count": 32,
   "metadata": {
    "_uuid": "cfea01724e1dd53f693a5144d66e664059d43cbc"
   },
   "outputs": [
    {
     "data": {
      "text/plain": [
       "<seaborn.axisgrid.FacetGrid at 0x1cd53efdb50>"
      ]
     },
     "execution_count": 32,
     "metadata": {},
     "output_type": "execute_result"
    },
    {
     "data": {
      "image/png": "[encoded data removed]",
      "text/plain": [
       "<Figure size 402.375x360 with 1 Axes>"
      ]
     },
     "metadata": {
      "needs_background": "light"
     },
     "output_type": "display_data"
    }
   ],
   "source": [
    "#visualizing balanced train dataset\n",
    "X_df= pd.DataFrame(X_adasampled)\n",
    "Y_df= pd.DataFrame(Y_adasampled)\n",
    "Y_df=Y_df.rename(columns={0: 'Class'})\n",
    "train_2d= pd.DataFrame(pca.fit_transform(X_df.iloc[:,0:29]))\n",
    "train_2d= pd.concat([train_2d, Y_df], axis=1)\n",
    "train_2d.columns= ['x', 'y', 'Class']\n",
    "sns.lmplot(x='x', y='y', data=train_2d, fit_reg=False, hue='Class')"
   ]
  },
  {
   "cell_type": "markdown",
   "metadata": {
    "_uuid": "833f2a8b50f2df660a0c36bdaff837ea46cf2e11"
   },
   "source": [
    "The above plot gives a visual representation of the balanced dataset. As seen, the data is not linearly separable. Hence, a Multi-Layer Perceptron is trained on this data, in order to predict the data as 'fraud' or 'genuine'.\n",
    "For the training of the Multi-layer perceptron, many parameters need to be tuned, thus a Grid-Search is used for this purpose. The Grid-Search is performed on the subset of the data, as it takes a lot of time to run. The following blocks create a subset of the dataset using random undersampling used only for this purpose."
   ]
  },
  {
   "cell_type": "code",
   "execution_count": 33,
   "metadata": {
    "_uuid": "e3ed1cb24a125bd09d1875d11e6e33e5a63f658a",
    "scrolled": true
   },
   "outputs": [
    {
     "data": {
      "text/html": [
       "<div>\n",
       "<style scoped>\n",
       "    .dataframe tbody tr th:only-of-type {\n",
       "        vertical-align: middle;\n",
       "    }\n",
       "\n",
       "    .dataframe tbody tr th {\n",
       "        vertical-align: top;\n",
       "    }\n",
       "\n",
       "    .dataframe thead th {\n",
       "        text-align: right;\n",
       "    }\n",
       "</style>\n",
       "<table border=\"1\" class=\"dataframe\">\n",
       "  <thead>\n",
       "    <tr style=\"text-align: right;\">\n",
       "      <th></th>\n",
       "      <th>Std_Amount</th>\n",
       "      <th>V1</th>\n",
       "      <th>V2</th>\n",
       "      <th>V3</th>\n",
       "      <th>V4</th>\n",
       "      <th>V5</th>\n",
       "      <th>V6</th>\n",
       "      <th>V7</th>\n",
       "      <th>V8</th>\n",
       "      <th>V9</th>\n",
       "      <th>...</th>\n",
       "      <th>V20</th>\n",
       "      <th>V21</th>\n",
       "      <th>V22</th>\n",
       "      <th>V23</th>\n",
       "      <th>V24</th>\n",
       "      <th>V25</th>\n",
       "      <th>V26</th>\n",
       "      <th>V27</th>\n",
       "      <th>V28</th>\n",
       "      <th>Class</th>\n",
       "    </tr>\n",
       "  </thead>\n",
       "  <tbody>\n",
       "    <tr>\n",
       "      <th>92867</th>\n",
       "      <td>0.391718</td>\n",
       "      <td>1.391704</td>\n",
       "      <td>-0.956324</td>\n",
       "      <td>0.375764</td>\n",
       "      <td>-1.307847</td>\n",
       "      <td>-1.360502</td>\n",
       "      <td>-0.888878</td>\n",
       "      <td>-0.674548</td>\n",
       "      <td>-0.202343</td>\n",
       "      <td>-2.119004</td>\n",
       "      <td>...</td>\n",
       "      <td>-0.292669</td>\n",
       "      <td>-0.573400</td>\n",
       "      <td>-1.392248</td>\n",
       "      <td>0.328020</td>\n",
       "      <td>0.324591</td>\n",
       "      <td>-0.037594</td>\n",
       "      <td>-0.636792</td>\n",
       "      <td>0.028716</td>\n",
       "      <td>0.031302</td>\n",
       "      <td>0</td>\n",
       "    </tr>\n",
       "    <tr>\n",
       "      <th>128235</th>\n",
       "      <td>-0.028120</td>\n",
       "      <td>-0.024058</td>\n",
       "      <td>0.906787</td>\n",
       "      <td>-0.512677</td>\n",
       "      <td>-0.332816</td>\n",
       "      <td>1.178407</td>\n",
       "      <td>-0.906475</td>\n",
       "      <td>1.059598</td>\n",
       "      <td>-0.243177</td>\n",
       "      <td>-0.164214</td>\n",
       "      <td>...</td>\n",
       "      <td>-0.025478</td>\n",
       "      <td>0.310699</td>\n",
       "      <td>0.979393</td>\n",
       "      <td>-0.277950</td>\n",
       "      <td>-0.778441</td>\n",
       "      <td>-0.401227</td>\n",
       "      <td>-0.114718</td>\n",
       "      <td>0.224558</td>\n",
       "      <td>0.239336</td>\n",
       "      <td>0</td>\n",
       "    </tr>\n",
       "    <tr>\n",
       "      <th>125273</th>\n",
       "      <td>-0.277700</td>\n",
       "      <td>-6.832324</td>\n",
       "      <td>5.473283</td>\n",
       "      <td>-2.486706</td>\n",
       "      <td>-2.259795</td>\n",
       "      <td>-2.801785</td>\n",
       "      <td>-1.182182</td>\n",
       "      <td>-1.797054</td>\n",
       "      <td>2.917665</td>\n",
       "      <td>2.518916</td>\n",
       "      <td>...</td>\n",
       "      <td>1.646940</td>\n",
       "      <td>-0.485352</td>\n",
       "      <td>-0.543050</td>\n",
       "      <td>0.360650</td>\n",
       "      <td>-0.079759</td>\n",
       "      <td>0.565807</td>\n",
       "      <td>0.653848</td>\n",
       "      <td>-0.088113</td>\n",
       "      <td>-0.713919</td>\n",
       "      <td>0</td>\n",
       "    </tr>\n",
       "    <tr>\n",
       "      <th>130830</th>\n",
       "      <td>1.902630</td>\n",
       "      <td>0.987080</td>\n",
       "      <td>-1.034487</td>\n",
       "      <td>0.639821</td>\n",
       "      <td>0.534649</td>\n",
       "      <td>-1.275574</td>\n",
       "      <td>0.135043</td>\n",
       "      <td>-0.726047</td>\n",
       "      <td>0.156434</td>\n",
       "      <td>-0.526831</td>\n",
       "      <td>...</td>\n",
       "      <td>-0.290064</td>\n",
       "      <td>-0.135269</td>\n",
       "      <td>-0.174666</td>\n",
       "      <td>-0.223013</td>\n",
       "      <td>-0.027926</td>\n",
       "      <td>0.446064</td>\n",
       "      <td>-0.231998</td>\n",
       "      <td>0.038214</td>\n",
       "      <td>0.044343</td>\n",
       "      <td>0</td>\n",
       "    </tr>\n",
       "    <tr>\n",
       "      <th>140445</th>\n",
       "      <td>-0.223839</td>\n",
       "      <td>2.285305</td>\n",
       "      <td>-1.559815</td>\n",
       "      <td>-0.764643</td>\n",
       "      <td>-1.660166</td>\n",
       "      <td>-1.467828</td>\n",
       "      <td>-0.370045</td>\n",
       "      <td>-1.484208</td>\n",
       "      <td>0.057005</td>\n",
       "      <td>-0.993251</td>\n",
       "      <td>...</td>\n",
       "      <td>-0.543816</td>\n",
       "      <td>-0.149236</td>\n",
       "      <td>0.009356</td>\n",
       "      <td>0.218322</td>\n",
       "      <td>-0.560877</td>\n",
       "      <td>-0.305969</td>\n",
       "      <td>-0.159287</td>\n",
       "      <td>0.012659</td>\n",
       "      <td>-0.064798</td>\n",
       "      <td>0</td>\n",
       "    </tr>\n",
       "  </tbody>\n",
       "</table>\n",
       "<p>5 rows × 30 columns</p>\n",
       "</div>"
      ],
      "text/plain": [
       "        Std_Amount        V1        V2        V3        V4        V5  \\\n",
       "92867     0.391718  1.391704 -0.956324  0.375764 -1.307847 -1.360502   \n",
       "128235   -0.028120 -0.024058  0.906787 -0.512677 -0.332816  1.178407   \n",
       "125273   -0.277700 -6.832324  5.473283 -2.486706 -2.259795 -2.801785   \n",
       "130830    1.902630  0.987080 -1.034487  0.639821  0.534649 -1.275574   \n",
       "140445   -0.223839  2.285305 -1.559815 -0.764643 -1.660166 -1.467828   \n",
       "\n",
       "              V6        V7        V8        V9  ...       V20       V21  \\\n",
       "92867  -0.888878 -0.674548 -0.202343 -2.119004  ... -0.292669 -0.573400   \n",
       "128235 -0.906475  1.059598 -0.243177 -0.164214  ... -0.025478  0.310699   \n",
       "125273 -1.182182 -1.797054  2.917665  2.518916  ...  1.646940 -0.485352   \n",
       "130830  0.135043 -0.726047  0.156434 -0.526831  ... -0.290064 -0.135269   \n",
       "140445 -0.370045 -1.484208  0.057005 -0.993251  ... -0.543816 -0.149236   \n",
       "\n",
       "             V22       V23       V24       V25       V26       V27       V28  \\\n",
       "92867  -1.392248  0.328020  0.324591 -0.037594 -0.636792  0.028716  0.031302   \n",
       "128235  0.979393 -0.277950 -0.778441 -0.401227 -0.114718  0.224558  0.239336   \n",
       "125273 -0.543050  0.360650 -0.079759  0.565807  0.653848 -0.088113 -0.713919   \n",
       "130830 -0.174666 -0.223013 -0.027926  0.446064 -0.231998  0.038214  0.044343   \n",
       "140445  0.009356  0.218322 -0.560877 -0.305969 -0.159287  0.012659 -0.064798   \n",
       "\n",
       "        Class  \n",
       "92867       0  \n",
       "128235      0  \n",
       "125273      0  \n",
       "130830      0  \n",
       "140445      0  \n",
       "\n",
       "[5 rows x 30 columns]"
      ]
     },
     "execution_count": 33,
     "metadata": {},
     "output_type": "execute_result"
    }
   ],
   "source": [
    "#An undersampled dataset is created to tune the parameters using Grid-Search\n",
    "Ytrain_df = pd.DataFrame(Ytrain_final)\n",
    "Ytrain_df = Ytrain_df.rename(columns={0: 'Class'})\n",
    "Train_set= pd.merge(Xtrain_final, Ytrain_df, how='inner', left_index=True, right_index=True)\n",
    "Train_set.head()"
   ]
  },
  {
   "cell_type": "code",
   "execution_count": 34,
   "metadata": {
    "_uuid": "29ba06c4daccdf57de0450a0ed0f543851cc150c"
   },
   "outputs": [
    {
     "data": {
      "text/plain": [
       "(136707, 30)"
      ]
     },
     "execution_count": 34,
     "metadata": {},
     "output_type": "execute_result"
    }
   ],
   "source": [
    "Train_set.shape"
   ]
  },
  {
   "cell_type": "code",
   "execution_count": 35,
   "metadata": {
    "_uuid": "fc857b2340fb2e1918d7e6625f5330f347778848"
   },
   "outputs": [
    {
     "data": {
      "text/plain": [
       "219"
      ]
     },
     "execution_count": 35,
     "metadata": {},
     "output_type": "execute_result"
    }
   ],
   "source": [
    "#Length of Frauds\n",
    "length_frauds=len(Train_set[Train_set.Class==1])\n",
    "length_frauds"
   ]
  },
  {
   "cell_type": "code",
   "execution_count": 36,
   "metadata": {
    "_uuid": "2af6bd443f22d0e83c16b0c834883b3fe9321fc4"
   },
   "outputs": [
    {
     "data": {
      "text/html": [
       "<div>\n",
       "<style scoped>\n",
       "    .dataframe tbody tr th:only-of-type {\n",
       "        vertical-align: middle;\n",
       "    }\n",
       "\n",
       "    .dataframe tbody tr th {\n",
       "        vertical-align: top;\n",
       "    }\n",
       "\n",
       "    .dataframe thead th {\n",
       "        text-align: right;\n",
       "    }\n",
       "</style>\n",
       "<table border=\"1\" class=\"dataframe\">\n",
       "  <thead>\n",
       "    <tr style=\"text-align: right;\">\n",
       "      <th></th>\n",
       "      <th>Std_Amount</th>\n",
       "      <th>V1</th>\n",
       "      <th>V2</th>\n",
       "      <th>V3</th>\n",
       "      <th>V4</th>\n",
       "      <th>V5</th>\n",
       "      <th>V6</th>\n",
       "      <th>V7</th>\n",
       "      <th>V8</th>\n",
       "      <th>V9</th>\n",
       "      <th>...</th>\n",
       "      <th>V20</th>\n",
       "      <th>V21</th>\n",
       "      <th>V22</th>\n",
       "      <th>V23</th>\n",
       "      <th>V24</th>\n",
       "      <th>V25</th>\n",
       "      <th>V26</th>\n",
       "      <th>V27</th>\n",
       "      <th>V28</th>\n",
       "      <th>Class</th>\n",
       "    </tr>\n",
       "  </thead>\n",
       "  <tbody>\n",
       "    <tr>\n",
       "      <th>98870</th>\n",
       "      <td>1.091074</td>\n",
       "      <td>-7.222731</td>\n",
       "      <td>6.155773</td>\n",
       "      <td>-10.826460</td>\n",
       "      <td>4.180779</td>\n",
       "      <td>-6.123555</td>\n",
       "      <td>-3.114136</td>\n",
       "      <td>-6.895112</td>\n",
       "      <td>5.161516</td>\n",
       "      <td>-2.516477</td>\n",
       "      <td>...</td>\n",
       "      <td>0.818859</td>\n",
       "      <td>0.912700</td>\n",
       "      <td>-0.630358</td>\n",
       "      <td>0.190887</td>\n",
       "      <td>-0.061263</td>\n",
       "      <td>0.379775</td>\n",
       "      <td>-0.266845</td>\n",
       "      <td>1.193695</td>\n",
       "      <td>0.257468</td>\n",
       "      <td>1</td>\n",
       "    </tr>\n",
       "    <tr>\n",
       "      <th>97681</th>\n",
       "      <td>0.222860</td>\n",
       "      <td>-11.320633</td>\n",
       "      <td>7.191950</td>\n",
       "      <td>-13.179083</td>\n",
       "      <td>9.099552</td>\n",
       "      <td>-10.094749</td>\n",
       "      <td>-2.440115</td>\n",
       "      <td>-14.184337</td>\n",
       "      <td>4.452503</td>\n",
       "      <td>-6.241960</td>\n",
       "      <td>...</td>\n",
       "      <td>-0.180935</td>\n",
       "      <td>1.082235</td>\n",
       "      <td>-0.350563</td>\n",
       "      <td>0.483044</td>\n",
       "      <td>0.661133</td>\n",
       "      <td>-0.396522</td>\n",
       "      <td>-0.413315</td>\n",
       "      <td>-0.997548</td>\n",
       "      <td>-0.235036</td>\n",
       "      <td>1</td>\n",
       "    </tr>\n",
       "    <tr>\n",
       "      <th>15047</th>\n",
       "      <td>-0.041690</td>\n",
       "      <td>-0.860827</td>\n",
       "      <td>3.131790</td>\n",
       "      <td>-5.052968</td>\n",
       "      <td>5.420941</td>\n",
       "      <td>-2.494141</td>\n",
       "      <td>-1.811287</td>\n",
       "      <td>-5.479117</td>\n",
       "      <td>1.189472</td>\n",
       "      <td>-3.908206</td>\n",
       "      <td>...</td>\n",
       "      <td>1.085760</td>\n",
       "      <td>1.192694</td>\n",
       "      <td>0.090356</td>\n",
       "      <td>-0.341881</td>\n",
       "      <td>-0.215924</td>\n",
       "      <td>1.053032</td>\n",
       "      <td>0.271139</td>\n",
       "      <td>1.373300</td>\n",
       "      <td>0.691195</td>\n",
       "      <td>1</td>\n",
       "    </tr>\n",
       "    <tr>\n",
       "      <th>173381</th>\n",
       "      <td>-0.233632</td>\n",
       "      <td>-5.932778</td>\n",
       "      <td>4.571743</td>\n",
       "      <td>-9.427247</td>\n",
       "      <td>6.577056</td>\n",
       "      <td>-6.115218</td>\n",
       "      <td>-3.661798</td>\n",
       "      <td>-10.894079</td>\n",
       "      <td>3.709210</td>\n",
       "      <td>-5.859524</td>\n",
       "      <td>...</td>\n",
       "      <td>1.191078</td>\n",
       "      <td>2.014272</td>\n",
       "      <td>-0.167417</td>\n",
       "      <td>0.049968</td>\n",
       "      <td>0.384430</td>\n",
       "      <td>-0.077884</td>\n",
       "      <td>0.565493</td>\n",
       "      <td>1.792012</td>\n",
       "      <td>0.371007</td>\n",
       "      <td>1</td>\n",
       "    </tr>\n",
       "    <tr>\n",
       "      <th>70339</th>\n",
       "      <td>2.329603</td>\n",
       "      <td>-10.632375</td>\n",
       "      <td>7.251936</td>\n",
       "      <td>-17.681072</td>\n",
       "      <td>8.204144</td>\n",
       "      <td>-10.166591</td>\n",
       "      <td>-4.510344</td>\n",
       "      <td>-12.981606</td>\n",
       "      <td>6.783589</td>\n",
       "      <td>-4.659330</td>\n",
       "      <td>...</td>\n",
       "      <td>-0.810146</td>\n",
       "      <td>2.715357</td>\n",
       "      <td>0.695603</td>\n",
       "      <td>-1.138122</td>\n",
       "      <td>0.459442</td>\n",
       "      <td>0.386337</td>\n",
       "      <td>0.522438</td>\n",
       "      <td>-1.416604</td>\n",
       "      <td>-0.488307</td>\n",
       "      <td>1</td>\n",
       "    </tr>\n",
       "  </tbody>\n",
       "</table>\n",
       "<p>5 rows × 30 columns</p>\n",
       "</div>"
      ],
      "text/plain": [
       "        Std_Amount         V1        V2         V3        V4         V5  \\\n",
       "98870     1.091074  -7.222731  6.155773 -10.826460  4.180779  -6.123555   \n",
       "97681     0.222860 -11.320633  7.191950 -13.179083  9.099552 -10.094749   \n",
       "15047    -0.041690  -0.860827  3.131790  -5.052968  5.420941  -2.494141   \n",
       "173381   -0.233632  -5.932778  4.571743  -9.427247  6.577056  -6.115218   \n",
       "70339     2.329603 -10.632375  7.251936 -17.681072  8.204144 -10.166591   \n",
       "\n",
       "              V6         V7        V8        V9  ...       V20       V21  \\\n",
       "98870  -3.114136  -6.895112  5.161516 -2.516477  ...  0.818859  0.912700   \n",
       "97681  -2.440115 -14.184337  4.452503 -6.241960  ... -0.180935  1.082235   \n",
       "15047  -1.811287  -5.479117  1.189472 -3.908206  ...  1.085760  1.192694   \n",
       "173381 -3.661798 -10.894079  3.709210 -5.859524  ...  1.191078  2.014272   \n",
       "70339  -4.510344 -12.981606  6.783589 -4.659330  ... -0.810146  2.715357   \n",
       "\n",
       "             V22       V23       V24       V25       V26       V27       V28  \\\n",
       "98870  -0.630358  0.190887 -0.061263  0.379775 -0.266845  1.193695  0.257468   \n",
       "97681  -0.350563  0.483044  0.661133 -0.396522 -0.413315 -0.997548 -0.235036   \n",
       "15047   0.090356 -0.341881 -0.215924  1.053032  0.271139  1.373300  0.691195   \n",
       "173381 -0.167417  0.049968  0.384430 -0.077884  0.565493  1.792012  0.371007   \n",
       "70339   0.695603 -1.138122  0.459442  0.386337  0.522438 -1.416604 -0.488307   \n",
       "\n",
       "        Class  \n",
       "98870       1  \n",
       "97681       1  \n",
       "15047       1  \n",
       "173381      1  \n",
       "70339       1  \n",
       "\n",
       "[5 rows x 30 columns]"
      ]
     },
     "execution_count": 36,
     "metadata": {},
     "output_type": "execute_result"
    }
   ],
   "source": [
    "#Taking only Frauds in a dataframe\n",
    "fraud_df= Train_set.loc[Train_set['Class'] == 1]\n",
    "fraud_df.head()"
   ]
  },
  {
   "cell_type": "code",
   "execution_count": 37,
   "metadata": {
    "_uuid": "92a3514716361fb67e78ff83444c484fa36b4311"
   },
   "outputs": [
    {
     "data": {
      "text/plain": [
       "(219, 30)"
      ]
     },
     "execution_count": 37,
     "metadata": {},
     "output_type": "execute_result"
    }
   ],
   "source": [
    "#Taking only Non-frauds\n",
    "non_fraud_df= Train_set.loc[Train_set['Class'] == 0]\n",
    "#Randomly select the same number of records as the Frauds\n",
    "non_frauds=non_fraud_df.sample(n=length_frauds)\n",
    "non_frauds.shape"
   ]
  },
  {
   "cell_type": "code",
   "execution_count": 38,
   "metadata": {
    "_uuid": "1ef4832d5ac747417dc6a0e9a959ca568375c2a6"
   },
   "outputs": [
    {
     "data": {
      "text/html": [
       "<div>\n",
       "<style scoped>\n",
       "    .dataframe tbody tr th:only-of-type {\n",
       "        vertical-align: middle;\n",
       "    }\n",
       "\n",
       "    .dataframe tbody tr th {\n",
       "        vertical-align: top;\n",
       "    }\n",
       "\n",
       "    .dataframe thead th {\n",
       "        text-align: right;\n",
       "    }\n",
       "</style>\n",
       "<table border=\"1\" class=\"dataframe\">\n",
       "  <thead>\n",
       "    <tr style=\"text-align: right;\">\n",
       "      <th></th>\n",
       "      <th>Std_Amount</th>\n",
       "      <th>V1</th>\n",
       "      <th>V2</th>\n",
       "      <th>V3</th>\n",
       "      <th>V4</th>\n",
       "      <th>V5</th>\n",
       "      <th>V6</th>\n",
       "      <th>V7</th>\n",
       "      <th>V8</th>\n",
       "      <th>V9</th>\n",
       "      <th>...</th>\n",
       "      <th>V20</th>\n",
       "      <th>V21</th>\n",
       "      <th>V22</th>\n",
       "      <th>V23</th>\n",
       "      <th>V24</th>\n",
       "      <th>V25</th>\n",
       "      <th>V26</th>\n",
       "      <th>V27</th>\n",
       "      <th>V28</th>\n",
       "      <th>Class</th>\n",
       "    </tr>\n",
       "  </thead>\n",
       "  <tbody>\n",
       "    <tr>\n",
       "      <th>173233</th>\n",
       "      <td>4.718523</td>\n",
       "      <td>-1.781954</td>\n",
       "      <td>2.062680</td>\n",
       "      <td>-3.758871</td>\n",
       "      <td>-1.801001</td>\n",
       "      <td>-0.084365</td>\n",
       "      <td>1.919610</td>\n",
       "      <td>-1.454364</td>\n",
       "      <td>-9.825473</td>\n",
       "      <td>-2.073119</td>\n",
       "      <td>...</td>\n",
       "      <td>-0.690810</td>\n",
       "      <td>1.234747</td>\n",
       "      <td>0.376804</td>\n",
       "      <td>-0.339706</td>\n",
       "      <td>-0.216688</td>\n",
       "      <td>-1.555393</td>\n",
       "      <td>0.655873</td>\n",
       "      <td>0.777662</td>\n",
       "      <td>0.272753</td>\n",
       "      <td>0</td>\n",
       "    </tr>\n",
       "    <tr>\n",
       "      <th>3480</th>\n",
       "      <td>1.580862</td>\n",
       "      <td>-2.380054</td>\n",
       "      <td>-1.408306</td>\n",
       "      <td>1.589826</td>\n",
       "      <td>-2.451413</td>\n",
       "      <td>-0.995952</td>\n",
       "      <td>-0.404218</td>\n",
       "      <td>-0.151184</td>\n",
       "      <td>-0.154366</td>\n",
       "      <td>-1.443514</td>\n",
       "      <td>...</td>\n",
       "      <td>-0.080656</td>\n",
       "      <td>-0.314740</td>\n",
       "      <td>0.229681</td>\n",
       "      <td>-0.277078</td>\n",
       "      <td>-0.023355</td>\n",
       "      <td>0.512792</td>\n",
       "      <td>-0.241501</td>\n",
       "      <td>-0.205021</td>\n",
       "      <td>-0.259823</td>\n",
       "      <td>0</td>\n",
       "    </tr>\n",
       "    <tr>\n",
       "      <th>15789</th>\n",
       "      <td>-0.069110</td>\n",
       "      <td>-1.550273</td>\n",
       "      <td>1.088689</td>\n",
       "      <td>-2.393388</td>\n",
       "      <td>1.008733</td>\n",
       "      <td>-1.087562</td>\n",
       "      <td>-1.104602</td>\n",
       "      <td>-2.670503</td>\n",
       "      <td>0.147655</td>\n",
       "      <td>-0.978626</td>\n",
       "      <td>...</td>\n",
       "      <td>0.327490</td>\n",
       "      <td>0.802316</td>\n",
       "      <td>1.037105</td>\n",
       "      <td>0.095815</td>\n",
       "      <td>-0.320191</td>\n",
       "      <td>-0.080731</td>\n",
       "      <td>0.091012</td>\n",
       "      <td>0.024928</td>\n",
       "      <td>-0.077820</td>\n",
       "      <td>1</td>\n",
       "    </tr>\n",
       "    <tr>\n",
       "      <th>15047</th>\n",
       "      <td>-0.041690</td>\n",
       "      <td>-0.860827</td>\n",
       "      <td>3.131790</td>\n",
       "      <td>-5.052968</td>\n",
       "      <td>5.420941</td>\n",
       "      <td>-2.494141</td>\n",
       "      <td>-1.811287</td>\n",
       "      <td>-5.479117</td>\n",
       "      <td>1.189472</td>\n",
       "      <td>-3.908206</td>\n",
       "      <td>...</td>\n",
       "      <td>1.085760</td>\n",
       "      <td>1.192694</td>\n",
       "      <td>0.090356</td>\n",
       "      <td>-0.341881</td>\n",
       "      <td>-0.215924</td>\n",
       "      <td>1.053032</td>\n",
       "      <td>0.271139</td>\n",
       "      <td>1.373300</td>\n",
       "      <td>0.691195</td>\n",
       "      <td>1</td>\n",
       "    </tr>\n",
       "    <tr>\n",
       "      <th>156630</th>\n",
       "      <td>-0.286514</td>\n",
       "      <td>1.081234</td>\n",
       "      <td>0.416414</td>\n",
       "      <td>0.862919</td>\n",
       "      <td>2.520863</td>\n",
       "      <td>-0.005021</td>\n",
       "      <td>0.563341</td>\n",
       "      <td>-0.123372</td>\n",
       "      <td>0.223122</td>\n",
       "      <td>-0.673598</td>\n",
       "      <td>...</td>\n",
       "      <td>-0.165249</td>\n",
       "      <td>-0.159387</td>\n",
       "      <td>-0.305154</td>\n",
       "      <td>0.053620</td>\n",
       "      <td>0.011761</td>\n",
       "      <td>0.375146</td>\n",
       "      <td>-0.106299</td>\n",
       "      <td>0.021008</td>\n",
       "      <td>0.010559</td>\n",
       "      <td>1</td>\n",
       "    </tr>\n",
       "  </tbody>\n",
       "</table>\n",
       "<p>5 rows × 30 columns</p>\n",
       "</div>"
      ],
      "text/plain": [
       "        Std_Amount        V1        V2        V3        V4        V5  \\\n",
       "173233    4.718523 -1.781954  2.062680 -3.758871 -1.801001 -0.084365   \n",
       "3480      1.580862 -2.380054 -1.408306  1.589826 -2.451413 -0.995952   \n",
       "15789    -0.069110 -1.550273  1.088689 -2.393388  1.008733 -1.087562   \n",
       "15047    -0.041690 -0.860827  3.131790 -5.052968  5.420941 -2.494141   \n",
       "156630   -0.286514  1.081234  0.416414  0.862919  2.520863 -0.005021   \n",
       "\n",
       "              V6        V7        V8        V9  ...       V20       V21  \\\n",
       "173233  1.919610 -1.454364 -9.825473 -2.073119  ... -0.690810  1.234747   \n",
       "3480   -0.404218 -0.151184 -0.154366 -1.443514  ... -0.080656 -0.314740   \n",
       "15789  -1.104602 -2.670503  0.147655 -0.978626  ...  0.327490  0.802316   \n",
       "15047  -1.811287 -5.479117  1.189472 -3.908206  ...  1.085760  1.192694   \n",
       "156630  0.563341 -0.123372  0.223122 -0.673598  ... -0.165249 -0.159387   \n",
       "\n",
       "             V22       V23       V24       V25       V26       V27       V28  \\\n",
       "173233  0.376804 -0.339706 -0.216688 -1.555393  0.655873  0.777662  0.272753   \n",
       "3480    0.229681 -0.277078 -0.023355  0.512792 -0.241501 -0.205021 -0.259823   \n",
       "15789   1.037105  0.095815 -0.320191 -0.080731  0.091012  0.024928 -0.077820   \n",
       "15047   0.090356 -0.341881 -0.215924  1.053032  0.271139  1.373300  0.691195   \n",
       "156630 -0.305154  0.053620  0.011761  0.375146 -0.106299  0.021008  0.010559   \n",
       "\n",
       "        Class  \n",
       "173233      0  \n",
       "3480        0  \n",
       "15789       1  \n",
       "15047       1  \n",
       "156630      1  \n",
       "\n",
       "[5 rows x 30 columns]"
      ]
     },
     "execution_count": 38,
     "metadata": {},
     "output_type": "execute_result"
    }
   ],
   "source": [
    "#Appending both Frauds and Non-Frauds\n",
    "undersampled_df= fraud_df.append(non_frauds)\n",
    "#Randomly shuffling all the instances\n",
    "undersampled_df = sklearn.utils.shuffle(undersampled_df)\n",
    "undersampled_df.head()"
   ]
  },
  {
   "cell_type": "code",
   "execution_count": 39,
   "metadata": {
    "_uuid": "344766cba101a31baccc98047d26b2e8a4a886e6"
   },
   "outputs": [
    {
     "name": "stdout",
     "output_type": "stream",
     "text": [
      "(438, 29)\n",
      "(438,)\n"
     ]
    },
    {
     "data": {
      "text/html": [
       "<div>\n",
       "<style scoped>\n",
       "    .dataframe tbody tr th:only-of-type {\n",
       "        vertical-align: middle;\n",
       "    }\n",
       "\n",
       "    .dataframe tbody tr th {\n",
       "        vertical-align: top;\n",
       "    }\n",
       "\n",
       "    .dataframe thead th {\n",
       "        text-align: right;\n",
       "    }\n",
       "</style>\n",
       "<table border=\"1\" class=\"dataframe\">\n",
       "  <thead>\n",
       "    <tr style=\"text-align: right;\">\n",
       "      <th></th>\n",
       "      <th>Std_Amount</th>\n",
       "      <th>V1</th>\n",
       "      <th>V2</th>\n",
       "      <th>V3</th>\n",
       "      <th>V4</th>\n",
       "      <th>V5</th>\n",
       "      <th>V6</th>\n",
       "      <th>V7</th>\n",
       "      <th>V8</th>\n",
       "      <th>V9</th>\n",
       "      <th>...</th>\n",
       "      <th>V19</th>\n",
       "      <th>V20</th>\n",
       "      <th>V21</th>\n",
       "      <th>V22</th>\n",
       "      <th>V23</th>\n",
       "      <th>V24</th>\n",
       "      <th>V25</th>\n",
       "      <th>V26</th>\n",
       "      <th>V27</th>\n",
       "      <th>V28</th>\n",
       "    </tr>\n",
       "  </thead>\n",
       "  <tbody>\n",
       "    <tr>\n",
       "      <th>173233</th>\n",
       "      <td>4.718523</td>\n",
       "      <td>-1.781954</td>\n",
       "      <td>2.062680</td>\n",
       "      <td>-3.758871</td>\n",
       "      <td>-1.801001</td>\n",
       "      <td>-0.084365</td>\n",
       "      <td>1.919610</td>\n",
       "      <td>-1.454364</td>\n",
       "      <td>-9.825473</td>\n",
       "      <td>-2.073119</td>\n",
       "      <td>...</td>\n",
       "      <td>-0.740407</td>\n",
       "      <td>-0.690810</td>\n",
       "      <td>1.234747</td>\n",
       "      <td>0.376804</td>\n",
       "      <td>-0.339706</td>\n",
       "      <td>-0.216688</td>\n",
       "      <td>-1.555393</td>\n",
       "      <td>0.655873</td>\n",
       "      <td>0.777662</td>\n",
       "      <td>0.272753</td>\n",
       "    </tr>\n",
       "    <tr>\n",
       "      <th>3480</th>\n",
       "      <td>1.580862</td>\n",
       "      <td>-2.380054</td>\n",
       "      <td>-1.408306</td>\n",
       "      <td>1.589826</td>\n",
       "      <td>-2.451413</td>\n",
       "      <td>-0.995952</td>\n",
       "      <td>-0.404218</td>\n",
       "      <td>-0.151184</td>\n",
       "      <td>-0.154366</td>\n",
       "      <td>-1.443514</td>\n",
       "      <td>...</td>\n",
       "      <td>-0.553938</td>\n",
       "      <td>-0.080656</td>\n",
       "      <td>-0.314740</td>\n",
       "      <td>0.229681</td>\n",
       "      <td>-0.277078</td>\n",
       "      <td>-0.023355</td>\n",
       "      <td>0.512792</td>\n",
       "      <td>-0.241501</td>\n",
       "      <td>-0.205021</td>\n",
       "      <td>-0.259823</td>\n",
       "    </tr>\n",
       "    <tr>\n",
       "      <th>15789</th>\n",
       "      <td>-0.069110</td>\n",
       "      <td>-1.550273</td>\n",
       "      <td>1.088689</td>\n",
       "      <td>-2.393388</td>\n",
       "      <td>1.008733</td>\n",
       "      <td>-1.087562</td>\n",
       "      <td>-1.104602</td>\n",
       "      <td>-2.670503</td>\n",
       "      <td>0.147655</td>\n",
       "      <td>-0.978626</td>\n",
       "      <td>...</td>\n",
       "      <td>1.717095</td>\n",
       "      <td>0.327490</td>\n",
       "      <td>0.802316</td>\n",
       "      <td>1.037105</td>\n",
       "      <td>0.095815</td>\n",
       "      <td>-0.320191</td>\n",
       "      <td>-0.080731</td>\n",
       "      <td>0.091012</td>\n",
       "      <td>0.024928</td>\n",
       "      <td>-0.077820</td>\n",
       "    </tr>\n",
       "    <tr>\n",
       "      <th>15047</th>\n",
       "      <td>-0.041690</td>\n",
       "      <td>-0.860827</td>\n",
       "      <td>3.131790</td>\n",
       "      <td>-5.052968</td>\n",
       "      <td>5.420941</td>\n",
       "      <td>-2.494141</td>\n",
       "      <td>-1.811287</td>\n",
       "      <td>-5.479117</td>\n",
       "      <td>1.189472</td>\n",
       "      <td>-3.908206</td>\n",
       "      <td>...</td>\n",
       "      <td>0.432054</td>\n",
       "      <td>1.085760</td>\n",
       "      <td>1.192694</td>\n",
       "      <td>0.090356</td>\n",
       "      <td>-0.341881</td>\n",
       "      <td>-0.215924</td>\n",
       "      <td>1.053032</td>\n",
       "      <td>0.271139</td>\n",
       "      <td>1.373300</td>\n",
       "      <td>0.691195</td>\n",
       "    </tr>\n",
       "    <tr>\n",
       "      <th>156630</th>\n",
       "      <td>-0.286514</td>\n",
       "      <td>1.081234</td>\n",
       "      <td>0.416414</td>\n",
       "      <td>0.862919</td>\n",
       "      <td>2.520863</td>\n",
       "      <td>-0.005021</td>\n",
       "      <td>0.563341</td>\n",
       "      <td>-0.123372</td>\n",
       "      <td>0.223122</td>\n",
       "      <td>-0.673598</td>\n",
       "      <td>...</td>\n",
       "      <td>-0.655270</td>\n",
       "      <td>-0.165249</td>\n",
       "      <td>-0.159387</td>\n",
       "      <td>-0.305154</td>\n",
       "      <td>0.053620</td>\n",
       "      <td>0.011761</td>\n",
       "      <td>0.375146</td>\n",
       "      <td>-0.106299</td>\n",
       "      <td>0.021008</td>\n",
       "      <td>0.010559</td>\n",
       "    </tr>\n",
       "  </tbody>\n",
       "</table>\n",
       "<p>5 rows × 29 columns</p>\n",
       "</div>"
      ],
      "text/plain": [
       "        Std_Amount        V1        V2        V3        V4        V5  \\\n",
       "173233    4.718523 -1.781954  2.062680 -3.758871 -1.801001 -0.084365   \n",
       "3480      1.580862 -2.380054 -1.408306  1.589826 -2.451413 -0.995952   \n",
       "15789    -0.069110 -1.550273  1.088689 -2.393388  1.008733 -1.087562   \n",
       "15047    -0.041690 -0.860827  3.131790 -5.052968  5.420941 -2.494141   \n",
       "156630   -0.286514  1.081234  0.416414  0.862919  2.520863 -0.005021   \n",
       "\n",
       "              V6        V7        V8        V9  ...       V19       V20  \\\n",
       "173233  1.919610 -1.454364 -9.825473 -2.073119  ... -0.740407 -0.690810   \n",
       "3480   -0.404218 -0.151184 -0.154366 -1.443514  ... -0.553938 -0.080656   \n",
       "15789  -1.104602 -2.670503  0.147655 -0.978626  ...  1.717095  0.327490   \n",
       "15047  -1.811287 -5.479117  1.189472 -3.908206  ...  0.432054  1.085760   \n",
       "156630  0.563341 -0.123372  0.223122 -0.673598  ... -0.655270 -0.165249   \n",
       "\n",
       "             V21       V22       V23       V24       V25       V26       V27  \\\n",
       "173233  1.234747  0.376804 -0.339706 -0.216688 -1.555393  0.655873  0.777662   \n",
       "3480   -0.314740  0.229681 -0.277078 -0.023355  0.512792 -0.241501 -0.205021   \n",
       "15789   0.802316  1.037105  0.095815 -0.320191 -0.080731  0.091012  0.024928   \n",
       "15047   1.192694  0.090356 -0.341881 -0.215924  1.053032  0.271139  1.373300   \n",
       "156630 -0.159387 -0.305154  0.053620  0.011761  0.375146 -0.106299  0.021008   \n",
       "\n",
       "             V28  \n",
       "173233  0.272753  \n",
       "3480   -0.259823  \n",
       "15789  -0.077820  \n",
       "15047   0.691195  \n",
       "156630  0.010559  \n",
       "\n",
       "[5 rows x 29 columns]"
      ]
     },
     "execution_count": 39,
     "metadata": {},
     "output_type": "execute_result"
    }
   ],
   "source": [
    "#Separating labels from the other features\n",
    "X_undersample = undersampled_df.drop('Class', axis=1)\n",
    "Y_undersample = undersampled_df['Class']\n",
    "print(X_undersample.shape)\n",
    "print(Y_undersample.shape)\n",
    "X_undersample.head()"
   ]
  },
  {
   "cell_type": "code",
   "execution_count": 40,
   "metadata": {
    "_uuid": "7d7f88bea27917e2d59d4eb62dea5cef71eab8cf"
   },
   "outputs": [],
   "source": [
    "#Converting undersampled train sets in numpy arrays\n",
    "X_us_arr= X_undersample.values\n",
    "Y_us_arr= Y_undersample.values"
   ]
  },
  {
   "cell_type": "code",
   "execution_count": 41,
   "metadata": {
    "_uuid": "02a0202451ec896fc21bb1163e152447fd97faa6"
   },
   "outputs": [],
   "source": [
    "#Converting test and validation dataframes in numpy arrays\n",
    "Xval_arr=Xval.values\n",
    "Yval_arr=Yval.values\n",
    "Xtest_arr=Xtest.values\n",
    "Ytest_arr=Ytest.values"
   ]
  },
  {
   "cell_type": "markdown",
   "metadata": {
    "_uuid": "d9ea2c6cccab5dabbf67eab192d05272906a02f1"
   },
   "source": [
    "The code in the following block is used for hyperparameter tuning of different parameters required for the training of a multilayer perceptron. It is commented as it takes alot of time to run. It is run on the undersampled dataset created above. Moreover, the biggest challenge is reproducability. Even after using the seed, the outputs produced vary a bit. But after multiple runs, the parameters that were returned were:\n",
    "neuron_1=65, \n",
    "dropout_rate=0.5, \n",
    "init_mode='he_normal', \n",
    "learn_rate=0.001"
   ]
  },
  {
   "cell_type": "code",
   "execution_count": 42,
   "metadata": {
    "_uuid": "b93a29e0631ec91dd9f403c8d78a54a53b3a498d"
   },
   "outputs": [],
   "source": [
    "# #Grid Search for hyperparameter tuning\n",
    "# def create_model(neuron_1=29, dropout_rate=0.0, init_mode='uniform', learn_rate=0.01):\n",
    "#     n_inputs = X_undersample.shape[1]\n",
    "#     model = Sequential()\n",
    "#     model.add(Dense(neuron_1, input_shape=(n_inputs, ), kernel_initializer=init_mode, activation= 'relu'))\n",
    "#     model.add(Dropout(dropout_rate))\n",
    "#     model.add(Dense(1, kernel_initializer=init_mode, activation='sigmoid'))\n",
    "#     model.compile(Adam(lr=learn_rate), loss='binary_crossentropy')\n",
    "#     return model\n",
    "# #Keras models can be used with scikit learn by wrapping them with KerasClassifier\n",
    "# model_tuning = KerasClassifier(build_fn=create_model,epochs=30, batch_size=700, verbose=1)\n",
    "\n",
    "# neuron_1= [29, 30, 35, 40, 45, 50,55,60,65,70]\n",
    "# learn_rate= [0.001, 0.01, 0.1, 0.2, 0.3]\n",
    "# dropout_rate = [0.0, 0.1, 0.2, 0.3, 0.4, 0.5, 0.6, 0.7, 0.8, 0.9]\n",
    "# init_mode = ['uniform', 'lecun_uniform', 'normal', 'zero', 'glorot_normal', 'glorot_uniform', 'he_normal', 'he_uniform']\n",
    "# param_grid = dict(neuron_1=neuron_1, dropout_rate=dropout_rate, init_mode=init_mode, learn_rate=learn_rate)\n",
    "# grid = GridSearchCV(estimator=model_tuning, param_grid=param_grid, scoring=make_scorer(f1_score), cv=5, n_jobs=-1)\n",
    "# grid_result = grid.fit(X_us_arr, Y_us_arr)\n",
    "# # summarize results\n",
    "# print(\"Best: %f using %s\" % (grid_result.best_score_, grid_result.best_params_))\n",
    "# mean_score = grid_result.cv_results_['mean_test_score']\n",
    "# std_score = grid_result.cv_results_['std_test_score']\n",
    "# params = grid_result.cv_results_['params']\n",
    "# for mean, stdev, param in zip(mean_score, std_score, params):\n",
    "#     print(\"%f (%f) with: %r\" % (mean, stdev, param))\n"
   ]
  },
  {
   "cell_type": "markdown",
   "metadata": {
    "_uuid": "a8cfdd97a43ffb5ec96ccc35567eea02a16fac8e"
   },
   "source": [
    "#EXPERIMENTAL DESIGN"
   ]
  },
  {
   "cell_type": "markdown",
   "metadata": {
    "_uuid": "ff1a96a0081a8071333c5d21aad394a8744f46e9"
   },
   "source": [
    "Hypothesis: A neural network�s performance on the Credit-Card Fraud dataset is affected by the number of hidden layers.\n",
    "* Null Hypothesis (H0): Insufficient evidence to support hypothesis\n",
    "* Alternate Hypothesis (H1): Evidence suggests the hypothesis is likely true."
   ]
  },
  {
   "cell_type": "markdown",
   "metadata": {
    "_uuid": "a598ad71140231b27c3f4edb94ac19655a1105fb"
   },
   "source": [
    "In this notebook, 2 models are trained:\n",
    "1. Multi-layer Perceptron with 1 hidden layer and,\n",
    "2. Multi-layer Perceptron with 2 hidden layers\n",
    "1. Rest all parameters are kept the same in both the models."
   ]
  },
  {
   "cell_type": "markdown",
   "metadata": {
    "_uuid": "c909e158227780ac3418e192192f65b606eba96f"
   },
   "source": [
    "Since, Neural Networks are stochastic and output different results for each run with the same data. The model will be run for a specific number of iterations so that the average score of all the repetitions can determine the skill of the model. Thus, now this sample size sufficiency needs to be determined. For this purpose the multi layer perceptron  model is trained for 100 (selected randomly) iterations and F-score is returned for all the repetitions."
   ]
  },
  {
   "cell_type": "markdown",
   "metadata": {
    "_uuid": "1f4cb3b24f844939d7972776ed1a8b0571458c1c"
   },
   "source": [
    "The iterations below were run to determine the sufficient sample size required. The output returned is:\n",
    "f_scorelist1= [0.7627118644067796, 0.749003984063745, 0.7419354838709676, 0.7457627118644068, 0.7018867924528301, 0.7294117647058823, 0.6643109540636042, 0.753968253968254, 0.7018867924528301, 0.6888888888888889, 0.6478873239436619, 0.7430830039525692, 0.7410358565737051, 0.7479674796747967, 0.7175572519083968, 0.7634854771784232, 0.7265625, 0.6690647482014389, 0.7159533073929961, 0.7258064516129031, 0.7540983606557377, 0.7315175097276265, 0.7045454545454546, 0.7580645161290323, 0.7076923076923076, 0.6816479400749064, 0.7407407407407407, 0.7041198501872659, 0.7209302325581397, 0.7171314741035857, 0.6789667896678966, 0.7272727272727273, 0.732283464566929, 0.7583333333333334, 0.73015873015873, 0.7230769230769232, 0.7531380753138075, 0.7459016393442623, 0.6893939393939396, 0.7622950819672131, 0.7295081967213115, 0.7450980392156862, 0.7782426778242677, 0.6992481203007519, 0.748971193415638, 0.7126436781609196, 0.7364341085271319, 0.6842105263157894, 0.7317073170731707, 0.7848101265822784, 0.7104247104247104, 0.6666666666666666, 0.7591836734693878, 0.7401574803149606, 0.6946564885496183, 0.7272727272727273, 0.7175572519083968, 0.6946564885496183, 0.6940298507462687, 0.7109375, 0.6966292134831462, 0.7510204081632654, 0.7603305785123966, 0.6713780918727914, 0.7460317460317459, 0.7398373983739839, 0.7449392712550608, 0.673913043478261, 0.6881720430107526, 0.7551867219917012, 0.7215686274509804, 0.6789667896678966, 0.6966292134831462, 0.7551867219917012, 0.7666666666666667, 0.7215686274509804, 0.732283464566929, 0.732283464566929, 0.7181467181467182, 0.7250996015936256, 0.6791044776119403, 0.7109375, 0.7203065134099617, 0.7410358565737051, 0.7603305785123966, 0.681159420289855, 0.7551867219917012, 0.7368421052631579, 0.7142857142857143, 0.6416382252559727, 0.7294117647058823, 0.7531380753138075, 0.7698744769874477, 0.7131782945736435, 0.775, 0.5987261146496816, 0.7099236641221374, 0.7265625, 0.7372549019607844, 0.7280000000000001]"
   ]
  },
  {
   "cell_type": "markdown",
   "metadata": {
    "_uuid": "cb07eaeded13204f779195100b5ce312e1271ecd"
   },
   "source": [
    "* The following code is commented as it was run for 100 iterations to determine the sufficient sample size, and it takes alot of time to run. The results are shown above and plotted in the following blocks."
   ]
  },
  {
   "cell_type": "code",
   "execution_count": 43,
   "metadata": {
    "_uuid": "87f50b2d631c7ca2e2c1deb10b0a344ac6eddf86"
   },
   "outputs": [],
   "source": [
    "# f_scorelist1=[]\n",
    "\n",
    "# n_inputs = X_adasampled.shape[1]\n",
    "# es= keras.callbacks.EarlyStopping(monitor='val_loss',\n",
    "#                               min_delta=0,\n",
    "#                               patience=2,\n",
    "#                               verbose=0, mode='min', restore_best_weights= True)\n",
    "# for i in range(0,100):\n",
    "#     First_Model = Sequential()\n",
    "#     First_Model.add(Dense(65, input_shape=(n_inputs, ), kernel_initializer='he_normal', activation='relu'))\n",
    "#     First_Model.add(Dropout(0.5))\n",
    "#     First_Model.add(Dense(1, kernel_initializer='he_normal', activation='sigmoid'))\n",
    "\n",
    "#     First_Model.compile(Adam(lr=0.001), loss='binary_crossentropy', metrics=['accuracy'])\n",
    "    \n",
    "#     First_Model.fit(X_adasampled, Y_adasampled, validation_data=(Xval_arr, Yval_arr), batch_size=700, epochs=40, callbacks=[es], shuffle=True, verbose=0)\n",
    "#     Y_first_pred = First_Model.predict_classes(Xtest_arr, batch_size=200, verbose=0)\n",
    "    \n",
    "#     f_score= f1_score(Ytest_arr,Y_first_pred)\n",
    "#     f_scorelist1.append(f_score)\n",
    "\n",
    "# print(f_scorelist1)\n",
    "# print('FScore Mean: '+ str(np.mean(f_scorelist1)))"
   ]
  },
  {
   "cell_type": "markdown",
   "metadata": {
    "_uuid": "ed6242137c57e6cbef4829f9d744e2142c33928f"
   },
   "source": [
    "Now, the number of iterations are plotted against the average score from those iterations to determine the number of iterations at which the mean of the F-score gets stabilized.\n",
    "These number of iterations will be considered as the sample size sufficiency, for which our model will be iterated."
   ]
  },
  {
   "cell_type": "code",
   "execution_count": 44,
   "metadata": {
    "_uuid": "ff459a2321e9dab2c378226dad22b75b80b11f7e"
   },
   "outputs": [
    {
     "data": {
      "image/png": "[encoded data removed]",
      "text/plain": [
       "<Figure size 432x288 with 1 Axes>"
      ]
     },
     "metadata": {
      "needs_background": "light"
     },
     "output_type": "display_data"
    }
   ],
   "source": [
    "#Plotting number of repeats against the average score from those repeats.\n",
    "#Expected: As the number of repeats increase, the average score stabilizes\n",
    "f_score_list=[0.7627118644067796, 0.749003984063745, 0.7419354838709676, 0.7457627118644068, 0.7018867924528301, 0.7294117647058823, 0.6643109540636042, 0.753968253968254, 0.7018867924528301, 0.6888888888888889, 0.6478873239436619, 0.7430830039525692, 0.7410358565737051, 0.7479674796747967, 0.7175572519083968, 0.7634854771784232, 0.7265625, 0.6690647482014389, 0.7159533073929961, 0.7258064516129031, 0.7540983606557377, 0.7315175097276265, 0.7045454545454546, 0.7580645161290323, 0.7076923076923076, 0.6816479400749064, 0.7407407407407407, 0.7041198501872659, 0.7209302325581397, 0.7171314741035857, 0.6789667896678966, 0.7272727272727273, 0.732283464566929, 0.7583333333333334, 0.73015873015873, 0.7230769230769232, 0.7531380753138075, 0.7459016393442623, 0.6893939393939396, 0.7622950819672131, 0.7295081967213115, 0.7450980392156862, 0.7782426778242677, 0.6992481203007519, 0.748971193415638, 0.7126436781609196, 0.7364341085271319, 0.6842105263157894, 0.7317073170731707, 0.7848101265822784, 0.7104247104247104, 0.6666666666666666, 0.7591836734693878, 0.7401574803149606, 0.6946564885496183, 0.7272727272727273, 0.7175572519083968, 0.6946564885496183, 0.6940298507462687, 0.7109375, 0.6966292134831462, 0.7510204081632654, 0.7603305785123966, 0.6713780918727914, 0.7460317460317459, 0.7398373983739839, 0.7449392712550608, 0.673913043478261, 0.6881720430107526, 0.7551867219917012, 0.7215686274509804, 0.6789667896678966, 0.6966292134831462, 0.7551867219917012, 0.7666666666666667, 0.7215686274509804, 0.732283464566929, 0.732283464566929, 0.7181467181467182, 0.7250996015936256, 0.6791044776119403, 0.7109375, 0.7203065134099617, 0.7410358565737051, 0.7603305785123966, 0.681159420289855, 0.7551867219917012, 0.7368421052631579, 0.7142857142857143, 0.6416382252559727, 0.7294117647058823, 0.7531380753138075, 0.7698744769874477, 0.7131782945736435, 0.775, 0.5987261146496816, 0.7099236641221374, 0.7265625, 0.7372549019607844, 0.7280000000000001]\n",
    "f_df=pd.DataFrame(f_score_list)\n",
    "fscores= f_df.values\n",
    "final_mean= np.mean(fscores[0:101])\n",
    "means = list()\n",
    "for i in range(1,len(f_score_list)+1):\n",
    "    data = fscores[0:i, 0]\n",
    "    mean_fscore = np.mean(data)\n",
    "    means.append(mean_fscore)\n",
    "# line plot of the values generated in the list\n",
    "plt.plot(means)\n",
    "plt.plot([final_mean for x in range(len(means))])\n",
    "plt.show() #From this plot the point of diminishing returns can be located."
   ]
  },
  {
   "cell_type": "markdown",
   "metadata": {
    "_uuid": "cbe93acd190998d0a16a822d989286da8be8f8b2"
   },
   "source": [
    "As seen in the plot above, the average of F-score is getting stabilized after 60 iterations. Thus, the sample size sufficiency is taken as 60, which means that the model will be trained for 60 repetitions and the overall average of the score from these iterations will determine the skill of the model."
   ]
  },
  {
   "cell_type": "markdown",
   "metadata": {
    "_uuid": "eb510d64dc20139f9201bdb82e4523a2f8a7c1f2"
   },
   "source": [
    "#IMPLEMENTATION"
   ]
  },
  {
   "cell_type": "code",
   "execution_count": 45,
   "metadata": {
    "_uuid": "94573b41d3469908b9fa4c1318613318b66daae7"
   },
   "outputs": [],
   "source": [
    "#function for confusion matrix\n",
    "def conf_matrix(predicted_values):\n",
    "    Predictions_CM = confusion_matrix(Ytest_arr, predicted_values, labels = [0, 1])\n",
    "    class_feat=creditcard_data['Class'].copy()\n",
    "    class_feat= class_feat.unique()\n",
    "    fig, ax = plt.subplots(figsize=(5,5))\n",
    "    sns.heatmap(Predictions_CM, annot=True, fmt='d', xticklabels=class_feat, yticklabels=class_feat)\n",
    "    plt.ylabel('Actual Class')\n",
    "    plt.xlabel('Predicted Class')\n",
    "    plt.show()"
   ]
  },
  {
   "cell_type": "code",
   "execution_count": 46,
   "metadata": {
    "_uuid": "335ca525951eb4ffda152d3bf60ef50c09e9eae7"
   },
   "outputs": [
    {
     "name": "stdout",
     "output_type": "stream",
     "text": [
      "Model: \"sequential\"\n",
      "_________________________________________________________________\n",
      " Layer (type)                Output Shape              Param #   \n",
      "=================================================================\n",
      " dense (Dense)               (None, 65)                1950      \n",
      "                                                                 \n",
      " dense_1 (Dense)             (None, 1)                 66        \n",
      "                                                                 \n",
      "=================================================================\n",
      "Total params: 2,016\n",
      "Trainable params: 2,016\n",
      "Non-trainable params: 0\n",
      "_________________________________________________________________\n",
      "Epoch 1/30\n",
      "390/390 - 3s - loss: 0.0398 - accuracy: 0.9890 - val_loss: 0.0152 - val_accuracy: 0.9964 - 3s/epoch - 8ms/step\n",
      "Epoch 2/30\n",
      "390/390 - 1s - loss: 0.0073 - accuracy: 0.9986 - val_loss: 0.0174 - val_accuracy: 0.9964 - 1s/epoch - 4ms/step\n",
      "Epoch 3/30\n",
      "390/390 - 1s - loss: 0.0041 - accuracy: 0.9993 - val_loss: 0.0144 - val_accuracy: 0.9982 - 1s/epoch - 4ms/step\n",
      "Epoch 4/30\n",
      "390/390 - 1s - loss: 0.0034 - accuracy: 0.9994 - val_loss: 0.0203 - val_accuracy: 0.9986 - 1s/epoch - 4ms/step\n",
      "Epoch 5/30\n",
      "390/390 - 1s - loss: 0.0030 - accuracy: 0.9996 - val_loss: 0.0131 - val_accuracy: 0.9987 - 1s/epoch - 4ms/step\n",
      "Epoch 6/30\n",
      "390/390 - 1s - loss: 0.0021 - accuracy: 0.9996 - val_loss: 0.0156 - val_accuracy: 0.9989 - 1s/epoch - 3ms/step\n",
      "Epoch 7/30\n",
      "390/390 - 1s - loss: 0.0019 - accuracy: 0.9996 - val_loss: 0.0149 - val_accuracy: 0.9987 - 1s/epoch - 3ms/step\n",
      "dict_keys(['loss', 'accuracy', 'val_loss', 'val_accuracy'])\n"
     ]
    }
   ],
   "source": [
    "#Training a Multi-layer perceptron with 1 hidden layer on Oversampled dataset without using dropout and, using the parameters tuned above.\n",
    "n_inputs = X_adasampled.shape[1]\n",
    "es= keras.callbacks.EarlyStopping(monitor='val_loss',\n",
    "                              min_delta=0,\n",
    "                              patience=2,\n",
    "                              verbose=0, mode='min', restore_best_weights= True)\n",
    "#Model Creation\n",
    "Model1 = Sequential()\n",
    "Model1.add(Dense(65, input_shape=(n_inputs, ), kernel_initializer='he_normal', activation='relu'))\n",
    "Model1.add(Dense(1, kernel_initializer='he_normal', activation='sigmoid'))\n",
    "\n",
    "#Compile Model\n",
    "Model1.compile(Adam(lr=0.01), loss='binary_crossentropy', metrics=['accuracy'])\n",
    "Model1.summary()\n",
    "\n",
    "#Fit Model\n",
    "history1= Model1.fit(X_adasampled, Y_adasampled, validation_data=(Xval_arr, Yval_arr), batch_size=700, epochs=30, callbacks=[es], shuffle=True, verbose=2)\n",
    "print(history1.history.keys())"
   ]
  },
  {
   "cell_type": "code",
   "execution_count": 47,
   "metadata": {
    "_uuid": "c95b4754a12a5139f483f759d22850eb42dfa9b5",
    "scrolled": true
   },
   "outputs": [
    {
     "data": {
      "image/png": "[encoded data removed]",
      "text/plain": [
       "<Figure size 432x288 with 1 Axes>"
      ]
     },
     "metadata": {
      "needs_background": "light"
     },
     "output_type": "display_data"
    },
    {
     "data": {
      "image/png": "[encoded data removed]",
      "text/plain": [
       "<Figure size 432x288 with 1 Axes>"
      ]
     },
     "metadata": {
      "needs_background": "light"
     },
     "output_type": "display_data"
    }
   ],
   "source": [
    "# summarize history for accuracy\n",
    "plt.plot(history1.history['accuracy'])\n",
    "plt.plot(history1.history['val_accuracy'])\n",
    "plt.title('model accuracy')\n",
    "plt.ylabel('accuracy')\n",
    "plt.xlabel('epoch')\n",
    "plt.legend(['train', 'val'], loc='upper left')\n",
    "plt.show()\n",
    "# summarize history for loss\n",
    "plt.plot(history1.history['loss'])\n",
    "plt.plot(history1.history['val_loss'])\n",
    "plt.title('model loss')\n",
    "plt.ylabel('loss')\n",
    "plt.xlabel('epoch')\n",
    "plt.legend(['train', 'val'], loc='upper left')\n",
    "plt.show()"
   ]
  },
  {
   "cell_type": "markdown",
   "metadata": {
    "_uuid": "fe154cffd4cc11342c93f75cd9bc440a1e3276f6"
   },
   "source": [
    "The variation in the performance of the train and validation data shows that it has been overlearned on the train dataset. So, let's try adding Dropout and see it's effect on the performance of the model."
   ]
  },
  {
   "cell_type": "code",
   "execution_count": 48,
   "metadata": {
    "_uuid": "2b737d2dc91f4b8f4077a4b1dff532a7e2a0b51a"
   },
   "outputs": [
    {
     "name": "stdout",
     "output_type": "stream",
     "text": [
      "Model: \"sequential_1\"\n",
      "_________________________________________________________________\n",
      " Layer (type)                Output Shape              Param #   \n",
      "=================================================================\n",
      " dense_2 (Dense)             (None, 65)                1950      \n",
      "                                                                 \n",
      " dropout (Dropout)           (None, 65)                0         \n",
      "                                                                 \n",
      " dense_3 (Dense)             (None, 1)                 66        \n",
      "                                                                 \n",
      "=================================================================\n",
      "Total params: 2,016\n",
      "Trainable params: 2,016\n",
      "Non-trainable params: 0\n",
      "_________________________________________________________________\n",
      "Epoch 1/40\n",
      "390/390 - 3s - loss: 0.2996 - accuracy: 0.8754 - val_loss: 0.1065 - val_accuracy: 0.9671 - 3s/epoch - 8ms/step\n",
      "Epoch 2/40\n",
      "390/390 - 2s - loss: 0.1056 - accuracy: 0.9732 - val_loss: 0.0645 - val_accuracy: 0.9772 - 2s/epoch - 5ms/step\n",
      "Epoch 3/40\n",
      "390/390 - 2s - loss: 0.0690 - accuracy: 0.9845 - val_loss: 0.0476 - val_accuracy: 0.9827 - 2s/epoch - 5ms/step\n",
      "Epoch 4/40\n",
      "390/390 - 2s - loss: 0.0518 - accuracy: 0.9887 - val_loss: 0.0366 - val_accuracy: 0.9870 - 2s/epoch - 5ms/step\n",
      "Epoch 5/40\n",
      "390/390 - 2s - loss: 0.0415 - accuracy: 0.9908 - val_loss: 0.0295 - val_accuracy: 0.9910 - 2s/epoch - 5ms/step\n",
      "Epoch 6/40\n",
      "390/390 - 2s - loss: 0.0331 - accuracy: 0.9928 - val_loss: 0.0254 - val_accuracy: 0.9931 - 2s/epoch - 5ms/step\n",
      "Epoch 7/40\n",
      "390/390 - 2s - loss: 0.0280 - accuracy: 0.9939 - val_loss: 0.0235 - val_accuracy: 0.9941 - 2s/epoch - 5ms/step\n",
      "Epoch 8/40\n",
      "390/390 - 2s - loss: 0.0236 - accuracy: 0.9948 - val_loss: 0.0202 - val_accuracy: 0.9952 - 2s/epoch - 5ms/step\n",
      "Epoch 9/40\n",
      "390/390 - 2s - loss: 0.0210 - accuracy: 0.9954 - val_loss: 0.0198 - val_accuracy: 0.9957 - 2s/epoch - 5ms/step\n",
      "Epoch 10/40\n",
      "390/390 - 2s - loss: 0.0184 - accuracy: 0.9959 - val_loss: 0.0196 - val_accuracy: 0.9962 - 2s/epoch - 5ms/step\n",
      "Epoch 11/40\n",
      "390/390 - 2s - loss: 0.0166 - accuracy: 0.9964 - val_loss: 0.0194 - val_accuracy: 0.9968 - 2s/epoch - 5ms/step\n",
      "Epoch 12/40\n",
      "390/390 - 2s - loss: 0.0148 - accuracy: 0.9967 - val_loss: 0.0192 - val_accuracy: 0.9971 - 2s/epoch - 5ms/step\n",
      "Epoch 13/40\n",
      "390/390 - 2s - loss: 0.0139 - accuracy: 0.9970 - val_loss: 0.0189 - val_accuracy: 0.9974 - 2s/epoch - 5ms/step\n",
      "Epoch 14/40\n",
      "390/390 - 2s - loss: 0.0125 - accuracy: 0.9972 - val_loss: 0.0183 - val_accuracy: 0.9975 - 2s/epoch - 5ms/step\n",
      "Epoch 15/40\n",
      "390/390 - 2s - loss: 0.0114 - accuracy: 0.9975 - val_loss: 0.0196 - val_accuracy: 0.9976 - 2s/epoch - 5ms/step\n",
      "Epoch 16/40\n",
      "390/390 - 2s - loss: 0.0104 - accuracy: 0.9976 - val_loss: 0.0198 - val_accuracy: 0.9978 - 2s/epoch - 5ms/step\n",
      "dict_keys(['loss', 'accuracy', 'val_loss', 'val_accuracy'])\n"
     ]
    }
   ],
   "source": [
    "#Training a Multi-layer perceptron with 1 hidden layer on Oversampled dataset using the parameters tuned above and adding a Dropout.\n",
    "n_inputs = X_adasampled.shape[1]\n",
    "es= keras.callbacks.EarlyStopping(monitor='val_loss',\n",
    "                              min_delta=0,\n",
    "                              patience=2,\n",
    "                              verbose=0, mode='min', restore_best_weights= True)\n",
    "Model1_drop = Sequential()\n",
    "Model1_drop.add(Dense(65, input_shape=(n_inputs, ), kernel_initializer='he_normal', activation='relu'))\n",
    "Model1_drop.add(Dropout(0.5))\n",
    "Model1_drop.add(Dense(1, kernel_initializer='he_normal', activation='sigmoid'))\n",
    "\n",
    "Model1_drop.compile(Adam(lr=0.001), loss='binary_crossentropy', metrics=['accuracy'])\n",
    "Model1_drop.summary()\n",
    "\n",
    "history2= Model1_drop.fit(X_adasampled, Y_adasampled, validation_data=(Xval_arr, Yval_arr), batch_size=700, epochs=40, callbacks=[es], shuffle=True, verbose=2)\n",
    "print(history2.history.keys())"
   ]
  },
  {
   "cell_type": "code",
   "execution_count": 49,
   "metadata": {
    "_uuid": "783b6c77a57fc951ab8e8a99234da61f3048ce74"
   },
   "outputs": [],
   "source": [
    "# #get the model\n",
    "# plot_model(Model1_drop, to_file='Model1_drop.png', show_shapes=True)\n",
    "# IPython.display.Image('Model1_drop.png')"
   ]
  },
  {
   "cell_type": "code",
   "execution_count": 50,
   "metadata": {
    "_uuid": "ce10d62543edc8d3cf906a4b99aec5c8277943d8"
   },
   "outputs": [
    {
     "data": {
      "image/png": "[encoded data removed]",
      "text/plain": [
       "<Figure size 432x288 with 1 Axes>"
      ]
     },
     "metadata": {
      "needs_background": "light"
     },
     "output_type": "display_data"
    },
    {
     "data": {
      "image/png": "[encoded data removed]",
      "text/plain": [
       "<Figure size 432x288 with 1 Axes>"
      ]
     },
     "metadata": {
      "needs_background": "light"
     },
     "output_type": "display_data"
    }
   ],
   "source": [
    "# summarize history for accuracy\n",
    "plt.plot(history2.history['accuracy'])\n",
    "plt.plot(history2.history['val_accuracy'])\n",
    "plt.title('model accuracy')\n",
    "plt.ylabel('accuracy')\n",
    "plt.xlabel('epoch')\n",
    "plt.legend(['train', 'val'], loc='upper left')\n",
    "plt.show()\n",
    "# summarize history for loss\n",
    "plt.plot(history2.history['loss'])\n",
    "plt.plot(history2.history['val_loss'])\n",
    "plt.title('model loss')\n",
    "plt.ylabel('loss')\n",
    "plt.xlabel('epoch')\n",
    "plt.legend(['train', 'val'], loc='upper left')\n",
    "plt.show()"
   ]
  },
  {
   "cell_type": "markdown",
   "metadata": {
    "_uuid": "8a59cba7fccf196eca99498929fee70bb5d06c33"
   },
   "source": [
    "As observed, with the addition of Dropout, the validation dataset performs better. And the train and vaidation set performance is comparable."
   ]
  },
  {
   "cell_type": "code",
   "execution_count": 51,
   "metadata": {
    "_uuid": "fe5166ac0ec2c34c04abad7c00b7ed0fa3646d2d"
   },
   "outputs": [
    {
     "name": "stdout",
     "output_type": "stream",
     "text": [
      "1425/1425 [==============================] - 3s 2ms/step\n",
      "1425/1425 [==============================] - 3s 2ms/step - loss: 0.0099 - accuracy: 0.9978\n",
      "Accuracy Model1 (Dropout): 0.997761607170105\n",
      "Recall_score: 0.8860759493670886\n",
      "Precision_score: 0.4294478527607362\n",
      "F-score: 0.5785123966942148\n"
     ]
    },
    {
     "data": {
      "image/png": "[encoded data removed]",
      "text/plain": [
       "<Figure size 360x360 with 2 Axes>"
      ]
     },
     "metadata": {
      "needs_background": "light"
     },
     "output_type": "display_data"
    }
   ],
   "source": [
    "Y_pred_cls = Model1_drop.predict(Xtest_arr)\n",
    "#classes_x=np.argmax(Y_pred_cls,axis=1)\n",
    "\n",
    "print('Accuracy Model1 (Dropout): '+ str(Model1_drop.evaluate(Xtest_arr,Ytest_arr)[1]))\n",
    "print('Recall_score: ' + str(recall_score(Ytest_arr,Y_pred_cls >0.5)))\n",
    "print('Precision_score: ' + str(precision_score(Ytest_arr,Y_pred_cls >0.5 )))\n",
    "print('F-score: ' + str(f1_score(Ytest_arr,Y_pred_cls >0.5)))\n",
    "conf_matrix(Y_pred_cls >0.5)"
   ]
  },
  {
   "cell_type": "code",
   "execution_count": 52,
   "metadata": {
    "_uuid": "7e0fc3d5bc45b38c24488b82554c039a2369c454"
   },
   "outputs": [
    {
     "name": "stdout",
     "output_type": "stream",
     "text": [
      "1425/1425 [==============================] - 3s 2ms/step\n"
     ]
    },
    {
     "data": {
      "image/png": "[encoded data removed]",
      "text/plain": [
       "<Figure size 432x288 with 1 Axes>"
      ]
     },
     "metadata": {
      "needs_background": "light"
     },
     "output_type": "display_data"
    }
   ],
   "source": [
    "#Plotting ROC curve\n",
    "Y_pred_prob = Model1_drop.predict(Xtest_arr).ravel()\n",
    "\n",
    "fpr_model1, tpr_model1, thresholds_model1 = roc_curve(Ytest_arr, Y_pred_prob, pos_label=1)\n",
    "auc_model1 = roc_auc_score(Ytest_arr, Y_pred_prob)\n",
    "\n",
    "plt.figure(1)\n",
    "plt.plot([0, 1], [0, 1], 'k--')\n",
    "# plot no skill\n",
    "plt.plot([0, 1], [0, 1], linestyle='--')\n",
    "#plot the roc curve for the model\n",
    "plt.plot(fpr_model1, tpr_model1, label='ROC (area = {:.3f})'.format(auc_model1))\n",
    "#plt.plot(fpr_rf, tpr_rf, label='RF (area = {:.3f})'.format(auc_rf))\n",
    "plt.xlabel('False positive rate')\n",
    "plt.ylabel('True positive rate')\n",
    "plt.title('ROC curve')\n",
    "plt.legend(loc='best')\n",
    "plt.show()"
   ]
  },
  {
   "cell_type": "markdown",
   "metadata": {
    "_uuid": "d0f96c2a9e7b41b967257d9ca697ad498194d7e1"
   },
   "source": [
    "ROC curves are generally not well suited for imbalanced datasets, as they make use of TN. Thus, they can be deceptive. In contrast, TN are not considered in the PR-curve. Hence, they are more suitable for an imbalanced classification."
   ]
  },
  {
   "cell_type": "code",
   "execution_count": 53,
   "metadata": {
    "_uuid": "8cbebd2681020dade632e5d5b6391a6ac6f65831"
   },
   "outputs": [
    {
     "data": {
      "image/png": "[encoded data removed]",
      "text/plain": [
       "<Figure size 432x288 with 1 Axes>"
      ]
     },
     "metadata": {
      "needs_background": "light"
     },
     "output_type": "display_data"
    }
   ],
   "source": [
    "#Calculating Precision and Recall for various thresholds\n",
    "precision, recall, thresholds_pr = precision_recall_curve(Ytest_arr, Y_pred_prob)\n",
    "\n",
    "#Auc for PR curve\n",
    "AUC_PRcurve= auc(recall, precision)\n",
    "\n",
    "plt.figure(1)\n",
    "# plot no skill\n",
    "plt.plot([0, 1], [0.5, 0.5], linestyle='--')\n",
    "#plot PR curve\n",
    "plt.plot(precision, recall, label = \"AUC = {:0.2f}\".format(AUC_PRcurve), lw = 3, alpha = 0.7)\n",
    "plt.xlabel('Precision', fontsize = 14)\n",
    "plt.ylabel('Recall', fontsize = 14)\n",
    "plt.title('Precision-Recall Curve', fontsize = 18)\n",
    "plt.legend(loc='best')\n",
    "plt.show()"
   ]
  },
  {
   "cell_type": "code",
   "execution_count": 57,
   "metadata": {
    "_uuid": "e0fbbb019181e556b6e2f54d6a3a99150d63899e"
   },
   "outputs": [
    {
     "name": "stdout",
     "output_type": "stream",
     "text": [
      "[0.4697986577181208, 0.5555555555555556, 0.5343511450381679, 0.46511627906976744, 0.5882352941176471, 0.590717299578059, 0.5843621399176954, 0.5204460966542751, 0.5, 0.5390625, 0.5283018867924528, 0.5338345864661654, 0.5283018867924528, 0.5185185185185185, 0.5147058823529412, 0.5405405405405406, 0.5149253731343283, 0.509090909090909, 0.5035971223021583, 0.590717299578059, 0.5109489051094891, 0.4827586206896552, 0.49822064056939497, 0.5702811244979921, 0.4778156996587031, 0.546875, 0.5568627450980391, 0.5772357723577236, 0.546875, 0.5263157894736842, 0.5857740585774058, 0.606060606060606, 0.6167400881057269, 0.425531914893617, 0.5328185328185329, 0.6831683168316832, 0.48951048951048953, 0.6363636363636364, 0.5577689243027889, 0.5318352059925094, 0.5533596837944664, 0.5109489051094891, 0.5204460966542751, 0.5303030303030303, 0.563265306122449, 0.45751633986928103, 0.5668016194331984, 0.5702479338842975, 0.43343653250773995, 0.5243445692883895, 0.532319391634981, 0.45016077170418, 0.4635761589403974, 0.5017921146953405, 0.5857740585774058, 0.5405405405405406, 0.606060606060606, 0.5259259259259259, 0.5384615384615384, 0.6666666666666666]\n",
      "FScore Mean: 0.5371981305717282\n",
      "----------------------------------------------------------------------------------------\n"
     ]
    }
   ],
   "source": [
    "#Training Multi-layer Perceptron with single hidden layer for 60 iterations and, appending the F-score for each iteration.\n",
    "f_scorelist1=[]\n",
    "\n",
    "n_inputs = X_adasampled.shape[1]\n",
    "es= keras.callbacks.EarlyStopping(monitor='val_loss',\n",
    "                              min_delta=0,\n",
    "                              patience=2,\n",
    "                              verbose=0, mode='min', restore_best_weights= True)\n",
    "for i in range(0,60):\n",
    "    First_Model = Sequential()\n",
    "    First_Model.add(Dense(65, input_shape=(n_inputs, ), kernel_initializer='he_normal', activation='relu'))\n",
    "    First_Model.add(Dropout(0.5))\n",
    "    First_Model.add(Dense(1, kernel_initializer='he_normal', activation='sigmoid'))\n",
    "\n",
    "    First_Model.compile(Adam(lr=0.001), loss='binary_crossentropy', metrics=['accuracy'])\n",
    "    \n",
    "    First_Model.fit(X_adasampled, Y_adasampled, validation_data=(Xval_arr, Yval_arr), batch_size=700, epochs=40, callbacks=[es], shuffle=True, verbose=0)\n",
    "    Y_first_pred = First_Model.predict(Xtest_arr, batch_size=200, verbose=0)\n",
    "    \n",
    "    f_score= f1_score(Ytest_arr,Y_first_pred >0.5)\n",
    "    f_scorelist1.append(f_score)\n",
    "\n",
    "print(f_scorelist1)\n",
    "print('FScore Mean: '+ str(np.mean(f_scorelist1)))\n",
    "print('-'*88)"
   ]
  },
  {
   "cell_type": "code",
   "execution_count": 58,
   "metadata": {
    "_uuid": "039bd2a3d41f9ee15e5a6a04e8bdfab2da64e45f"
   },
   "outputs": [
    {
     "name": "stdout",
     "output_type": "stream",
     "text": [
      "Epoch 1/40\n",
      "390/390 - 3s - loss: 0.3400 - accuracy: 0.8707 - val_loss: 0.0946 - val_accuracy: 0.9633 - 3s/epoch - 8ms/step\n",
      "Epoch 2/40\n",
      "390/390 - 2s - loss: 0.1066 - accuracy: 0.9695 - val_loss: 0.0463 - val_accuracy: 0.9833 - 2s/epoch - 6ms/step\n",
      "Epoch 3/40\n",
      "390/390 - 2s - loss: 0.0590 - accuracy: 0.9860 - val_loss: 0.0318 - val_accuracy: 0.9906 - 2s/epoch - 5ms/step\n",
      "Epoch 4/40\n",
      "390/390 - 2s - loss: 0.0371 - accuracy: 0.9919 - val_loss: 0.0253 - val_accuracy: 0.9949 - 2s/epoch - 5ms/step\n",
      "Epoch 5/40\n",
      "390/390 - 2s - loss: 0.0261 - accuracy: 0.9946 - val_loss: 0.0237 - val_accuracy: 0.9967 - 2s/epoch - 5ms/step\n",
      "Epoch 6/40\n",
      "390/390 - 2s - loss: 0.0195 - accuracy: 0.9961 - val_loss: 0.0240 - val_accuracy: 0.9977 - 2s/epoch - 5ms/step\n",
      "Epoch 7/40\n",
      "390/390 - 2s - loss: 0.0146 - accuracy: 0.9972 - val_loss: 0.0286 - val_accuracy: 0.9978 - 2s/epoch - 5ms/step\n",
      "dict_keys(['loss', 'accuracy', 'val_loss', 'val_accuracy'])\n"
     ]
    }
   ],
   "source": [
    "#Training Multi-layer perceptron with 2 hidden layers\n",
    "es= keras.callbacks.EarlyStopping(monitor='val_loss',\n",
    "                              min_delta=0,\n",
    "                              patience=2,\n",
    "                              verbose=0, mode='min', restore_best_weights= True)\n",
    "Model2 = Sequential()\n",
    "Model2.add(Dense(65, input_shape=(n_inputs, ), kernel_initializer='he_normal', activation='relu'))\n",
    "Model2.add(Dropout(0.5))\n",
    "Model2.add(Dense(65, kernel_initializer='he_normal', activation='relu'))\n",
    "Model2.add(Dropout(0.5))\n",
    "Model2.add(Dense(1, kernel_initializer='he_normal', activation='sigmoid'))\n",
    "\n",
    "Model2.compile(Adam(lr=0.001), loss='binary_crossentropy', metrics=['accuracy'])\n",
    "    \n",
    "his_mod2= Model2.fit(X_adasampled, Y_adasampled, validation_data=(Xval_arr, Yval_arr), batch_size=700, epochs=40, callbacks=[es], shuffle=True, verbose=2)\n",
    "print(his_mod2.history.keys())"
   ]
  },
  {
   "cell_type": "code",
   "execution_count": 60,
   "metadata": {
    "_uuid": "0a3760a9113a31d387e9a8f6c671c63c78d2512e"
   },
   "outputs": [
    {
     "data": {
      "image/png": "[encoded data removed]",
      "text/plain": [
       "<Figure size 432x288 with 1 Axes>"
      ]
     },
     "metadata": {
      "needs_background": "light"
     },
     "output_type": "display_data"
    },
    {
     "data": {
      "image/png": "[encoded data removed]",
      "text/plain": [
       "<Figure size 432x288 with 1 Axes>"
      ]
     },
     "metadata": {
      "needs_background": "light"
     },
     "output_type": "display_data"
    }
   ],
   "source": [
    "# summarize history for accuracy\n",
    "plt.plot(his_mod2.history['accuracy'])\n",
    "plt.plot(his_mod2.history['val_accuracy'])\n",
    "plt.title('model accuracy')\n",
    "plt.ylabel('accuracy')\n",
    "plt.xlabel('epoch')\n",
    "plt.legend(['train', 'val'], loc='upper left')\n",
    "plt.show()\n",
    "# summarize history for loss\n",
    "plt.plot(his_mod2.history['loss'])\n",
    "plt.plot(his_mod2.history['val_loss'])\n",
    "plt.title('model loss')\n",
    "plt.ylabel('loss')\n",
    "plt.xlabel('epoch')\n",
    "plt.legend(['train', 'val'], loc='upper left')\n",
    "plt.show()"
   ]
  },
  {
   "cell_type": "code",
   "execution_count": null,
   "metadata": {
    "_uuid": "fead19b39ace31a1715e05dcb01b46c1cafbe5d3"
   },
   "outputs": [],
   "source": [
    "# #Plotting model\n",
    "# plot_model(Model2, to_file='Model2.png', show_shapes=True)\n",
    "# IPython.display.Image('Model2.png')"
   ]
  },
  {
   "cell_type": "code",
   "execution_count": 72,
   "metadata": {
    "_uuid": "71e3224988435a3adc304c032a3cccdb61ae6629"
   },
   "outputs": [
    {
     "name": "stdout",
     "output_type": "stream",
     "text": [
      "1425/1425 [==============================] - 2s 1ms/step - loss: 0.0132 - accuracy: 0.9967\n",
      "Accuracy MLP: 0.9966644048690796\n",
      "1425/1425 [==============================] - 2s 1ms/step - loss: 0.0132 - accuracy: 0.9967\n",
      "Loss value: 0.013228313997387886\n",
      "Recall_score: 0.9113924050632911\n",
      "Precision_score: 0.3317972350230415\n",
      "F-score: 0.4864864864864865\n"
     ]
    },
    {
     "data": {
      "image/png": "[encoded data removed]",
      "text/plain": [
       "<Figure size 360x360 with 2 Axes>"
      ]
     },
     "metadata": {
      "needs_background": "light"
     },
     "output_type": "display_data"
    }
   ],
   "source": [
    "print('Accuracy MLP: '+ str(Model2.evaluate(Xtest_arr,Ytest_arr)[1]))\n",
    "print('Loss value: '+ str(Model2.evaluate(Xtest_arr,Ytest_arr)[0]))\n",
    "Y_mod2_pred = Model2.predict(Xtest_arr,batch_size=200, verbose=0)\n",
    "#Y_mod2_pred = Model2.predict_classes(Xtest_arr, batch_size=200, verbose=0)\n",
    "print('Recall_score: ' + str(recall_score(Ytest_arr,Y_mod2_pred > 0.5)))\n",
    "print('Precision_score: ' + str(precision_score(Ytest_arr, Y_mod2_pred > 0.5)))\n",
    "print('F-score: ' + str(f1_score(Ytest_arr,Y_mod2_pred > 0.5)))\n",
    "conf_matrix(Y_mod2_pred > 0.5)"
   ]
  },
  {
   "cell_type": "markdown",
   "metadata": {
    "_uuid": "838f7f878085a695877e007b5a1f2a4ab6dedd8a"
   },
   "source": [
    "First, let's compare the ROC and PR curves before iterating the model."
   ]
  },
  {
   "cell_type": "code",
   "execution_count": 74,
   "metadata": {
    "_uuid": "12f2b238c82340273734899916a3957083f5bb6c"
   },
   "outputs": [
    {
     "name": "stdout",
     "output_type": "stream",
     "text": [
      "1425/1425 [==============================] - 2s 1ms/step\n"
     ]
    },
    {
     "data": {
      "image/png": "[encoded data removed]",
      "text/plain": [
       "<Figure size 432x288 with 1 Axes>"
      ]
     },
     "metadata": {
      "needs_background": "light"
     },
     "output_type": "display_data"
    }
   ],
   "source": [
    "Y_pred_prob2 = Model2.predict(Xtest_arr).ravel()\n",
    "\n",
    "fpr_model2, tpr_model2, thresholds_model2 = roc_curve(Ytest_arr, Y_pred_prob2, pos_label=1)\n",
    "auc_model2 = roc_auc_score(Ytest_arr, Y_pred_prob2)\n",
    "\n",
    "plt.figure(1)\n",
    "plt.plot([0, 1], [0, 1], 'k--')\n",
    "# plot no skill\n",
    "plt.plot([0, 1], [0, 1], linestyle='--')\n",
    "#plot the roc curve for the model\n",
    "plt.plot(fpr_model1, tpr_model1, label='ROC Model_1 (area = {:.3f})'.format(auc_model1))\n",
    "plt.plot(fpr_model2, tpr_model2, label='ROC MOdel_2 (area = {:.3f})'.format(auc_model2))\n",
    "plt.xlabel('False positive rate')\n",
    "plt.ylabel('True positive rate')\n",
    "plt.title('ROC curve')\n",
    "plt.legend(loc='best')\n",
    "plt.show()"
   ]
  },
  {
   "cell_type": "markdown",
   "metadata": {
    "_uuid": "05ddb372255a73f996df229cf93764f4ceb57690"
   },
   "source": [
    "As observed, ROC curve is of no use. It does not provide any useful information. Thus, consider a P-R curve"
   ]
  },
  {
   "cell_type": "code",
   "execution_count": 75,
   "metadata": {
    "_uuid": "40c5af99a6b6891d6b1158c51cdf3a3bf8606026"
   },
   "outputs": [
    {
     "data": {
      "image/png": "[encoded data removed]",
      "text/plain": [
       "<Figure size 432x288 with 1 Axes>"
      ]
     },
     "metadata": {
      "needs_background": "light"
     },
     "output_type": "display_data"
    }
   ],
   "source": [
    "#Calculating Precision and Recall for various thresholds\n",
    "precision_2, recall_2, thresholds_pr_2 = precision_recall_curve(Ytest_arr, Y_pred_prob2)\n",
    "\n",
    "#Auc for PR curve\n",
    "AUC_PRcurve_2= auc(recall_2, precision_2)\n",
    "\n",
    "plt.figure(1)\n",
    "# plot no skill\n",
    "plt.plot([0, 1], [0.5, 0.5], linestyle='--')\n",
    "#plot PR curve\n",
    "plt.plot(precision, recall, label = \"AUC Model_1 = {:0.2f}\".format(AUC_PRcurve), lw = 3, alpha = 0.7)\n",
    "plt.plot(precision_2, recall_2, label = \"AUC Model_2 = {:0.2f}\".format(AUC_PRcurve_2), lw = 3, alpha = 0.7)\n",
    "plt.xlabel('Precision', fontsize = 14)\n",
    "plt.ylabel('Recall', fontsize = 14)\n",
    "plt.title('Precision-Recall Curve', fontsize = 18)\n",
    "plt.legend(loc='best')\n",
    "plt.show()"
   ]
  },
  {
   "cell_type": "code",
   "execution_count": 80,
   "metadata": {
    "_uuid": "6e361b3802f783b81bf83f509cba78d0157e6d25"
   },
   "outputs": [
    {
     "name": "stdout",
     "output_type": "stream",
     "text": [
      "[0.0035422037888129133, 0.0036340218041308247, 0.0036231884057971015, 0.003520499108734403, 0.0035624901355099095, 0.0038455921725161855, 0.003754128353173189, 0.0037291415893695857, 0.0035239539655633864, 0.0035680411905514653, 0.003604014598540146, 0.003567557803468208, 0.0035690083578043823, 0.003566108427752449, 0.0035293066476054322, 0.003535229230528271, 0.0036345233713654767, 0.0036338546458141675, 0.0035281245115333943, 0.003708049753578972, 0.003720711173907924, 0.00390547755586316, 0.003641979577253763, 0.0035317522408744436, 0.003503869780231965, 0.0035670745473427553, 0.0035457809694793537, 0.0035575970458434658, 0.00364980364980365, 0.0036385408990420045, 0.0037340769976130267, 0.0037439871093102057, 0.0035432364549695017, 0.0035894406833568084, 0.0035230110595790226, 0.0035057356497814464, 0.0035090057076864987, 0.0036259323006310957, 0.0036373682029559374, 0.0035575169432373404, 0.0035963854050485963, 0.00356433856704566, 0.0038773957643132343, 0.003511579321687336, 0.003517442507624836, 0.0035564759375140685, 0.003615808865597181, 0.003709007253691401, 0.0035998268437720713, 0.00353752462833602, 0.0035596809804893433, 0.0035409336411106876, 0.0035192444761225944, 0.0035608041107004417, 0.0035633739287325218, 0.003614072006953657, 0.0035355456600058175, 0.0035200285166867174, 0.003540457570529052, 0.003540060942821294]\n",
      "FScore Mean: 0.0035998487223282633\n",
      "----------------------------------------------------------------------------------------\n"
     ]
    }
   ],
   "source": [
    "#Iterating Model-2 with 2 hidden layer for 60 iterations.\n",
    "\n",
    "f_scorelist2=[]\n",
    "\n",
    "n_inputs = X_adasampled.shape[1]\n",
    "es= keras.callbacks.EarlyStopping(monitor='val_loss',\n",
    "                              min_delta=0,\n",
    "                              patience=2,\n",
    "                              verbose=0, mode='min', restore_best_weights= True)\n",
    "for i in range(0,60):\n",
    "    \n",
    "    Second_Model = Sequential()\n",
    "    Second_Model.add(Dense(65, input_shape=(n_inputs, ), kernel_initializer='he_normal', activation='relu'))\n",
    "    Second_Model.add(Dropout(0.5))\n",
    "    Second_Model.add(Dense(65, kernel_initializer='he_normal', activation='relu'))\n",
    "    Second_Model.add(Dropout(0.5))\n",
    "    Second_Model.add(Dense(1, kernel_initializer='he_normal', activation='sigmoid'))\n",
    "\n",
    "    Second_Model.compile(Adam(lr=0.001), loss='binary_crossentropy', metrics=['accuracy'])\n",
    "\n",
    "    Second_Model.fit(X_adasampled, Y_adasampled, validation_data=(Xval_arr, Yval_arr), batch_size=700, epochs=40, callbacks=[es], shuffle=True, verbose=0)\n",
    "    Y_second_pred = Second_Model.predict(Xtest_arr, batch_size=200, verbose=0)\n",
    "    \n",
    "    f_score= f1_score(Ytest_arr,Y_second_pred > 0.0)\n",
    "    f_scorelist2.append(f_score)\n",
    "\n",
    "print(f_scorelist2)\n",
    "print('FScore Mean: '+ str(np.mean(f_scorelist2)))\n",
    "print('-'*88)"
   ]
  },
  {
   "cell_type": "code",
   "execution_count": null,
   "metadata": {
    "_uuid": "273c9898bb9e5848ae512c1be750d884f7ca15cf"
   },
   "outputs": [],
   "source": [
    "#RESULTS ANALYSIS"
   ]
  },
  {
   "cell_type": "markdown",
   "metadata": {
    "_uuid": "350b9d114529db649a8e67c35a4f5961e7f8d94c"
   },
   "source": [
    "* If the Null Hypothesis is accepted, this means there is no difference between the datasets and the change of number of hidden layers does not affect the performance of the model.\n",
    "*  If the Null Hypothesis is rejected, this means there is significant difference between the datasets and the change of number of hidden layers affects the performance of the model."
   ]
  },
  {
   "cell_type": "code",
   "execution_count": 81,
   "metadata": {
    "_uuid": "4988ca4f8b56ce9e1d9671d701ee59a290460cd6"
   },
   "outputs": [
    {
     "name": "stdout",
     "output_type": "stream",
     "text": [
      "Model-1\n",
      "---------\n",
      "Average F-Score: 0.5371981305717282\n",
      "----------------------------------------\n",
      "Model-2\n",
      "---------\n",
      "Average F-Score: 0.0035998487223282633\n"
     ]
    }
   ],
   "source": [
    "#Comparing the mean performance of the F-score for both the models\n",
    "print('Model-1')\n",
    "print('---------')\n",
    "print('Average F-Score: '+ str(np.mean(f_scorelist1)))\n",
    "\n",
    "print('-'*40)\n",
    "\n",
    "print('Model-2')\n",
    "print('---------')\n",
    "print('Average F-Score: '+ str(np.mean(f_scorelist2)))"
   ]
  },
  {
   "cell_type": "code",
   "execution_count": 82,
   "metadata": {
    "_uuid": "eba43d93e9c4922cfb03cb7f856fea66e5970cc2"
   },
   "outputs": [
    {
     "name": "stdout",
     "output_type": "stream",
     "text": [
      "Model-1\n",
      "------------------\n",
      "F_score SD: 0    0.051604\n",
      "dtype: float64\n",
      "----------------------------------------\n",
      "Model-2\n",
      "------------------\n",
      "F_score SD: 0    0.000092\n",
      "dtype: float64\n"
     ]
    }
   ],
   "source": [
    "#Comparing the Standard Deviation for F-scores generated after iterations\n",
    "fscore_df1=pd.DataFrame(f_scorelist1)\n",
    "\n",
    "print('Model-1')\n",
    "print('------------------')\n",
    "print('F_score SD: ' + str(fscore_df1.std()))\n",
    "\n",
    "print('-'*40)\n",
    "\n",
    "fscore_df2=pd.DataFrame(f_scorelist2)\n",
    "\n",
    "print('Model-2')\n",
    "print('------------------')\n",
    "print('F_score SD: ' + str(fscore_df2.std()))"
   ]
  },
  {
   "cell_type": "code",
   "execution_count": 83,
   "metadata": {
    "_uuid": "365d502316d6183b984cd60683cb69b80e8e1640"
   },
   "outputs": [
    {
     "data": {
      "text/plain": [
       "<AxesSubplot:>"
      ]
     },
     "execution_count": 83,
     "metadata": {},
     "output_type": "execute_result"
    },
    {
     "data": {
      "image/png": "[encoded data removed]",
      "text/plain": [
       "<Figure size 432x288 with 1 Axes>"
      ]
     },
     "metadata": {
      "needs_background": "light"
     },
     "output_type": "display_data"
    }
   ],
   "source": [
    "#Visualize the results using a boxplot()\n",
    "\n",
    "results_fscore= pd.concat([fscore_df1, fscore_df2], axis=1)\n",
    "results_fscore.columns = ['Model_1_fscore', 'Model_2_fscore']\n",
    "\n",
    "results_fscore.boxplot()"
   ]
  },
  {
   "cell_type": "code",
   "execution_count": 85,
   "metadata": {
    "_uuid": "855b916cc28b915443d689f5ee166895d0d9e7a5"
   },
   "outputs": [
    {
     "data": {
      "text/plain": [
       "array([[<AxesSubplot:title={'center':'Model_1_fscore'}>,\n",
       "        <AxesSubplot:title={'center':'Model_2_fscore'}>]], dtype=object)"
      ]
     },
     "execution_count": 85,
     "metadata": {},
     "output_type": "execute_result"
    },
    {
     "data": {
      "image/png": "[encoded data removed]",
      "text/plain": [
       "<Figure size 432x288 with 2 Axes>"
      ]
     },
     "metadata": {
      "needs_background": "light"
     },
     "output_type": "display_data"
    }
   ],
   "source": [
    "#Distribution of the data using a Histogram\n",
    "results_fscore.hist(density=True)"
   ]
  },
  {
   "cell_type": "code",
   "execution_count": 86,
   "metadata": {
    "_uuid": "8b050f33c8bf891ca16e01520effd812f9b078bb"
   },
   "outputs": [
    {
     "name": "stdout",
     "output_type": "stream",
     "text": [
      "Model-1 Data is normal\n",
      "Model-2 Data is not normal\n"
     ]
    }
   ],
   "source": [
    "#Testing the Null Hypothesis that a sample comes from a Normal Distribution\n",
    "alpha = 0.05;\n",
    "\n",
    "s, p = stats.normaltest(fscore_df1)\n",
    "if p < alpha:\n",
    "  print('Model-1 Data is not normal')\n",
    "else:\n",
    "  print('Model-1 Data is normal')\n",
    "\n",
    "s, p = stats.normaltest(fscore_df2)\n",
    "if p < alpha:\n",
    "  print('Model-2 Data is not normal')\n",
    "else:\n",
    "  print('Model-2 Data is normal')"
   ]
  },
  {
   "cell_type": "code",
   "execution_count": 87,
   "metadata": {
    "_uuid": "ba60ce9c02ef08af63f6f86463bfb510b26a8420"
   },
   "outputs": [
    {
     "name": "stdout",
     "output_type": "stream",
     "text": [
      "null hypothesis rejected, significant difference between the data-sets\n"
     ]
    }
   ],
   "source": [
    "#Wilcoxon Signed-Rank Test\n",
    "#It tests the null hypothesis that two related paired samples come from the same distribution.\n",
    "#It is a non-parametric version of the paired T-test.\n",
    "\n",
    "s, p = stats.wilcoxon(fscore_df1[0], fscore_df2[0])\n",
    "\n",
    "if p < 0.05:\n",
    "  print('null hypothesis rejected, significant difference between the data-sets')\n",
    "else:\n",
    "  print('null hypothesis accepted, no significant difference between the data-sets')"
   ]
  },
  {
   "cell_type": "code",
   "execution_count": null,
   "metadata": {},
   "outputs": [],
   "source": []
  }
 ],
 "metadata": {
  "anaconda-cloud": {},
  "kernelspec": {
   "display_name": "Python 3 (ipykernel)",
   "language": "python",
   "name": "python3"
  },
  "language_info": {
   "codemirror_mode": {
    "name": "ipython",
    "version": 3
   },
   "file_extension": ".py",
   "mimetype": "text/x-python",
   "name": "python",
   "nbconvert_exporter": "python",
   "pygments_lexer": "ipython3",
   "version": "3.9.12"
  }
 },
 "nbformat": 4,
 "nbformat_minor": 1
}
